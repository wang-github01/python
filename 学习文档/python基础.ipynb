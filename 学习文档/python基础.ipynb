{
 "cells": [
  {
   "cell_type": "markdown",
   "id": "0b965a5e",
   "metadata": {},
   "source": [
    "# 人工智能从小白到大神\n"
   ]
  },
  {
   "cell_type": "markdown",
   "id": "3c89ec58",
   "metadata": {},
   "source": [
    "# Python基础知识"
   ]
  },
  {
   "cell_type": "markdown",
   "id": "9fb1f91e",
   "metadata": {},
   "source": [
    "## 1 变量\n",
    "### 变量的命名规则\n",
    "\n",
    "> - python中的标识符是区分大小写的；如：\n",
    "\n",
    "<center><img src=\"https://ai-studio-static-online.cdn.bcebos.com/bf7ee12dc158450487703254d5f408428c73a67c9c204ea499f198807d3df04b\" width=300 ></center>\n",
    "\n",
    "> - 由数字、字⺟、下划线组成\n",
    "> - 不能数字开头\n",
    "> - 不能使⽤内置关键字\n",
    "\n",
    "#### 什么是关键字？\n",
    "\n",
    "关键字，是python已经使用的了，已经有了特殊功能，所以不允许开发者自己定义和关键字相同的名字的变量。\n",
    "\n",
    "python的关键字：\n",
    "\n",
    "<center><img src=\"https://ai-studio-static-online.cdn.bcebos.com/b6bef21c49ff441199775888bf0089f6ae3589974909446db2f12fe051c1cfd3\" width=800 ></center>\n",
    "\n",
    "###  变量的命名习惯\n",
    "\n",
    "> - 见名知意:  \n",
    "  看一眼就知道是什么意思， 比如: 名字 就定义为 name , 学生 用 student   \n",
    "> - ⼤驼峰：即每个单词⾸字⺟都⼤写，例如： MyName 。\n",
    "> - ⼩驼峰：第⼆个（含）以后的单词⾸字⺟⼤写，例如： myName 。\n",
    "> - 下划线：例如： my_name   \n",
    "     这种方法可能用的最多\n"
   ]
  },
  {
   "cell_type": "markdown",
   "id": "47d71068",
   "metadata": {},
   "source": [
    "## 2 Python中的注释\n",
    "### python中注释主要包括单行注释和多行注释"
   ]
  },
  {
   "cell_type": "code",
   "execution_count": 34,
   "id": "842cc177",
   "metadata": {},
   "outputs": [
    {
     "name": "stdout",
     "output_type": "stream",
     "text": [
      "hello Python\n",
      "hello AI\n",
      "hello C++\n"
     ]
    }
   ],
   "source": [
    "# 井号单行注释\n",
    "\n",
    "\"\"\"\n",
    " 下⾯三⾏都是打印输出，输出内容分别是：\n",
    " hello Python\n",
    " hello AI\n",
    " hello C++\n",
    "\"\"\"\n",
    "'''\n",
    " 下⾯三⾏都是打印输出，输出内容分别是：\n",
    " hello Python\n",
    " hello AI\n",
    " hello C++\n",
    "'''\n",
    "print('hello Python')\n",
    "print('hello AI')\n",
    "print('hello C++')"
   ]
  },
  {
   "cell_type": "markdown",
   "id": "fbef7208",
   "metadata": {},
   "source": [
    "## 3 行与缩进\n",
    "    Python中比较特别的一点就是使用缩进来表示代码块，缩进的格式是可变的，但是同一个代码块的语句必须包含相同的缩进空格数，否则会报错。"
   ]
  },
  {
   "cell_type": "markdown",
   "id": "eb99c144",
   "metadata": {},
   "source": [
    "## 4 多行语句\n",
    "### 规则\n",
    "    语句较长时，使用反斜杠（\\），可以继续在第二行书写\n",
    "    "
   ]
  },
  {
   "cell_type": "code",
   "execution_count": 10,
   "id": "2132434b",
   "metadata": {},
   "outputs": [
    {
     "name": "stdout",
     "output_type": "stream",
     "text": [
      "yunchuang\n"
     ]
    }
   ],
   "source": [
    "name = \"yun\" + \"chuang\"\n",
    "print(name)"
   ]
  },
  {
   "cell_type": "code",
   "execution_count": 8,
   "id": "d9244317",
   "metadata": {},
   "outputs": [
    {
     "name": "stdout",
     "output_type": "stream",
     "text": [
      "yunchuang\n"
     ]
    }
   ],
   "source": [
    "name = \"yun\" + \\\n",
    "\"chuang\"\n",
    "print(name)"
   ]
  },
  {
   "cell_type": "markdown",
   "id": "8cbbac6b",
   "metadata": {},
   "source": [
    "## 5.输出与输入\n",
    "\n",
    "### 5.1 普通输出\n",
    "\n",
    "请看下面的例子："
   ]
  },
  {
   "cell_type": "code",
   "execution_count": 39,
   "id": "5d048cec",
   "metadata": {},
   "outputs": [
    {
     "name": "stdout",
     "output_type": "stream",
     "text": [
      "hello Python\n",
      "18\n"
     ]
    }
   ],
   "source": [
    "#打印输出\n",
    "print('hello Python')\n",
    "age = 18\n",
    "print(age)"
   ]
  },
  {
   "cell_type": "markdown",
   "id": "530f2a50",
   "metadata": {},
   "source": [
    "### 5.2 格式化输出\n",
    "\n",
    "请看下面的例子："
   ]
  },
  {
   "cell_type": "code",
   "execution_count": 40,
   "id": "abb7b9df",
   "metadata": {},
   "outputs": [
    {
     "name": "stdout",
     "output_type": "stream",
     "text": [
      "小明今年18岁\n",
      "小明明年19岁\n",
      "小明后年20岁\n"
     ]
    }
   ],
   "source": [
    "  \n",
    "    age = 18\n",
    "    print(\"小明今年%d岁\"%age)\n",
    "\n",
    "    age += 1\n",
    "    print(\"小明明年%d岁\"%age)\n",
    "\n",
    "    age += 1\n",
    "    print(\"小明后年%d岁\"%age)"
   ]
  },
  {
   "cell_type": "markdown",
   "id": "842e375a",
   "metadata": {},
   "source": [
    "所谓的格式化输出即按照⼀定的格式输出内容。  \n",
    "\n",
    "常用的格式化有：\n",
    "\n",
    "<center><img src=\"https://ai-studio-static-online.cdn.bcebos.com/377fa54d464049549d1f06b58dd329ca8930d8a9e86f4cc583f967a394031bfd\" width=800 ></center>\n",
    "\n",
    "我们体验一下："
   ]
  },
  {
   "cell_type": "code",
   "execution_count": 41,
   "id": "7eebd814",
   "metadata": {},
   "outputs": [
    {
     "name": "stdout",
     "output_type": "stream",
     "text": [
      "我的名字是John\n",
      "我的学号是1\n",
      "我的体重是75.50公⽄\n",
      "我的名字是John,今年18岁了\n",
      "我的名字是John,明年19岁了\n"
     ]
    }
   ],
   "source": [
    "#例子：体验一下\n",
    "\n",
    "age = 18\n",
    "name = 'John'\n",
    "weight = 75.5\n",
    "student_id = 1\n",
    "# 我的名字是TOM\n",
    "print('我的名字是%s' % name)\n",
    "\n",
    "# 我的学号是1\n",
    "print('我的学号是%d' % student_id)\n",
    "\n",
    "# 我的体重是75.50公⽄\n",
    "print('我的体重是%.2f公⽄'% weight)  #表示⼩数点后显示的⼩数位数\n",
    "\n",
    "# 我的名字是TOM，今年18岁了\n",
    "print('我的名字是%s,今年%d岁了'%(name,age))\n",
    "\n",
    "# 我的名字是TOM，明年19岁了\n",
    "print('我的名字是%s,明年%d岁了'%(name,age + 1))"
   ]
  },
  {
   "cell_type": "markdown",
   "id": "a882edb9",
   "metadata": {},
   "source": [
    "### 5.3 输入\n",
    "\n",
    "输入的语法：\n",
    "\n",
    "```\n",
    "     input(\"提示信息\")\n",
    "\n",
    "```\n",
    "\n",
    "> - 当程序执⾏到 input ，等待⽤户输⼊，输⼊完成之后才继续向下执⾏。\n",
    "> - 在Python中， input 接收⽤户输⼊后，⼀般存储到变量，⽅便使⽤。\n",
    "> - 在Python中， input 会把接收到的任意⽤户输⼊的数据都当做字符串处理\n",
    "\n"
   ]
  },
  {
   "cell_type": "code",
   "execution_count": 43,
   "id": "739d1c66",
   "metadata": {},
   "outputs": [
    {
     "name": "stdout",
     "output_type": "stream",
     "text": [
      "请输⼊您的密码：dd\n",
      "您输⼊的密码是dd\n"
     ]
    }
   ],
   "source": [
    "#输入的例子：\n",
    "\n",
    "password = input('请输⼊您的密码：')\n",
    "print(f'您输⼊的密码是{password}')"
   ]
  },
  {
   "cell_type": "markdown",
   "id": "25530851",
   "metadata": {},
   "source": [
    "## 6.运算符\n",
    "\n",
    "###  逻辑运算符  \n",
    "\n",
    "\n",
    "<center><img src=\"https://ai-studio-static-online.cdn.bcebos.com/989287be697f4029aac3e2c9e8fb850d3bdceb0fceed4521beb88ca334eeb227\" width=800 ></center>\n"
   ]
  },
  {
   "cell_type": "markdown",
   "id": "797ec1bf",
   "metadata": {},
   "source": [
    "## 7 数据类型\n",
    "    在Python中，能够直接处理的数据类型包括：数字、字符串、空行\n",
    "### 7.1 数字\n",
    "    Python中数字有4种类型：整数、布尔型、浮点数和复数。\n",
    "   > - int（整形），如 1。\n",
    "   > - bool（布尔型），如 True、False。\n",
    "   > - float（浮点型），如 1.23。\n",
    "   > - complex（复数），如 1+2j, 1.1+2.2j。"
   ]
  },
  {
   "cell_type": "code",
   "execution_count": 11,
   "id": "1d8712ff",
   "metadata": {},
   "outputs": [
    {
     "name": "stdout",
     "output_type": "stream",
     "text": [
      "<class 'int'>\n",
      "<class 'bool'>\n",
      "<class 'float'>\n",
      "<class 'complex'>\n"
     ]
    }
   ],
   "source": [
    "a = 1\n",
    "b = True\n",
    "c = 1.23\n",
    "d = 1+2j\n",
    "print(type(a))\n",
    "print(type(b))\n",
    "print(type(c))\n",
    "print(type(d))"
   ]
  },
  {
   "cell_type": "markdown",
   "id": "2301f474",
   "metadata": {},
   "source": [
    "### 7.2 字符串(序列)\n",
    "### 7.2.1 字符串的表示  \n",
    "    在Python中，用单引号或者双引号表示字符串，完全相同"
   ]
  },
  {
   "cell_type": "code",
   "execution_count": 37,
   "id": "0e273427",
   "metadata": {},
   "outputs": [
    {
     "name": "stdout",
     "output_type": "stream",
     "text": [
      "<class 'str'>\n",
      "<class 'str'>\n"
     ]
    }
   ],
   "source": [
    "#例子：字符串\n",
    "a = 'hello world'\n",
    "b = \"abcdefg\"\n",
    "print(type(a))\n",
    "print(type(b))"
   ]
  },
  {
   "cell_type": "markdown",
   "id": "6d8a6d6b",
   "metadata": {},
   "source": [
    "   ### 7.2.2 转义符：反斜杠 \"\\\" 是转义字符，在字符串上外加字母 \"r\"，就不会转义,例题中的\"\\n\"会被显示出来。"
   ]
  },
  {
   "cell_type": "code",
   "execution_count": 38,
   "id": "bb28adc4",
   "metadata": {},
   "outputs": [
    {
     "name": "stdout",
     "output_type": "stream",
     "text": [
      " i am Tom,\n",
      "       nice to meet you! \n",
      " i am Rose,\n",
      " nice to meet you! \n"
     ]
    }
   ],
   "source": [
    "#三引号字符串，注意：三引号形式的字符串⽀持换⾏。\n",
    "\n",
    "a = ''' i am Tom,\n",
    "       nice to meet you! '''\n",
    "b = \"\"\" i am Rose,\n",
    " nice to meet you! \"\"\"\n",
    "\n",
    "print(a)\n",
    "print(b)"
   ]
  },
  {
   "cell_type": "code",
   "execution_count": 24,
   "id": "ee3c8b88",
   "metadata": {},
   "outputs": [
    {
     "name": "stdout",
     "output_type": "stream",
     "text": [
      "123\n",
      "456\n",
      "123\\n456\n"
     ]
    }
   ],
   "source": [
    "print(\"123\\n456\")\n",
    "print(r\"123\\n456\")"
   ]
  },
  {
   "cell_type": "markdown",
   "id": "8b19681e",
   "metadata": {},
   "source": [
    "   ### 7.2.3 运算：加号 \"+\" 表示拼接（只能是相同类型进行拼接），乘号 \"*\" 重复"
   ]
  },
  {
   "cell_type": "code",
   "execution_count": 61,
   "id": "c7e3b1a3",
   "metadata": {},
   "outputs": [
    {
     "name": "stdout",
     "output_type": "stream",
     "text": [
      "yun\n",
      "chuang\n",
      "yunchuang\n",
      "yunyun\n"
     ]
    }
   ],
   "source": [
    "a = \"yun\"\n",
    "b = \"chuang\"\n",
    "c = a + b\n",
    "d = a * 2\n",
    "w = 123\n",
    "# q = w + a # 报错\n",
    "print(a)\n",
    "print(b)\n",
    "print(c)\n",
    "print(d)\n",
    "# print(q)"
   ]
  },
  {
   "cell_type": "markdown",
   "id": "7a1acdec",
   "metadata": {},
   "source": [
    "   ### 7.2.4索引方式：左往右以0开始，从右往左以-1开始"
   ]
  },
  {
   "cell_type": "code",
   "execution_count": 26,
   "id": "5bcb4f58",
   "metadata": {},
   "outputs": [
    {
     "name": "stdout",
     "output_type": "stream",
     "text": [
      "1\n",
      "6\n"
     ]
    }
   ],
   "source": [
    "e = c[0]\n",
    "f = c[-1]\n",
    "print(e)\n",
    "print(f)\n"
   ]
  },
  {
   "cell_type": "markdown",
   "id": "41d2c898",
   "metadata": {},
   "source": [
    "   ###  7.2.5 字符串的切片\n",
    "\n",
    "切片是指 在字符串、列表、元组 中，截取其中一部分的操作。\n",
    "\n",
    "```\n",
    "序列[开始位置下标:结束位置下标:步⻓]\n",
    "```\n",
    "#### 注意：\n",
    "\n",
    "选取的区间属于左闭右开型，即从\"起始\"位开始，到\"结束\"位的前一位结束（不包含结束位本身)。"
   ]
  },
  {
   "cell_type": "code",
   "execution_count": 56,
   "id": "ffaa6c50",
   "metadata": {},
   "outputs": [
    {
     "name": "stdout",
     "output_type": "stream",
     "text": [
      "[3, 4, 5]\n",
      "[1, 2, 3, 4, 5, 6, 7, 8, 9, 10]\n",
      "[1, 3, 5, 7, 9]\n",
      "[1, 5, 9]\n"
     ]
    }
   ],
   "source": [
    "#例子：字符串的切片\n",
    "numbers = [1,2,3,4,5,6,7,8,9,10]\n",
    "print(numbers[2:5])   #访问下标为2到5（不包括5）的元素\n",
    "# 步长就是每隔多少取出一个元素\n",
    "print(numbers[0:10:1]) #步长为1，访问列表中的元素\n",
    "print(numbers[0:10:2]) #步长为2，访问列表中的元素 \n",
    "print(numbers[::4]) #从序列中每隔3个元素取出一个\n"
   ]
  },
  {
   "cell_type": "markdown",
   "id": "f3a23533",
   "metadata": {},
   "source": [
    "### 7.2.6 可以使用 in 运算符查看某个值是否存在于某个序列中。若存在，则返回 True：若不存在，则返回 False"
   ]
  },
  {
   "cell_type": "code",
   "execution_count": 69,
   "id": "345ebe0e",
   "metadata": {},
   "outputs": [
    {
     "name": "stdout",
     "output_type": "stream",
     "text": [
      "True\n",
      "False\n",
      "请输入一个用名王\n",
      "False\n"
     ]
    }
   ],
   "source": [
    "name = \"wangning\"\n",
    "print('a' in name) # 判断a是否在字符串name中\n",
    "print('x' in name) # 判断x是否在字符串name中\n",
    "users = ['feng','meng','ru']\n",
    "user=input('请输入一个用名') in users # 输入一个检查用户判断是否在用户列表中\n",
    "print(user)"
   ]
  },
  {
   "cell_type": "markdown",
   "id": "f94a3cc8",
   "metadata": {},
   "source": [
    "## 8 列表（java中的list集合）\n",
    "### 列表是Python中最常用的数据类型之一。列表通常用方括号表示，括号中各元素用逗号隔开，每个元素可以是不同的数据类型\n",
    "#### 创建方法入下"
   ]
  },
  {
   "cell_type": "code",
   "execution_count": 73,
   "id": "2a92c1a7",
   "metadata": {},
   "outputs": [
    {
     "name": "stdout",
     "output_type": "stream",
     "text": [
      "['yun', 'chuang', 30, 40]\n",
      "[1, 2, 3, 4, 5]\n",
      "['a', 'b', 'c', 'd']\n"
     ]
    }
   ],
   "source": [
    "list1 = ['yun','chuang',30,40]\n",
    "list2 = [1,2,3,4,5]\n",
    "list3 = [\"a\",\"b\",\"c\",\"d\"]\n",
    "print(list1)\n",
    "print(list2)\n",
    "print(list3)"
   ]
  },
  {
   "cell_type": "markdown",
   "id": "51ce76d7",
   "metadata": {},
   "source": [
    "#### 访问列表中的值有两种常用的方法：可以通过单个索引值来访问单个元素，也可以通过一个索引区间来访问多个元素。需要注意的是，使用区间访问多个元素，采用的是前闭后开的原则。也就是说，若有列表list[1,3]则访问的是索引1到2的元素，包括1不包括3.\n",
    "列表访问例如下："
   ]
  },
  {
   "cell_type": "code",
   "execution_count": 79,
   "id": "e17c8a6d",
   "metadata": {},
   "outputs": [
    {
     "name": "stdout",
     "output_type": "stream",
     "text": [
      "list_1[0]: yun\n",
      "list_2[1,6]: [2, 3, 4, 5, 6]\n",
      "0\n"
     ]
    }
   ],
   "source": [
    "list_1 = ['yun','chuang',2,20]\n",
    "list_2 = [1,2,3,4,5,6,7,8]\n",
    "print(\"list_1[0]:\",list_1[0])\n",
    "print(\"list_2[1,6]:\",list_2[1:6])"
   ]
  },
  {
   "cell_type": "markdown",
   "id": "8003c6f0",
   "metadata": {},
   "source": [
    "#### 从列表中删除元素可使用del语句。示例如下"
   ]
  },
  {
   "cell_type": "code",
   "execution_count": 77,
   "id": "0b4c2d0e",
   "metadata": {},
   "outputs": [
    {
     "name": "stdout",
     "output_type": "stream",
     "text": [
      "['name', 'jing', 'yun', 'chuang', 'da', 'shu', 'ju']\n",
      "['name', 'jing', 'yun', 'da', 'shu', 'ju']\n"
     ]
    }
   ],
   "source": [
    "names = ['name','jing','yun','chuang','da','shu','ju']\n",
    "print(names)\n",
    "del names[3] # 删除索引下标为3的元素\n",
    "print(names)"
   ]
  },
  {
   "cell_type": "markdown",
   "id": "71a2512c",
   "metadata": {},
   "source": [
    "#### 列表中的其他方法以及作用"
   ]
  },
  {
   "cell_type": "code",
   "execution_count": 117,
   "id": "f27c8241",
   "metadata": {},
   "outputs": [
    {
     "name": "stdout",
     "output_type": "stream",
     "text": [
      "['yun', 'chuang', 2, 20, 'chuang', 'wang']\n",
      "1\n",
      "2\n",
      "['wang', 4, 'yun', 'chuang', 2, 20, 'chuang', 'wang']\n",
      "['yun', 2, 20, 'chuang', 'wang']\n",
      "['wang', 'chuang', 20, 2, 'yun']\n",
      "[1, 2, 4, 7, 9]\n",
      "['wang', 'chuang', 20, 2, 'yun']\n",
      "5\n",
      "[]\n"
     ]
    }
   ],
   "source": [
    "list_3 = ['yun','chuang',2,20,'chuang']\n",
    "list_4 = ['wang',4]\n",
    "list_5 = [4,7,2,9,1]\n",
    "list_3.append('wang')                     # list.append(obj) 在列表末尾添加新的对象\n",
    "print(list_3)\n",
    "print(list_3.index('chuang'))             # list.index(obj)从列表中找出某个值的第一个匹配项的索引位置（返回值是多索引号）\n",
    "print(list_3.count('chuang'))             # list.count(obj) 统计某个元素在列表中出现的次数\n",
    "list_4.extend(list_3)                     # list.extend(seq) 在列表末尾一次性追加另一个序列中的多个值（用新列表扩展原列表）\n",
    "print(list_4)\n",
    "list_3.remove('chuang')                   # list.remove(obj) 移除列表中某个值的第一个匹配项\n",
    "print(list_3)\n",
    "list_3.reverse()                          # list.reverse() 方向列表中的元素\n",
    "print(list_3) \n",
    "list_5.sort(key=None, reverse=False)    # list.sort(key=None, reverse=False) 对列表进行升序排列\n",
    "print(list_5)\n",
    "list_6 = list_3.copy()                   #list.copy() 复制列表\n",
    "print(list_6)\n",
    "print(len(list_6))                       #用于统计列表中的元素个数\n",
    "list_6.clear()                           #清空列表\n",
    "print(list_6)"
   ]
  },
  {
   "cell_type": "markdown",
   "id": "3274acab",
   "metadata": {},
   "source": [
    "## 9 元组\n",
    "#### Python 的元组与列表类似，元素之间也用逗号隔开。不同的是：列表可以被修改，元组不可以被修改；列表使用方括号表示，而元组使用小括号便是。元组可以看作一个特殊的列表（当需要禁止来使用某些序列被修改时，可以使用元组；当需要适当的修改部分内容时，可以使用列表）。"
   ]
  },
  {
   "cell_type": "code",
   "execution_count": 118,
   "id": "f6d9e82f",
   "metadata": {},
   "outputs": [
    {
     "name": "stdout",
     "output_type": "stream",
     "text": [
      "(1, 2, 3, 2)\n",
      "(1, 2, 3)\n",
      "()\n",
      "(725,)\n"
     ]
    }
   ],
   "source": [
    "yunzu_1 = 1,2,3,2   # 元组在赋值的时候可以省略小括号\n",
    "yunzu_2 = (1,2,3)\n",
    "print(yunzu_1)\n",
    "print(yunzu_2)\n",
    "yunzu_3 = ()     # 当定义空元组时，必须用小括号表示\n",
    "print(yunzu_3)\n",
    "yunnzu_4 = 725,  # 当元组中就一个值，在值后面必须加上逗号。\n",
    "print(yunnzu_4)"
   ]
  },
  {
   "cell_type": "markdown",
   "id": "eeda3aa2",
   "metadata": {},
   "source": [
    "#### 元组数据不⽀持修改，只⽀持查找："
   ]
  },
  {
   "cell_type": "code",
   "execution_count": 119,
   "id": "29e11508",
   "metadata": {},
   "outputs": [
    {
     "name": "stdout",
     "output_type": "stream",
     "text": [
      "aa\n",
      "0\n",
      "2\n",
      "4\n"
     ]
    }
   ],
   "source": [
    "tuple1 = ('aa', 'bb', 'cc', 'bb')\n",
    "print(tuple1[0]) # aa\n",
    "print(tuple1.index('aa')) # 0\n",
    "print(tuple1.count('bb')) # 2\n",
    "print(len(tuple1)) # 4   len()：统计元组中数据的个数。"
   ]
  },
  {
   "cell_type": "markdown",
   "id": "8015b8d8",
   "metadata": {},
   "source": [
    "#### tuple() 函数，它将一个序列作为参数，并将其转换成元组。如果参数已是元组，就直接返回这个参数。"
   ]
  },
  {
   "cell_type": "code",
   "execution_count": 120,
   "id": "7cf8d254",
   "metadata": {},
   "outputs": [
    {
     "name": "stdout",
     "output_type": "stream",
     "text": [
      "('w', 'a', 'n', 'g', 'n', 'i', 'n', 'g')\n"
     ]
    }
   ],
   "source": [
    "name = 'wangning'\n",
    "tuple_2 = tuple(name)\n",
    "print(tuple_2)"
   ]
  },
  {
   "cell_type": "markdown",
   "id": "ef9fe445",
   "metadata": {},
   "source": [
    "## 10 字典（java中的Map集合）\n",
    "#### 字典是Python中一种更复杂的数据结构，可存储任意类型的对象，字典用大括号（{}）表示，每个元素之间用逗号（,)分开。字典中的每一个元素为一对键值（key=>value）对，键值之间用冒号（:)分割，\n",
    "    格式如下：d = {key1:value1,key2:value2.....}\n",
    "    键必须是唯一的，而值可以不唯一。值可以去任何数据类型，但键必须是不可变的，如字符串、数字或元组(类似于java中的set方法)。"
   ]
  },
  {
   "cell_type": "markdown",
   "id": "8f36d9b1",
   "metadata": {},
   "source": [
    "#### ①增/改\n",
    "\n",
    "    写法：字典序列[key] = 值\n",
    "    注意：如果key存在则修改这个key对应的值；如果key不存在则新增此键值对"
   ]
  },
  {
   "cell_type": "code",
   "execution_count": 125,
   "id": "1c5ecb11",
   "metadata": {},
   "outputs": [
    {
     "name": "stdout",
     "output_type": "stream",
     "text": [
      "{'name': 'Tom', 'age': 20, 'gender': '男'}\n",
      "{'name': 'Rose', 'age': 20, 'gender': '男'}\n",
      "{'name': 'Rose', 'age': 20, 'gender': '男', 'id': 110}\n"
     ]
    }
   ],
   "source": [
    "dict1 = {'name': 'Tom', 'age': 20, 'gender': '男'}\n",
    "print(dict1)\n",
    "dict1['name'] = 'Rose'\n",
    "# 结果：{'name': 'Rose', 'age': 20, 'gender': '男'}\n",
    "print(dict1)\n",
    "dict1['id'] = 110\n",
    "# {'name': 'Rose', 'age': 20, 'gender': '男', 'id': 110}\n",
    "print(dict1)"
   ]
  },
  {
   "cell_type": "markdown",
   "id": "8f199a4c",
   "metadata": {},
   "source": [
    "#### ②删\n",
    "> - del：删除字典或删除字典中指定键值对。"
   ]
  },
  {
   "cell_type": "code",
   "execution_count": 127,
   "id": "44e96d87",
   "metadata": {},
   "outputs": [
    {
     "name": "stdout",
     "output_type": "stream",
     "text": [
      "{'name': 'Tom', 'age': 20}\n"
     ]
    }
   ],
   "source": [
    "dict1 = {'name': 'Tom', 'age': 20, 'gender': '男'}\n",
    "del dict1['gender']\n",
    "# 结果：{'name': 'Tom', 'age': 20}\n",
    "print(dict1)"
   ]
  },
  {
   "cell_type": "markdown",
   "id": "528422d4",
   "metadata": {},
   "source": [
    "#### ③查\n",
    "\n",
    "- > key值查找\n",
    "\n",
    "如果当前查找的key存在，则返回对应的值；否则则报错"
   ]
  },
  {
   "cell_type": "code",
   "execution_count": 128,
   "id": "c20b89ec",
   "metadata": {},
   "outputs": [
    {
     "name": "stdout",
     "output_type": "stream",
     "text": [
      "dict_keys(['name', 'age', 'gender'])\n"
     ]
    }
   ],
   "source": [
    "dict1 = {'name': 'Tom', 'age': 20, 'gender': '男'}\n",
    "print(dict1.keys()) # dict_keys(['name', 'age', 'gender'])"
   ]
  },
  {
   "cell_type": "code",
   "execution_count": 129,
   "id": "b9a0a691",
   "metadata": {},
   "outputs": [
    {
     "name": "stdout",
     "output_type": "stream",
     "text": [
      "dict_values(['Tom', 20, '男'])\n"
     ]
    }
   ],
   "source": [
    "dict1 = {'name': 'Tom', 'age': 20, 'gender': '男'}\n",
    "print(dict1.values()) # dict_values(['Tom', 20, '男'])"
   ]
  },
  {
   "cell_type": "code",
   "execution_count": 131,
   "id": "2e2983a1",
   "metadata": {},
   "outputs": [
    {
     "name": "stdout",
     "output_type": "stream",
     "text": [
      "dict_items([('name', 'Tom'), ('age', 20), ('gender', '男')])\n"
     ]
    }
   ],
   "source": [
    "dict1 = {'name': 'Tom', 'age': 20, 'gender': '男'}\n",
    "print(dict1.items()) # dict_items([('name', 'Tom'), ('age', 20), ('gender','男')]) items()查询所有"
   ]
  },
  {
   "cell_type": "markdown",
   "id": "f0fa6ebb",
   "metadata": {},
   "source": [
    "## 11 集合(java中的set集合)\n",
    "\n",
    "#### 集合用大括号{}表示,集合中的数据可以是任何类型，集合中的元素不可重复"
   ]
  },
  {
   "cell_type": "code",
   "execution_count": 163,
   "id": "43d661a8",
   "metadata": {},
   "outputs": [
    {
     "name": "stdout",
     "output_type": "stream",
     "text": [
      "{1, 3, 4, 'd'}\n"
     ]
    }
   ],
   "source": [
    "s_test = {1,3,4,\"d\",3}\n",
    "print(s_test)"
   ]
  },
  {
   "cell_type": "markdown",
   "id": "673fdb26",
   "metadata": {},
   "source": [
    "### ①增加数据\n",
    "\n",
    "- > add()\n",
    "\n",
    "因为集合有去重功能，所以，当向集合内追加的数据是当前集合已有数据的话，则不进⾏任何操作。"
   ]
  },
  {
   "cell_type": "code",
   "execution_count": 164,
   "id": "4365a306",
   "metadata": {},
   "outputs": [
    {
     "name": "stdout",
     "output_type": "stream",
     "text": [
      "{100, 10, 20}\n"
     ]
    }
   ],
   "source": [
    "s1 = {10, 20}\n",
    "s1.add(100)\n",
    "s1.add(10)\n",
    "print(s1) # {100, 10, 20}"
   ]
  },
  {
   "cell_type": "markdown",
   "id": "2bb1051e",
   "metadata": {},
   "source": [
    "- > update(), 追加的数据是序列。"
   ]
  },
  {
   "cell_type": "code",
   "execution_count": 165,
   "id": "cfce55fb",
   "metadata": {},
   "outputs": [
    {
     "name": "stdout",
     "output_type": "stream",
     "text": [
      "{'b', 100, 200, 10, 'c', 20, 'a'}\n"
     ]
    }
   ],
   "source": [
    "s1 = {10, 20}\n",
    "#s1.update(100) # 报错\n",
    "s1.update([100, 200])\n",
    "s1.update('abc')\n",
    "print(s1)"
   ]
  },
  {
   "cell_type": "markdown",
   "id": "bc5221c5",
   "metadata": {},
   "source": [
    "### ②删除数据\n",
    "- > remove()，删除集合中的指定数据，如果数据不存在则报错。"
   ]
  },
  {
   "cell_type": "code",
   "execution_count": 166,
   "id": "910555f5",
   "metadata": {},
   "outputs": [
    {
     "name": "stdout",
     "output_type": "stream",
     "text": [
      "{20}\n"
     ]
    },
    {
     "ename": "KeyError",
     "evalue": "10",
     "output_type": "error",
     "traceback": [
      "\u001b[1;31m---------------------------------------------------------------------------\u001b[0m",
      "\u001b[1;31mKeyError\u001b[0m                                  Traceback (most recent call last)",
      "\u001b[1;32m<ipython-input-166-b4134b583975>\u001b[0m in \u001b[0;36m<module>\u001b[1;34m\u001b[0m\n\u001b[0;32m      2\u001b[0m \u001b[0ms1\u001b[0m\u001b[1;33m.\u001b[0m\u001b[0mremove\u001b[0m\u001b[1;33m(\u001b[0m\u001b[1;36m10\u001b[0m\u001b[1;33m)\u001b[0m\u001b[1;33m\u001b[0m\u001b[1;33m\u001b[0m\u001b[0m\n\u001b[0;32m      3\u001b[0m \u001b[0mprint\u001b[0m\u001b[1;33m(\u001b[0m\u001b[0ms1\u001b[0m\u001b[1;33m)\u001b[0m\u001b[1;33m\u001b[0m\u001b[1;33m\u001b[0m\u001b[0m\n\u001b[1;32m----> 4\u001b[1;33m \u001b[0ms1\u001b[0m\u001b[1;33m.\u001b[0m\u001b[0mremove\u001b[0m\u001b[1;33m(\u001b[0m\u001b[1;36m10\u001b[0m\u001b[1;33m)\u001b[0m \u001b[1;31m# 报错\u001b[0m\u001b[1;33m\u001b[0m\u001b[1;33m\u001b[0m\u001b[0m\n\u001b[0m\u001b[0;32m      5\u001b[0m \u001b[0mprint\u001b[0m\u001b[1;33m(\u001b[0m\u001b[0ms1\u001b[0m\u001b[1;33m)\u001b[0m\u001b[1;33m\u001b[0m\u001b[1;33m\u001b[0m\u001b[0m\n",
      "\u001b[1;31mKeyError\u001b[0m: 10"
     ]
    }
   ],
   "source": [
    "s1 = {10, 20}\n",
    "s1.remove(10)\n",
    "print(s1)\n",
    "s1.remove(10) # 报错\n",
    "print(s1)"
   ]
  },
  {
   "cell_type": "markdown",
   "id": "fee9cbff",
   "metadata": {},
   "source": [
    "- > discard()，删除集合中的指定数据，如果数据不存在也不会报错。"
   ]
  },
  {
   "cell_type": "code",
   "execution_count": 168,
   "id": "3f4e1f71",
   "metadata": {},
   "outputs": [
    {
     "name": "stdout",
     "output_type": "stream",
     "text": [
      "{20}\n",
      "{20}\n"
     ]
    }
   ],
   "source": [
    "s1 = {10, 20}\n",
    "s1.discard(10)\n",
    "print(s1)\n",
    "s1.discard(10)\n",
    "print(s1)"
   ]
  },
  {
   "cell_type": "markdown",
   "id": "27748c99",
   "metadata": {},
   "source": [
    "### ③查找数据  \n",
    "> - in：判断数据在集合序列  \n",
    "> - not in：判断数据不在集合序列"
   ]
  },
  {
   "cell_type": "code",
   "execution_count": 169,
   "id": "c809890b",
   "metadata": {},
   "outputs": [
    {
     "name": "stdout",
     "output_type": "stream",
     "text": [
      "True\n",
      "False\n"
     ]
    }
   ],
   "source": [
    "s1 = {10, 20, 30, 40, 50}\n",
    "print(10 in s1)\n",
    "print(10 not in s1)"
   ]
  },
  {
   "cell_type": "markdown",
   "id": "c1983561",
   "metadata": {},
   "source": [
    "# 12.(字符串、列表、元组、集合、字典）公共方法\n",
    "\n",
    "\n",
    "<center><img src=\"https://ai-studio-static-online.cdn.bcebos.com/76298c37e5b745f4b047ebe2660a0495808db9ba49434443ba03a6d6736fd8a9\"  width=600></center>"
   ]
  },
  {
   "cell_type": "code",
   "execution_count": 171,
   "id": "137ebc3a",
   "metadata": {},
   "outputs": [
    {
     "name": "stdout",
     "output_type": "stream",
     "text": [
      "aabb\n",
      "[1, 2, 10, 20]\n",
      "(1, 2, 10, 20)\n"
     ]
    }
   ],
   "source": [
    "#例子：+\n",
    "# 1. 字符串\n",
    "str1 = 'aa'\n",
    "str2 = 'bb'\n",
    "str3 = str1 + str2\n",
    "print(str3) # aabb\n",
    "# 2. 列表\n",
    "list1 = [1, 2]\n",
    "list2 = [10, 20]\n",
    "list3 = list1 + list2\n",
    "print(list3) # [1, 2, 10, 20]\n",
    "# 3. 元组\n",
    "t1 = (1, 2)\n",
    "t2 = (10, 20)\n",
    "t3 = t1 + t2\n",
    "print(t3) # (10, 20, 100, 200)"
   ]
  },
  {
   "cell_type": "code",
   "execution_count": 172,
   "id": "2decbe2b",
   "metadata": {},
   "outputs": [
    {
     "name": "stdout",
     "output_type": "stream",
     "text": [
      "----------\n",
      "['hello', 'hello', 'hello', 'hello']\n",
      "('world', 'world', 'world', 'world')\n"
     ]
    }
   ],
   "source": [
    "#例子：*\n",
    "# 1. 字符串\n",
    "print('-' * 10) # ----------\n",
    "# 2. 列表\n",
    "list1 = ['hello']\n",
    "print(list1 * 4) # ['hello', 'hello', 'hello', 'hello']\n",
    "# 3. 元组\n",
    "t1 = ('world',)\n",
    "print(t1 * 4) # ('world', 'world', 'world', 'world')"
   ]
  },
  {
   "cell_type": "code",
   "execution_count": 173,
   "id": "71b09736",
   "metadata": {},
   "outputs": [
    {
     "name": "stdout",
     "output_type": "stream",
     "text": [
      "True\n",
      "False\n",
      "True\n",
      "False\n",
      "False\n",
      "True\n"
     ]
    }
   ],
   "source": [
    "#in或not in\n",
    "# 1. 字符串\n",
    "print('a' in 'abcd') # True\n",
    "print('a' not in 'abcd') # False\n",
    "# 2. 列表\n",
    "list1 = ['a', 'b', 'c', 'd']\n",
    "print('a' in list1) # True\n",
    "print('a' not in list1) # False\n",
    "# 3. 元组\n",
    "t1 = ('a', 'b', 'c', 'd')\n",
    "print('aa' in t1) # False\n",
    "print('aa' not in t1) # True"
   ]
  },
  {
   "cell_type": "markdown",
   "id": "55c77309",
   "metadata": {},
   "source": [
    "\n",
    "<center><img src=\"https://ai-studio-static-online.cdn.bcebos.com/fa81fcfc6db84832b08e54aa3baf4317c22720d9b3304af8950a6d4bcd2c9885\"  width=600></center>\n",
    "\n"
   ]
  },
  {
   "cell_type": "code",
   "execution_count": 174,
   "id": "547b8e7a",
   "metadata": {},
   "outputs": [
    {
     "name": "stdout",
     "output_type": "stream",
     "text": [
      "7\n",
      "4\n",
      "5\n",
      "3\n",
      "2\n"
     ]
    }
   ],
   "source": [
    "#例子：len函数\n",
    "# 1. 字符串\n",
    "str1 = 'abcdefg'\n",
    "print(len(str1)) # 7\n",
    "# 2. 列表\n",
    "list1 = [10, 20, 30, 40]\n",
    "print(len(list1)) # 4\n",
    "# 3. 元组\n",
    "t1 = (10, 20, 30, 40, 50)\n",
    "print(len(t1)) # 5\n",
    "# 4. 集合\n",
    "s1 = {10, 20, 30}\n",
    "print(len(s1)) # 3\n",
    "# 5. 字典\n",
    "dict1 = {'name': 'Rose', 'age': 18}\n",
    "print(len(dict1)) # 2"
   ]
  },
  {
   "cell_type": "code",
   "execution_count": 175,
   "id": "1cd890d7",
   "metadata": {},
   "outputs": [
    {
     "name": "stdout",
     "output_type": "stream",
     "text": [
      "abcdefg\n",
      "[20, 30, 40]\n"
     ]
    }
   ],
   "source": [
    "#例子：del函数\n",
    "# 1. 字符串\n",
    "str1 = 'abcdefg'\n",
    "#del str1\n",
    "print(str1)\n",
    "# 2. 列表\n",
    "list1 = [10, 20, 30, 40]\n",
    "del(list1[0])\n",
    "print(list1) # [20, 30, 40]"
   ]
  },
  {
   "cell_type": "code",
   "execution_count": 177,
   "id": "4019679b",
   "metadata": {},
   "outputs": [
    {
     "name": "stdout",
     "output_type": "stream",
     "text": [
      "g\n",
      "40\n"
     ]
    }
   ],
   "source": [
    "#max函数\n",
    "# 1. 字符串\n",
    "str1 = 'abcdefg'\n",
    "print(max(str1)) # g\n",
    "# 2. 列表\n",
    "list1 = [10, 20, 30, 40]\n",
    "print(max(list1)) # 40"
   ]
  },
  {
   "cell_type": "code",
   "execution_count": 176,
   "id": "de758964",
   "metadata": {},
   "outputs": [
    {
     "name": "stdout",
     "output_type": "stream",
     "text": [
      "a\n",
      "10\n"
     ]
    }
   ],
   "source": [
    "#例子：min函数\n",
    "# 1. 字符串\n",
    "str1 = 'abcdefg'\n",
    "print(min(str1)) # a\n",
    "# 2. 列表\n",
    "list1 = [10, 20, 30, 40]\n",
    "print(min(list1)) # 10"
   ]
  },
  {
   "cell_type": "code",
   "execution_count": 178,
   "id": "cb292c2b",
   "metadata": {},
   "outputs": [
    {
     "name": "stdout",
     "output_type": "stream",
     "text": [
      "1\n",
      "2\n",
      "3\n",
      "4\n",
      "5\n",
      "6\n",
      "7\n",
      "8\n",
      "9\n",
      "----------\n",
      "1\n",
      "3\n",
      "5\n",
      "7\n",
      "9\n",
      "----------\n",
      "0\n",
      "1\n",
      "2\n",
      "3\n",
      "4\n",
      "5\n",
      "6\n",
      "7\n",
      "8\n",
      "9\n"
     ]
    }
   ],
   "source": [
    "#例子：range函数\n",
    "# 1 2 3 4 5 6 7 8 9\n",
    "for i in range(1, 10, 1):\n",
    "    print(i)\n",
    "print(\"-\"*10)\n",
    "\n",
    "# 1 3 5 7 9\n",
    "for i in range(1, 10, 2):\n",
    "    print(i)\n",
    "print(\"-\"*10)\n",
    "\n",
    "\n",
    "# 0 1 2 3 4 5 6 7 8 9\n",
    "for i in range(10):\n",
    "    print(i)"
   ]
  },
  {
   "cell_type": "markdown",
   "id": "e592a5c7",
   "metadata": {},
   "source": [
    "# 13 类型转换\n",
    "\n",
    "- > tuple()\n",
    "作⽤：将某个序列转换成元组"
   ]
  },
  {
   "cell_type": "code",
   "execution_count": 152,
   "id": "58c63887",
   "metadata": {},
   "outputs": [
    {
     "name": "stdout",
     "output_type": "stream",
     "text": [
      "(10, 20, 30, 40, 50, 20)\n",
      "(100, 200, 300, 400, 500)\n"
     ]
    }
   ],
   "source": [
    "list1 = [10, 20, 30, 40, 50, 20]\n",
    "s1 = {100, 200, 300, 400, 500}\n",
    "print(tuple(list1))\n",
    "print(tuple(s1))"
   ]
  },
  {
   "cell_type": "markdown",
   "id": "8cb8f00e",
   "metadata": {},
   "source": [
    "- >list()\n",
    "作⽤：将某个序列转换成列表"
   ]
  },
  {
   "cell_type": "code",
   "execution_count": 151,
   "id": "395a6fe8",
   "metadata": {},
   "outputs": [
    {
     "name": "stdout",
     "output_type": "stream",
     "text": [
      "['a', 'b', 'c', 'd', 'e']\n",
      "[100, 200, 300, 400, 500]\n"
     ]
    }
   ],
   "source": [
    "t1 = ('a', 'b', 'c', 'd', 'e')\n",
    "s1 = {100, 200, 300, 400, 500}\n",
    "print(list(t1))\n",
    "print(list(s1))"
   ]
  },
  {
   "cell_type": "markdown",
   "id": "fe2ce6dc",
   "metadata": {},
   "source": [
    "- > set()\n",
    "作⽤：将某个序列转换成集合\n",
    "\n",
    "注意：\n",
    "1. 集合可以快速完成列表去重\n",
    "2. 集合是无序的，所以不⽀持下标"
   ]
  },
  {
   "cell_type": "code",
   "execution_count": 170,
   "id": "501b5e15",
   "metadata": {},
   "outputs": [
    {
     "name": "stdout",
     "output_type": "stream",
     "text": [
      "{40, 10, 50, 20, 30}\n",
      "{'e', 'b', 'c', 'd', 'a'}\n"
     ]
    }
   ],
   "source": [
    "list1 = [10, 20, 30, 40, 50, 20]\n",
    "t1 = ('a', 'b', 'c', 'd', 'e')\n",
    "print(set(list1))\n",
    "print(set(t1))"
   ]
  },
  {
   "cell_type": "markdown",
   "id": "da5c753e",
   "metadata": {},
   "source": [
    "##  14 条件语句\n",
    "#### Python 中if语句的一般形式如下\n",
    "    if condition_1:\n",
    "        statment_block_1\n",
    "    elif condition_2:\n",
    "        statment_block_2\n",
    "    else:\n",
    "        statment_block_3"
   ]
  },
  {
   "cell_type": "code",
   "execution_count": 139,
   "id": "0ccec80e",
   "metadata": {},
   "outputs": [
    {
     "name": "stdout",
     "output_type": "stream",
     "text": [
      "请输⼊您的成绩：34\n",
      "您的成绩是34,不及格\n"
     ]
    }
   ],
   "source": [
    "#例子：多重判断\n",
    "age = int(input('请输⼊您的成绩：'))\n",
    "if age < 60:\n",
    "    print(f'您的成绩是{age},不及格')\n",
    "\n",
    "elif age >= 60 and age <= 80:  #该句也可写成60 <= age <= 80\n",
    "    print(f'您的成绩是{age},良好')\n",
    "\n",
    "elif age > 80:\n",
    "    print(f'您的成绩是{age},优秀')"
   ]
  },
  {
   "cell_type": "markdown",
   "id": "f0521894",
   "metadata": {},
   "source": [
    "## 15 循环语句\n",
    "#### python中循环语句只有while 和 for。最常使用的是for"
   ]
  },
  {
   "cell_type": "markdown",
   "id": "2de8e1c2",
   "metadata": {},
   "source": [
    "while循环"
   ]
  },
  {
   "cell_type": "code",
   "execution_count": 142,
   "id": "33b8d093",
   "metadata": {},
   "outputs": [
    {
     "name": "stdout",
     "output_type": "stream",
     "text": [
      "1\n",
      "2\n",
      "3\n",
      "4\n",
      "5\n",
      "6\n",
      "7\n",
      "8\n",
      "9\n",
      "10\n"
     ]
    }
   ],
   "source": [
    "#whil循环\n",
    "x = 1\n",
    "while x <= 10:\n",
    "    print(x)\n",
    "    x += 1\n",
    "    "
   ]
  },
  {
   "cell_type": "code",
   "execution_count": null,
   "id": "f4dc7c61",
   "metadata": {},
   "outputs": [],
   "source": [
    "#### Python 中的for循环可以遍历任何序列的项目，如一个列表、元组、字典或者一个字符串。\n"
   ]
  },
  {
   "cell_type": "code",
   "execution_count": 144,
   "id": "15002496",
   "metadata": {},
   "outputs": [
    {
     "name": "stdout",
     "output_type": "stream",
     "text": [
      "1\n",
      "2\n",
      "3\n",
      "4\n",
      "5\n",
      "6\n",
      "7\n",
      "8\n",
      "9\n",
      "10\n"
     ]
    }
   ],
   "source": [
    "#打印1~10\n",
    "for number in range(1,11):\n",
    "    print(number)"
   ]
  },
  {
   "cell_type": "code",
   "execution_count": 145,
   "id": "13374af1",
   "metadata": {},
   "outputs": [
    {
     "name": "stdout",
     "output_type": "stream",
     "text": [
      "w\n",
      "a\n",
      "n\n",
      "g\n",
      "n\n",
      "i\n",
      "n\n",
      "g\n"
     ]
    }
   ],
   "source": [
    "# 遍历一个字符串\n",
    "x = 'wangning'\n",
    "for i in x:\n",
    "    print(i)"
   ]
  },
  {
   "cell_type": "code",
   "execution_count": 150,
   "id": "d6ec0b4a",
   "metadata": {},
   "outputs": [
    {
     "name": "stdout",
     "output_type": "stream",
     "text": [
      "['wang', 'ning', 1996, 4]\n",
      "wang\n",
      "ning\n",
      "1996\n",
      "4\n"
     ]
    }
   ],
   "source": [
    "# 遍历一个列表\n",
    "list_for = ['wang','ning',1996,4]\n",
    "print(list_for)\n",
    "for i_list in list_for:\n",
    "    print(i_list)"
   ]
  },
  {
   "cell_type": "code",
   "execution_count": 148,
   "id": "7bc73cf0",
   "metadata": {},
   "outputs": [
    {
     "name": "stdout",
     "output_type": "stream",
     "text": [
      "('wang', 'ning', 1996, 4)\n",
      "wang\n",
      "ning\n",
      "1996\n",
      "4\n"
     ]
    }
   ],
   "source": [
    "# 遍历一个元组\n",
    "yuanzu_for = 'wang','ning',1996,4\n",
    "print(yuanzu_for)\n",
    "for i_yuanzu in yuanzu_for:\n",
    "    print(i_yuanzu)"
   ]
  },
  {
   "cell_type": "code",
   "execution_count": 197,
   "id": "99100bdb",
   "metadata": {},
   "outputs": [
    {
     "name": "stdout",
     "output_type": "stream",
     "text": [
      "1\n",
      "wang\n",
      "3\n",
      "4\n",
      "(0, 1)\n",
      "(1, 'wang')\n",
      "(2, 3)\n",
      "(3, 4)\n"
     ]
    }
   ],
   "source": [
    "#遍历一个集合(元素不允许重复)\n",
    "set_for = {1,3,4,'wang',4}\n",
    "for i_set in set_for:\n",
    "    print(i_set)"
   ]
  },
  {
   "cell_type": "code",
   "execution_count": 158,
   "id": "5aa33cd1",
   "metadata": {},
   "outputs": [
    {
     "name": "stdout",
     "output_type": "stream",
     "text": [
      "name\n",
      "age\n",
      "gender\n",
      "Tom\n",
      "20\n",
      "男\n",
      "('name', 'Tom')\n",
      "('age', 20)\n",
      "('gender', '男')\n",
      "name = Tom\n",
      "age = 20\n",
      "gender = 男\n"
     ]
    }
   ],
   "source": [
    "# 遍历一个字典的key\n",
    "dict_for = {'name': 'Tom', 'age': 20, 'gender': '男'}\n",
    "for key_dict in dict_for.keys():\n",
    "    print(key_dict)\n",
    "# 遍历一个字典的value\n",
    "for value_dict in dict_for.values():\n",
    "    print(value_dict)\n",
    "# 遍历字典的元素\n",
    "for item_dict in dict_for.items():\n",
    "    print(item_dict)\n",
    "# 遍历字典的键值对\n",
    "for key, value in dict_for.items():\n",
    "    print(f'{key} = {value}')\n",
    "    "
   ]
  },
  {
   "cell_type": "markdown",
   "id": "3a079a9c",
   "metadata": {},
   "source": [
    "#### enumerate() 函数 用于遍历一个带有索引的序列。同时列出数据和数据下标，一般用在for循环当中\n"
   ]
  },
  {
   "cell_type": "code",
   "execution_count": 198,
   "id": "17b7606d",
   "metadata": {},
   "outputs": [
    {
     "name": "stdout",
     "output_type": "stream",
     "text": [
      "(0, 'wang')\n",
      "(1, 'ning')\n",
      "(2, 1)\n",
      "(3, 4)\n"
     ]
    }
   ],
   "source": [
    "list_enumerate = ['wang','ning',1,4]\n",
    "for i in enumerate(list_enumerate):\n",
    "    print(i)"
   ]
  },
  {
   "cell_type": "markdown",
   "id": "ed88282c",
   "metadata": {},
   "source": [
    "## 16 函数"
   ]
  },
  {
   "cell_type": "markdown",
   "id": "3385e4ce",
   "metadata": {},
   "source": [
    "对于一个数求幂，可以使用乘方运算符，在Python中用“**”表示"
   ]
  },
  {
   "cell_type": "code",
   "execution_count": 181,
   "id": "605d98ca",
   "metadata": {},
   "outputs": [
    {
     "name": "stdout",
     "output_type": "stream",
     "text": [
      "8\n"
     ]
    }
   ],
   "source": [
    "a = 2**3\n",
    "print(a)"
   ]
  },
  {
   "cell_type": "markdown",
   "id": "be17a11a",
   "metadata": {},
   "source": [
    "#### 自定义函数使用 def 关键字声明"
   ]
  },
  {
   "cell_type": "code",
   "execution_count": 185,
   "id": "2417b668",
   "metadata": {},
   "outputs": [
    {
     "name": "stdout",
     "output_type": "stream",
     "text": [
      "这时一个自定义无参函数\n"
     ]
    }
   ],
   "source": [
    "# 定义无参函数\n",
    "def test():\n",
    "    print(\"这是一个自定义无参函数\")\n",
    "test()\n",
    "    "
   ]
  },
  {
   "cell_type": "code",
   "execution_count": 195,
   "id": "bc740997",
   "metadata": {},
   "outputs": [
    {
     "name": "stdout",
     "output_type": "stream",
     "text": [
      "这是一个有参函数参数为10\n",
      "10\n"
     ]
    }
   ],
   "source": [
    "# 定义一个有参函数\n",
    "a = 10\n",
    "def test_1(a):\n",
    "    print(\"这是一个有参函数参数为%d\"%a)\n",
    "    print(a)\n",
    "test_1(a)"
   ]
  },
  {
   "cell_type": "code",
   "execution_count": 196,
   "id": "5ce66470",
   "metadata": {},
   "outputs": [
    {
     "name": "stdout",
     "output_type": "stream",
     "text": [
      "13\n"
     ]
    }
   ],
   "source": [
    "# 定义一个有返回值的函数\n",
    "a = 10 \n",
    "def test_2(a):\n",
    "    b = 3\n",
    "    c = a + b\n",
    "    return c\n",
    "print(test_2(a))"
   ]
  },
  {
   "cell_type": "code",
   "execution_count": null,
   "id": "5acc5dec",
   "metadata": {},
   "outputs": [],
   "source": []
  }
 ],
 "metadata": {
  "kernelspec": {
   "display_name": "Python 3",
   "language": "python",
   "name": "python3"
  },
  "language_info": {
   "codemirror_mode": {
    "name": "ipython",
    "version": 3
   },
   "file_extension": ".py",
   "mimetype": "text/x-python",
   "name": "python",
   "nbconvert_exporter": "python",
   "pygments_lexer": "ipython3",
   "version": "3.8.8"
  }
 },
 "nbformat": 4,
 "nbformat_minor": 5
}
