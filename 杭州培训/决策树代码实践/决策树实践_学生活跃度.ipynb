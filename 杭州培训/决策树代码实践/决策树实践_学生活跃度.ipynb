{
 "cells": [
  {
   "cell_type": "markdown",
   "metadata": {},
   "source": [
    "# 决策树实践——学生活跃度\n",
    "\n",
    "\n",
    "\n",
    "\n",
    "\n",
    "\n",
    "\n",
    "\n",
    "\n"
   ]
  },
  {
   "cell_type": "markdown",
   "metadata": {},
   "source": [
    "引入包"
   ]
  },
  {
   "cell_type": "code",
   "execution_count": 1,
   "metadata": {},
   "outputs": [],
   "source": [
    "# !/usr/bin/python\n",
    "# -*- coding:utf-8 -*-\n",
    "from numpy import *\n",
    "import numpy as np\n",
    "import pandas as pd\n",
    "import matplotlib.pyplot as plt\n",
    "import matplotlib as mpl\n",
    "from sklearn import tree\n",
    "from sklearn.tree import DecisionTreeClassifier\n",
    "from sklearn.model_selection import train_test_split\n",
    "from sklearn.metrics import accuracy_score\n",
    "from sklearn.preprocessing import LabelEncoder\n",
    "\n",
    "\n"
   ]
  },
  {
   "cell_type": "markdown",
   "metadata": {},
   "source": [
    "设置绘图参数"
   ]
  },
  {
   "cell_type": "code",
   "execution_count": 2,
   "metadata": {},
   "outputs": [],
   "source": [
    "\n",
    "mpl.rcParams['font.sans-serif'] = ['simHei']\n",
    "mpl.rcParams['axes.unicode_minus'] = False\n"
   ]
  },
  {
   "cell_type": "markdown",
   "metadata": {},
   "source": [
    "读入样例数据"
   ]
  },
  {
   "cell_type": "code",
   "execution_count": 3,
   "metadata": {},
   "outputs": [],
   "source": [
    "path = r'.\\data\\student.data'  # 数据文件路径\n",
    "data = pd.read_csv(path, header=None)\n",
    "# 记录学生“关注活动”和“活动表现”两个特征数据\n",
    "x = data[list(range(2))]\n",
    "# 记录学生是否活跃的分类信息\n",
    "y = LabelEncoder().fit_transform(data[2])"
   ]
  },
  {
   "cell_type": "markdown",
   "metadata": {},
   "source": [
    "构建决策树模型"
   ]
  },
  {
   "cell_type": "markdown",
   "metadata": {},
   "source": [
    "决策树分裂过程结果描述了生成树的过程，共进行了3层树的分裂过程，其树形图的样式如图所示  \n",
    "\n",
    "\n",
    "![树状](./img/pic1.png)"
   ]
  },
  {
   "cell_type": "markdown",
   "metadata": {},
   "source": [
    "\n",
    "但当划分层次过多时，树形表示并不方便醒目，可应用分类树的二维图形进行描述，将上图表示成二维图\n",
    "\n",
    "![二维图](./img/pic2.png)\n"
   ]
  },
  {
   "cell_type": "code",
   "execution_count": 4,
   "metadata": {},
   "outputs": [
    {
     "name": "stdout",
     "output_type": "stream",
     "text": [
      "预测值与真实值的准确率: 0.9285714285714286\n"
     ]
    }
   ],
   "source": [
    "\n",
    "# 建立决策树模型\n",
    "model = DecisionTreeClassifier(criterion='entropy',max_depth=2)\n",
    "#model = DecisionTreeClassifier(max_depth=3)\n",
    "model.fit(x, y)\n",
    "y_test_hat = model.predict(x)      # 测试数据\n",
    "print('预测值与真实值的准确率:', accuracy_score(y, y_test_hat))\n"
   ]
  },
  {
   "cell_type": "markdown",
   "metadata": {},
   "source": [
    "决策树的可视化"
   ]
  },
  {
   "cell_type": "code",
   "execution_count": 5,
   "metadata": {},
   "outputs": [
    {
     "name": "stderr",
     "output_type": "stream",
     "text": [
      "<ipython-input-5-d7e8790a80dc>:26: MatplotlibDeprecationWarning: Using a string of single character colors as a color sequence is deprecated. Use an explicit list instead.\n",
      "  plt.scatter(data2[0:, :1], data2[0:, 1:2], marker='o', color='', edgecolors='g', label='2', s=70)\n"
     ]
    },
    {
     "data": {
      "image/png": "[encoded data removed]",
      "text/plain": [
       "<Figure size 288x216 with 1 Axes>"
      ]
     },
     "metadata": {},
     "output_type": "display_data"
    }
   ],
   "source": [
    "student_feature = '活跃表现', '关注活动'\n",
    "# 画图\n",
    "N, M = 50, 50  # 横纵各采样多少个值\n",
    "x1_min, x2_min = x.min()\n",
    "x1_max, x2_max = x.max()\n",
    "t1 = np.linspace(x1_min, x1_max, N)\n",
    "t2 = np.linspace(x2_min, x2_max, M)\n",
    "x1, x2 = np.meshgrid(t1, t2)  # 生成网格采样点\n",
    "x_show = np.stack((x1.flat, x2.flat), axis=1)  # 测试点\n",
    "\n",
    "cm_light = mpl.colors.ListedColormap(['#A0FFA0', '#FFA0A0', '#A0A0FF'])\n",
    "cm_dark = mpl.colors.ListedColormap(['g', 'r', 'b'])\n",
    "y_show_hat = model.predict(x_show)  # 预测值\n",
    "#print(y_show_hat.shape)\n",
    "#print(y_show_hat)\n",
    "y_show_hat = y_show_hat.reshape(x1.shape)  # 使之与输入的形状相同\n",
    "#print(y_show_hat)\n",
    "plt.figure(figsize=(4, 3),facecolor='w')\n",
    "plt.pcolormesh(x1, x2, y_show_hat, cmap=cm_light)  # 预测值的显示\n",
    "\n",
    "data1 = array([[60, 60], [62, 65], [73, 70], [75, 82], [77, 85], [90, 95], [92, 90]])  # 活跃和学生\n",
    "data2 = array([[19, 30], [30, 40], [36, 47], [40, 52], [47, 50], [50, 55]])  # 不活跃的学生\n",
    "testdata = [37, 35]\n",
    "\n",
    "plt.scatter(data1[0:, :1], data1[0:, 1:2], marker='o', color='g', label='1', s=70)\n",
    "plt.scatter(data2[0:, :1], data2[0:, 1:2], marker='o', color='', edgecolors='g', label='2', s=70)\n",
    "plt.scatter(testdata[:1], testdata[1:], marker='*', color='b', label='3', s=120)\n",
    "\n",
    "plt.xlabel(student_feature[0], fontsize=9)\n",
    "plt.ylabel(student_feature[1], fontsize=9)\n",
    "plt.xlim(x1_min, x1_max)\n",
    "plt.ylim(x2_min, x2_max)\n",
    "plt.grid(b=True, ls=':', color='#606060')\n",
    "plt.show()\n",
    "\n"
   ]
  },
  {
   "cell_type": "markdown",
   "metadata": {},
   "source": [
    "评估模型的性能指标\n",
    "\n",
    "可以看到★的学生，他本来是活跃的学生，相对于大多数的活跃学生●属于离群信息，故在进行2层深度数据的决策时，找到大多数数据的信息表示，把他分到了不活跃学生的行列，即第7个数据分类错误，此时模型的正确率是92.86%。!"
   ]
  },
  {
   "cell_type": "code",
   "execution_count": 6,
   "metadata": {},
   "outputs": [
    {
     "name": "stdout",
     "output_type": "stream",
     "text": [
      "[0 0 0 0 0 0 0 1 1 1 1 1 1 1]\n",
      "[0 0 0 0 0 0 1 1 1 1 1 1 1 1]\n",
      "准确度: 92.86%\n"
     ]
    }
   ],
   "source": [
    "\n",
    "\n",
    "# 训练集上的预测结果\n",
    "y_test = y.reshape(-1)\n",
    "print(y_test_hat)\n",
    "print(y_test)\n",
    "result = (y_test_hat == y_test)  # True则预测正确，False则预测错误\n",
    "acc = np.mean(result)\n",
    "print('准确度: %.2f%%' % (100 * acc))"
   ]
  },
  {
   "cell_type": "code",
   "execution_count": null,
   "metadata": {},
   "outputs": [],
   "source": []
  }
 ],
 "metadata": {
  "kernelspec": {
   "display_name": "Python 3",
   "language": "python",
   "name": "python3"
  },
  "language_info": {
   "codemirror_mode": {
    "name": "ipython",
    "version": 3
   },
   "file_extension": ".py",
   "mimetype": "text/x-python",
   "name": "python",
   "nbconvert_exporter": "python",
   "pygments_lexer": "ipython3",
   "version": "3.8.3"
  }
 },
 "nbformat": 4,
 "nbformat_minor": 4
}
