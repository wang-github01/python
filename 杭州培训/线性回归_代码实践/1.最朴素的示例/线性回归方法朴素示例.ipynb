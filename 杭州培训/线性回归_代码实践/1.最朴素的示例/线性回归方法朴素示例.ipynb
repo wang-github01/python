{
 "cells": [
  {
   "cell_type": "code",
   "execution_count": 1,
   "metadata": {},
   "outputs": [],
   "source": [
    "import numpy as np\n",
    "\n",
    "from sklearn.linear_model import LinearRegression\n",
    "\n",
    "import matplotlib.pyplot as plt\n",
    "%matplotlib inline "
   ]
  },
  {
   "cell_type": "code",
   "execution_count": 2,
   "metadata": {},
   "outputs": [],
   "source": [
    "# 创建数据\n",
    "x_data = np.array([1,2,3,5,7])   # x轴数据\n",
    "y_data = np.array([4,8,9,10,19])  # y轴数据\n",
    "\n",
    "# 转一下维度，sklearn框架才能识别\n",
    "x_data = x_data[:, np.newaxis]\n",
    "y_data = y_data[:, np.newaxis]\n"
   ]
  },
  {
   "cell_type": "code",
   "execution_count": 3,
   "metadata": {},
   "outputs": [
    {
     "data": {
      "text/plain": [
       "LinearRegression()"
      ]
     },
     "execution_count": 3,
     "metadata": {},
     "output_type": "execute_result"
    }
   ],
   "source": [
    "# 一般模式：\n",
    "# 1. 创建模型\n",
    "# 2. 训练模型  \n",
    "# 3. 模型预测\n",
    "model = LinearRegression()  # 建立模型\n",
    "model.fit(x_data, y_data)   # 开始训练\n",
    "\n"
   ]
  },
  {
   "cell_type": "code",
   "execution_count": 4,
   "metadata": {},
   "outputs": [
    {
     "name": "stdout",
     "output_type": "stream",
     "text": [
      "w =  [2.15517241]  b=  [2.24137931]\n"
     ]
    }
   ],
   "source": [
    "\n",
    "# 求解f(x)=wx+b模型\n",
    "# coef_和intercept_都是模型参数\n",
    "# coef_ 就是 w \n",
    "# intercept_ 就是 b\n",
    "w = model.coef_[0]\n",
    "b = model.intercept_\n",
    "print(\"w = \", w,\" b= \", b)\n",
    "\n",
    "# 求解预测值\n",
    "predict = model.predict(x_data)\n"
   ]
  },
  {
   "cell_type": "code",
   "execution_count": 10,
   "metadata": {},
   "outputs": [
    {
     "data": {
      "image/png": "[encoded data removed]",
      "text/plain": [
       "<Figure size 360x240 with 1 Axes>"
      ]
     },
     "metadata": {
      "needs_background": "light"
     },
     "output_type": "display_data"
    }
   ],
   "source": [
    "\n",
    "# 将原始值与求解的线性方程可视化\n",
    "plt.figure(figsize=(6, 4), dpi=60)\n",
    "plt.xlabel(u'x')\n",
    "plt.ylabel(u'f(x)')\n",
    "plt.plot(x_data, y_data, \"b.\")\n",
    "plt.plot(x_data, predict, \"r\")\n",
    "plt.show()\n"
   ]
  },
  {
   "cell_type": "code",
   "execution_count": 6,
   "metadata": {},
   "outputs": [
    {
     "name": "stdout",
     "output_type": "stream",
     "text": [
      "MSE =  2.8482758620689643 RMSE =  1.6876835787756437\n",
      "R2 =  0.8832673827020916\n"
     ]
    }
   ],
   "source": [
    "\n",
    "# 模型评估\n",
    "mse = np.average((predict - np.array(y_data)) ** 2)  # 均方误差\n",
    "rmse = np.sqrt(mse)  # 均方根误差\n",
    "print('MSE = ', mse, end=' ')\n",
    "print('RMSE = ', rmse)\n",
    "\n",
    "print('R2 = ', model.score(x_data, y_data)) # 确定系数"
   ]
  },
  {
   "attachments": {},
   "cell_type": "markdown",
   "metadata": {},
   "source": [
    "#### R2  \n",
    "决定系数（coefficient ofdetermination），有的教材上翻译为判定系数，也称为拟合优度  \n",
    "决定系数反应了 y 的波动有多少百分比能被 x 的波动所描述，即表征依变数 Y 的变异中有多少百分比,可由控制的自变量 X 来解释。\n",
    "\n",
    "意义：拟合优度越大，说明 x 对 y 的解释程度越高。自变量对因变量的解释程度越高，自变量引起的变动占总变动的百分比高。观察点在回归直线附近越密集。\n",
    "\n",
    "其中可能得到的最好的分数是 1，并且可能是负值（因为模型可能会变得更加糟糕）。当一个模型不论输入何种特征值，其总是输出期望的 y 的时候，此时返回0。\n",
    "\n",
    "该节中数据 评估结果表明原始值与预估值的值误差并不大，确定系统达到大于 88.3% 的准确率，能确定拟合的回归方程基本描述了原始数据蕴含的信息。"
   ]
  },
  {
   "cell_type": "code",
   "execution_count": null,
   "metadata": {},
   "outputs": [],
   "source": []
  }
 ],
 "metadata": {
  "kernelspec": {
   "display_name": "Python 3",
   "language": "python",
   "name": "python3"
  },
  "language_info": {
   "codemirror_mode": {
    "name": "ipython",
    "version": 3
   },
   "file_extension": ".py",
   "mimetype": "text/x-python",
   "name": "python",
   "nbconvert_exporter": "python",
   "pygments_lexer": "ipython3",
   "version": "3.8.3"
  }
 },
 "nbformat": 4,
 "nbformat_minor": 4
}
