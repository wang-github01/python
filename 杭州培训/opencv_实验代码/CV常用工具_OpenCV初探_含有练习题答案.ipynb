{
 "cells": [
  {
   "cell_type": "markdown",
   "metadata": {},
   "source": [
    "# OpenCV初探\n",
    "\n",
    "OpenCV 是计算机视觉领域常用的工具。OpenCV 功能强大内容丰富，很多CV任务都可以使用 OpenCV 完成  \n",
    "本次课程主要是展示 openCV 的常用用法，为后续实验提供必要支持  \n",
    "\n",
    "本节内容主要包含：  \n",
    "1. 导入cv库\n",
    "2. 读取图片并展示\n",
    "3. 保存图片\n",
    "4. 缩放图片\n",
    "5. 剪切图片\n",
    "6. 镜像图片\n",
    "7. 旋转图片\n"
   ]
  },
  {
   "cell_type": "markdown",
   "metadata": {},
   "source": [
    "<font color=\"red\">注意</font>解压图片文件，解压语句只需在第一次执行的时候执行一次，之后可以加注释，使其不再执行"
   ]
  },
  {
   "cell_type": "code",
   "execution_count": 1,
   "metadata": {},
   "outputs": [],
   "source": [
    "#数据集解压\n",
    "#!unzip -oqj '/home/aistudio/data/data54426/CV常用工具_OpenCV初探_专用数据集.zip' -d './data'"
   ]
  },
  {
   "cell_type": "markdown",
   "metadata": {},
   "source": [
    "## 1. 导入cv库\n",
    "OpenCV 支持各平台和多种语言。由于目前 AI 领域Python语言使用较多，本次课程主要使用 Python 中的 OpenCV 类库。  \n",
    "\n",
    "Numpy 是 Python 的一个数学库，是很多 AI 类库的底层类库。  \n",
    "Matplotib 是 python 的一个绘图库，其内置了各种各样的绘图方法，是做 AI 可视化、AI 调试的主要工具  \n",
    "\n",
    "> 这里没有安装过程，是因为环境中已经预先安装好了"
   ]
  },
  {
   "cell_type": "code",
   "execution_count": 6,
   "metadata": {},
   "outputs": [],
   "source": [
    "#导入 类库\n",
    "import cv2 \n",
    "import numpy as np\n",
    "from matplotlib import pyplot as plt\n",
    "%matplotlib inline\n",
    "\n",
    "#查看opencv的版本\n",
    "print(cv2.__version__)"
   ]
  },
  {
   "cell_type": "markdown",
   "metadata": {},
   "source": [
    "## 2.读取图片并展示\n",
    "读取磁盘文件到内容是 OpenCV 进行图片操作的第一步。（如果图片本身已经在内存中可以省略这一步）  \n",
    "将内存中的图片显示出来，也是 OpenCV 最基础的操作，也是做 AI 视觉时候在调试阶段常用的操作。\n",
    "\n",
    "> 如果是在本地而不是在云上（或者说不是在浏览器中），那么显示图片使用的是 cv2.imshow 函数"
   ]
  },
  {
   "cell_type": "code",
   "execution_count": 7,
   "metadata": {},
   "outputs": [],
   "source": [
    "###    读取磁盘图片文件    ###\n",
    "#通过imread函数，读取图片；\n",
    "#    imread函数有两个参数，第一个参数是图片路径，第二个参数表示读取图片的形式：\n",
    "#        cv2.IMREAD_COLOR：加载彩色图片，这个是默认参数，可以直接写1。\n",
    "#        cv2.IMREAD_GRAYSCALE：以灰度模式加载图片，可以直接写0。\n",
    "#        cv2.IMREAD_UNCHANGED：包括alpha，可以直接写-1\n",
    "img = cv2.imread('./data/fox.jpg',1)\n",
    "\n",
    "###    将图片显示出来    ###\n",
    "plt.imshow(img)"
   ]
  },
  {
   "cell_type": "markdown",
   "metadata": {},
   "source": [
    "观察上图可以发现，该图与原图色彩是不同（一只红色的狐狸变成了蓝色）。这是因为我们读取图片使用的是 openCV 而显示图片 使用的是 matplotlib 库（简写作 plt ）。使用 plt 显示时，颜色偏差严重的情况。这是因为plt和imread二者颜色通道不同导致。\n",
    "\n",
    "openCV 的 imread 函数读取图片的时候认为色道顺序是 BRG ，而 plt.imshow 函数显示图片时认为图片的色道是 rgb 。    \n",
    "找到了问题的原因了，也就知道如何修改了。只需要将 内存中的矩阵的 B 通道放到最后一个位置，R和G 通道迁移即可。\n",
    "\n",
    "\n",
    "具体修改方式有两种：\n",
    "1. 先分离，再合并\n",
    "```\n",
    "b, g, r = cv2.split(img)\n",
    "img2 = cv2.merge([r,g,b])\n",
    "```\n",
    "2. 使用语法技巧  \n",
    "\t`img2 = img[:,:,::-1]`\n",
    "3. 使用 OpenCV 内置函数  \n",
    "\t`img2 = cv2.cvtColor(img, cv2.COLOR_BGR2RGB)`\n",
    "\n"
   ]
  },
  {
   "cell_type": "code",
   "execution_count": 8,
   "metadata": {},
   "outputs": [],
   "source": [
    "\n",
    "b, g, r = cv2.split(img)\n",
    "img2 = cv2.merge([r,g,b])\n",
    "\n",
    "# img2 = img[:,:,::-1] \n",
    "\n",
    "# img2 = cv2.cvtColor(img, cv2.COLOR_BGR2RGB)\n",
    "\n",
    "plt.imshow(img2)"
   ]
  },
  {
   "cell_type": "markdown",
   "metadata": {},
   "source": [
    "### 练习\n",
    "读取图片（路径为\"./data/snow_spanther.jpg\"）并且显示在页面上"
   ]
  },
  {
   "cell_type": "code",
   "execution_count": 9,
   "metadata": {},
   "outputs": [],
   "source": [
    "import cv2\n",
    "from matplotlib import pyplot as plt\n",
    "\n",
    "#-------- 请开始编写代码\n",
    "my_img = cv2.imread(\"./data/snow_panther.jpg\", 1)\n",
    "b, g, r = cv2.split(my_img)\n",
    "my_img2 = cv2.merge([r, g, b])\n",
    "# plt.imshow(my_img)\n",
    "plt.imshow(my_img2)\n",
    "#-------- 请结束编写代码"
   ]
  },
  {
   "cell_type": "markdown",
   "metadata": {},
   "source": [
    "## 3.保存图片\n",
    "把在内存中修改过的图片的数据保存到硬盘上也是一个基本操作。\n",
    "请运行以下代码，然后在对应路径下查看是否生成了对应的图片。\n",
    "\n",
    ">cv2.imwrite的参数   \n",
    ">cv2.CV_IMWRITE_JPEG_QUALITY  设置图片格式为.jpeg或者.jpg的图片质量，其值为0---100（数值越大质量越高），默认95  \n",
    ">cv2.CV_IMWRITE_WEBP_QUALITY  设置图片的格式为.webp格式的图片质量，值为0--100  \n",
    ">cv2.CV_IMWRITE_PNG_COMPRESSION  设置.png格式的压缩比，其值为0--9（数值越大，压缩比越大），默认为3  \n",
    "`cv2.imwrite('./data/fox_copy.jpg',img,[cv2.IMWRITE_JPEG_QUALITY,50])`"
   ]
  },
  {
   "cell_type": "code",
   "execution_count": 10,
   "metadata": {},
   "outputs": [],
   "source": [
    "import cv2\n",
    "img = cv2.imread('./data/fox.jpg',1)\n",
    "\n",
    "#cv2.imwrite表示保存图像，\n",
    "#第一个参数是保存的图像的路径，第二个参数是要保存的图像。\n",
    "cv2.imwrite('./data/fox_copy.png',img) "
   ]
  },
  {
   "cell_type": "markdown",
   "metadata": {},
   "source": [
    "### 练习\n",
    "读取图片（路径为\"./data/snow_panther.jpg\"）将其保存为 \"./data/snow_panther_copy.jpg\""
   ]
  },
  {
   "cell_type": "code",
   "execution_count": 11,
   "metadata": {},
   "outputs": [],
   "source": [
    "import cv2\n",
    "\n",
    "#-------- 请开始编写代码\n",
    "img = cv2.imread('./data/snow_panther.jpg',1)\n",
    "cv2.imwrite('./data/snow_spanther_copy.png',img) \n",
    "#-------- 请结束编写代码"
   ]
  },
  {
   "cell_type": "markdown",
   "metadata": {},
   "source": [
    "## 4.缩放图片\n",
    "图片的缩放也是基本操作，在某些深度学习理论中会使用到图像金字塔的概念，即 图像不断缩放形成 由小到大的 一系列图片然后分别送入网络。  \n",
    "\n",
    "<img src=\"./data/Image_Pyramid.jpg\" width = \"300\" height= \"300\" align=\"center\" />\n",
    "\n",
    "\n",
    "下面首先打印原图，然后分别打印 1/2 大小图片 和 1/4 大小图片\n",
    "观察图片的相关信息，获取图片的 宽 和 高 "
   ]
  },
  {
   "cell_type": "code",
   "execution_count": 12,
   "metadata": {},
   "outputs": [],
   "source": [
    "import cv2\n",
    "from matplotlib import pyplot as plt\n",
    "\n",
    "#读取图片\n",
    "tiger_original = cv2.imread('./data/tiger.jpg',1)\n",
    "\n",
    "#读出的图片信息是多维矩阵\n",
    "#我们可以把这个矩阵信息打印出来\n",
    "imgInfo = tiger_original.shape\n",
    "height = imgInfo[0]\n",
    "width = imgInfo[1]\n",
    "channel = imgInfo[2]\n",
    "print(imgInfo)\n",
    "print(height)\n",
    "print(width)\n",
    "print(channel)\n",
    "\n",
    "#打印图片\n",
    "tiger_original = tiger_original[:,:,::-1] \n",
    "plt.imshow(tiger_original)"
   ]
  },
  {
   "cell_type": "markdown",
   "metadata": {},
   "source": [
    "### cv2.resize 函数\n",
    "缩放图片使用 cv2.resize 函数。\n",
    "\n",
    "### 函数解析：\n",
    "##### cv2.resize(InputArray src, OutputArray dst, Size, fx, fy, interpolation)\n",
    "\n",
    "|  参数        | 含义      |\n",
    "|  :----        | :----  |\n",
    "| InputArray src  | 输入图片 |\n",
    "| OutputArray dst  | 输出图片 |\n",
    "| Size         | 输出图片尺寸 |\n",
    "| fx, fy       |沿x轴，y轴的缩放系数 |\n",
    "| interpolation  |插入方式 |\n",
    " \n",
    "\n",
    "<font face=\"黑体\" color=red size=3>特别注意：使用cv2.resize()时，size参数顺序是 **宽×高**</font>\n",
    "\n",
    "\n",
    "其中，interpolation表示插入方式，有以下几种方式：\n",
    "\n",
    "|  参数        | 含义      |\n",
    "|  :----        | :----  |\n",
    "| INTER_NEAREST | \t最近邻插值 |\n",
    "| INTER_LINEAR  | 双线性插值（默认设置） |\n",
    "| INTER_AREA         | 使用像素区域关系进行重采样 |\n",
    "| INTER_CUBIC      |4x4像素邻域的双三次插值 |\n",
    "| INTER_LANCZOS4  |8x8像素邻域的Lanczos插值 |\n"
   ]
  },
  {
   "cell_type": "markdown",
   "metadata": {},
   "source": [
    "#### 缩放为原来的 1/2 "
   ]
  },
  {
   "cell_type": "code",
   "execution_count": 13,
   "metadata": {},
   "outputs": [],
   "source": [
    "import cv2\n",
    "from matplotlib import pyplot as plt\n",
    "\n",
    "tiger_original = cv2.imread('./data/tiger.jpg',1)\n",
    "imgInfo = tiger_original.shape\n",
    "print(imgInfo)\n",
    "height = imgInfo[0]\n",
    "width = imgInfo[1]\n",
    "mode = imgInfo[2]\n",
    "\n",
    "# 我们把原图片进行等比例缩放 \n",
    "dstHeight = int(height*0.5)\n",
    "dstWidth = int(width*0.5)\n",
    "\n",
    "# 缩放到原来的二分之一，输出尺寸格式为（宽，高）\n",
    "tiger_resized_half = cv2.resize(tiger_original,(dstWidth,dstHeight))\n",
    "\n",
    "# 显示图片\n",
    "tiger_resized_half_show = tiger_resized_half[:, :, ::-1]\n",
    "plt.imshow(tiger_resized_half_show)\n",
    "\n",
    "#保存\n",
    "cv2.imwrite('./data/tiger_resized_half.jpg',tiger_resized_half)\n"
   ]
  },
  {
   "cell_type": "markdown",
   "metadata": {},
   "source": [
    "#### 缩放为原来的 1/4\n",
    "用另一种语法实现"
   ]
  },
  {
   "cell_type": "code",
   "execution_count": 15,
   "metadata": {},
   "outputs": [],
   "source": [
    "import cv2\n",
    "from matplotlib import pyplot as plt\n",
    "\n",
    "tiger_original = cv2.imread('./data/tiger.jpg',1)\n",
    "imgInfo = tiger_original.shape\n",
    "print(imgInfo)\n",
    "height = imgInfo[0]\n",
    "width = imgInfo[1]\n",
    "mode = imgInfo[2]\n",
    "\n",
    "# 我们把原图片进行等比例缩放 \n",
    "dstHeight = int(height*0.25)\n",
    "dstWidth = int(width*0.25)\n",
    "\n",
    "# 缩放到原来的四分之一，输出尺寸格式为（宽，高）\n",
    "# tiger_resized_quarter = cv2.resize(tiger_original,(dstWidth,dstHeight))\n",
    "tiger_resized_quarter = cv2.resize(tiger_original, (0, 0), fx=0.25, fy=0.25, interpolation=cv2.INTER_NEAREST)\n",
    "\n",
    "# 显示图片\n",
    "tiger_resized_quarter_show = tiger_resized_quarter[:, :, ::-1]\n",
    "plt.imshow(tiger_resized_quarter_show)\n",
    "\n",
    "#保存\n",
    "cv2.imwrite('./data/tiger_resized_quarter.jpg',tiger_resized_quarter)"
   ]
  },
  {
   "cell_type": "markdown",
   "metadata": {},
   "source": [
    "### 练习\n",
    "请将图片 './data/tiger' 缩放为原来图片的 1/8 \n",
    "显示出来，并且保存到硬盘上\n"
   ]
  },
  {
   "cell_type": "code",
   "execution_count": 16,
   "metadata": {},
   "outputs": [],
   "source": [
    "import cv2\n",
    "from matplotlib import pyplot as plt\n",
    "\n",
    "#-------- 请开始编写代码\n",
    "tiger_original = cv2.imread('./data/tiger.jpg',1)\n",
    "imgInfo = tiger_original.shape\n",
    "print(imgInfo)\n",
    "height = imgInfo[0]\n",
    "width = imgInfo[1]\n",
    "mode = imgInfo[2]\n",
    "\n",
    "# 我们把原图片进行等比例缩放 \n",
    "dstHeight = int(height*0.125)\n",
    "dstWidth = int(width*0.125)\n",
    "\n",
    "# 缩放到原来的八分之一，输出尺寸格式为（宽，高）\n",
    "tiger_resized_eighth = cv2.resize(tiger_original,(dstWidth,dstHeight))\n",
    "\n",
    "# 显示图片\n",
    "tiger_resized_eighth_show = tiger_resized_eighth[:, :, ::-1]\n",
    "plt.imshow(tiger_resized_eighth_show)\n",
    "\n",
    "#保存\n",
    "cv2.imwrite('./data/tiger_resized_eighth.jpg',tiger_resized_eighth)\n",
    "#-------- 请开结束编写代码"
   ]
  },
  {
   "cell_type": "markdown",
   "metadata": {},
   "source": [
    "## 5. 图片剪切\n",
    "在进行数据集的数据扩充的时候，通常会使用 截取图片 80% 的区域然后在恢复大小的方法。  \n",
    "那么下面来看看如何截取图像的一部分。\n"
   ]
  },
  {
   "cell_type": "code",
   "execution_count": 17,
   "metadata": {},
   "outputs": [],
   "source": [
    "import cv2\n",
    "from matplotlib import pyplot as plt\n",
    "\n",
    "img_original = cv2.imread('./data/tiger.jpg',1)\n",
    "\n",
    "#获得图片的形状\n",
    "imgInfo = img_original.shape\n",
    "print(imgInfo)\n",
    "height = imgInfo[0]\n",
    "width = imgInfo[1]\n",
    "mode = imgInfo[2]\n",
    "\n",
    "#截取原图的一部分\n",
    "#参数1 是高度的范围，参数2是宽度的范围\n",
    "img_cropped = img_original[200:1000,400:800]\n",
    "\n",
    "#显示图片\n",
    "img_cropped_show = img_cropped[:, :, ::-1]\n",
    "plt.imshow(img_cropped_show)\n",
    "\n",
    "#保存\n",
    "cv2.imwrite(\"./data/img_cropped.jpg\",img_cropped)\n"
   ]
  },
  {
   "cell_type": "markdown",
   "metadata": {},
   "source": [
    "### 练习 \n",
    "请随机的截取出一个图片，该图片的高度是原图片的 80%，该图片的宽度是原图片的 80%\n",
    "将该图片显示出来，并且保存到硬盘上，新图片命名为 \"img_cropped_0.8.jpg\"\n",
    "\n",
    "#### 提示\n",
    "Python 产生随机数使用 random 包。该场景下可以考虑使用 uniform 函数，其基本用法如下：\n",
    "```\n",
    "import random\n",
    "rand = random.uniform(0, 0.2)\n",
    "print(rand)\n",
    "```"
   ]
  },
  {
   "cell_type": "code",
   "execution_count": 18,
   "metadata": {},
   "outputs": [],
   "source": [
    "import cv2\n",
    "from matplotlib import pyplot as plt\n",
    "import random\n",
    "\n",
    "#-------- 请开始编写代码\n",
    "tiger_original = cv2.imread('./data/tiger.jpg',1)\n",
    "imgInfo = tiger_original.shape\n",
    "print(imgInfo)\n",
    "height = imgInfo[0]\n",
    "width = imgInfo[1]\n",
    "mode = imgInfo[2]\n",
    "\n",
    "# 确定截图图片的开始位置\n",
    "random_start = random.uniform(0, 0.2)\n",
    "dstHeight_start = int(height*random_start)\n",
    "random_start = random.uniform(0, 0.2)\n",
    "dstWidth_start = int(width*random_start)\n",
    "\n",
    "# 确定截图图片的结束位置\n",
    "dstHeight_end = int(dstHeight_start+height*0.8)\n",
    "dstWidth_end = int(dstWidth_start+width*0.8)\n",
    "#截取原图的一部分\n",
    "#参数1 是高度的范围，参数2 是宽度的范围\n",
    "img_cropped_temp = tiger_original[dstHeight_start:dstHeight_end , dstWidth_start:dstWidth_end ]\n",
    "\n",
    "#显示图片\n",
    "img_cropped_show = img_cropped_temp[:, :, ::-1]\n",
    "plt.imshow(img_cropped_show)\n",
    "\n",
    "#保存\n",
    "cv2.imwrite(\"./data/img_cropped_temp.jpg\",img_cropped_temp)\n",
    "#-------- 请结束编写代码"
   ]
  },
  {
   "cell_type": "markdown",
   "metadata": {},
   "source": [
    "## 6.镜像图片\n",
    "\n",
    "在进行数据集的数据扩充的时候，通常会使用 图片镜像的方法增加数据。\n",
    "那么下面来看看如何做图片镜像。"
   ]
  },
  {
   "cell_type": "code",
   "execution_count": 19,
   "metadata": {},
   "outputs": [],
   "source": [
    "import cv2\n",
    "from matplotlib import pyplot as plt\n",
    "\n",
    "bird_original=cv2.imread(\"./data/bird.jpg\")\n",
    "#显示图片\n",
    "bird_original = bird_original[:, :, ::-1]\n",
    "plt.imshow(bird_original)\n",
    "\n",
    "#水平镜像\n",
    "bird_flip_Horizontally=cv2.flip(bird_original,1)\n",
    "\n",
    "#垂直镜像\n",
    "bird_flip_Vertically=cv2.flip(bird_original,0)\n",
    "\n",
    "#水平垂直镜像\n",
    "bird_flip_Horizontally_Vertically=cv2.flip(bird_original,-1)\n",
    "\n",
    "#保存图片\n",
    "cv2.imwrite(\"./data/bird_flip_Horizontally.png\",bird_flip_Horizontally)\n",
    "cv2.imwrite(\"./data/bird_flip_Vertically.png\",bird_flip_Vertically)\n",
    "cv2.imwrite(\"./data/bird_flip_Horizontally_Vertically.png\",bird_flip_Horizontally_Vertically)"
   ]
  },
  {
   "cell_type": "markdown",
   "metadata": {},
   "source": [
    "### 练习\n",
    "对老虎图片做 水平镜像、垂直镜像、水平垂直镜像"
   ]
  },
  {
   "cell_type": "code",
   "execution_count": 20,
   "metadata": {},
   "outputs": [],
   "source": [
    "import cv2\n",
    "from matplotlib import pyplot as plt\n",
    "\n",
    "#-------- 请开始编写代码\n",
    "tiger_original=cv2.imread(\"./data/tiger.jpg\")\n",
    "#显示图片\n",
    "tiger_original = tiger_original[:, :, ::-1]\n",
    "plt.imshow(tiger_original)\n",
    "\n",
    "#水平镜像\n",
    "tiger_flip_Horizontally=cv2.flip(tiger_original,1)\n",
    "\n",
    "#垂直镜像\n",
    "tiger_flip_Vertically=cv2.flip(tiger_original,0)\n",
    "\n",
    "#水平垂直镜像\n",
    "tiger_flip_Horizontally_Vertically=cv2.flip(tiger_original,-1)\n",
    "\n",
    "#保存图片\n",
    "cv2.imwrite(\"./data/bird_flip_Horizontally.png\",tiger_flip_Horizontally)\n",
    "cv2.imwrite(\"./data/bird_flip_Vertically.png\",tiger_flip_Vertically)\n",
    "cv2.imwrite(\"./data/bird_flip_Horizontally_Vertically.png\",tiger_flip_Horizontally_Vertically)\n",
    "#-------- 请结束编写代码"
   ]
  },
  {
   "cell_type": "markdown",
   "metadata": {},
   "source": [
    "## 7.旋转图片\n",
    "\n",
    "OpenCV 中对图像的旋转主要是两步：\n",
    "1. 先通过 getRotationMatrix2D 函数得到图像的旋转矩阵\n",
    "2. 然后再通过仿射变换函数 warpAffine 得到旋转后的图像\n",
    "\n",
    "> cv2.getRotationMatrix2D(center, angle, scale)  \n",
    "\n",
    "> cv2.warpAffine(src, M, dsize,dst=None,flags=None,borderMode=None,borderValue=None)\n",
    "\n",
    "-------\n",
    "#### 参数说明：\n",
    "**cv2.getRotationMatrix2D:**  \n",
    "> - center：表示旋转的中心点  \n",
    "> - angle：表示旋转的角度degrees  \n",
    "> - scale：图像缩放因子  \n",
    "\n",
    "**cv2.warpAffine:**  \n",
    "> - src：输入的图像  \n",
    "> - M：2 X 3 的变换矩阵  \n",
    "> - dsize：输出的图像的size大小  \n",
    "> - dst：输出的图像  \n",
    "> - flags：输出图像的插值方法  \n",
    "> - borderMode：图像边界的处理方式  \n",
    "> - borderValue：当图像边界处理方式为BORDER_CONSTANT时的填充值  "
   ]
  },
  {
   "cell_type": "code",
   "execution_count": 21,
   "metadata": {},
   "outputs": [],
   "source": [
    "import cv2\n",
    "import numpy as np\n",
    "from matplotlib import pyplot as plt\n",
    "\n",
    "img_original = cv2.imread('./data/back.jpg',1)\n",
    "plt.imshow(img_original)\n",
    "\n",
    "imgInfo = img_original.shape\n",
    "height = imgInfo[0]\n",
    "width = imgInfo[1]\n",
    "print(imgInfo)\n",
    "\n",
    "# 2*3 的旋转矩阵\n",
    "matRotate = cv2.getRotationMatrix2D((height*0.5,width*0.5),45,0.5)# 缩放因子为0.5\n",
    "\n",
    "img_rotation = cv2.warpAffine(img_original,matRotate,(height,width))\n",
    "\n",
    "plt.imshow(img_rotation)"
   ]
  },
  {
   "cell_type": "markdown",
   "metadata": {},
   "source": [
    "## 总结\n",
    "本次实验主要使用 OpenCV 库完成了一些图片的操作。"
   ]
  }
 ],
 "metadata": {
  "kernelspec": {
   "display_name": "Python 3",
   "language": "python",
   "name": "python3"
  },
  "language_info": {
   "codemirror_mode": {
    "name": "ipython",
    "version": 3
   },
   "file_extension": ".py",
   "mimetype": "text/x-python",
   "name": "python",
   "nbconvert_exporter": "python",
   "pygments_lexer": "ipython3",
   "version": "3.8.3"
  }
 },
 "nbformat": 4,
 "nbformat_minor": 1
}
