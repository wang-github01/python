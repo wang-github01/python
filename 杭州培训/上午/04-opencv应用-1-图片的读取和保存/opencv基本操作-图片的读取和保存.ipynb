{
 "cells": [
  {
   "cell_type": "markdown",
   "metadata": {},
   "source": [
    "# opencv基本操作 ：图片的读取和保存\n",
    "\n"
   ]
  },
  {
   "cell_type": "markdown",
   "metadata": {},
   "source": [
    "## 1. 导入cv库"
   ]
  },
  {
   "cell_type": "code",
   "execution_count": 1,
   "metadata": {},
   "outputs": [
    {
     "name": "stdout",
     "output_type": "stream",
     "text": [
      "4.5.2\n"
     ]
    }
   ],
   "source": [
    "#导入opencv\n",
    "import cv2 \n",
    "#查看opencv的版本\n",
    "print(cv2.__version__)"
   ]
  },
  {
   "cell_type": "markdown",
   "metadata": {},
   "source": [
    "## 2.读取图片并展示"
   ]
  },
  {
   "cell_type": "code",
   "execution_count": null,
   "metadata": {},
   "outputs": [],
   "source": [
    "#通过imread函数，读取图片；\n",
    "\n",
    "#imread函数有两个参数，第一个参数是图片路径，第二个参数表示读取图片的形式：\n",
    "#cv2.IMREAD_COLOR（默认）：加载彩色图片，可以直接写1。\n",
    "# cv2.IMREAD_GRAYSCALE：以灰度模式加载图片，可以直接写0。\n",
    "# cv2.IMREAD_UNCHANGED：通道数包括alpha（透明度），可以直接写-1\n",
    "\n",
    "img = cv2.imread('./data/fox.jpg',0)\n",
    "print(img.shape)\n",
    "#image表示显示窗口名称\n",
    "\n",
    "cv2.imshow('image',img)\n",
    "\n",
    "#在运行cv2.imshow后，需要使用cv2.waitKey来保持窗口的显示。\n",
    "#cv2.waitKey(delay)  delay参数表示延迟多少毫秒。默认情况为0\n",
    "#如果不添cv2.waitKey(delay)，在IDLE中执行窗口直接无响应。在命令行中执行的话，则是一闪而过。\n",
    "cv2.waitKey(0)\n",
    "#cv2.destroyAllWindows()销毁所有的我们创建的窗口，如果你想销毁指定的窗口，使用函数cv2.destroyWindow()你可以传指定窗口的名字作为参数。\n",
    "#最后释放窗口是个好习惯！\n",
    "# cv2.destroyAllWindows()"
   ]
  },
  {
   "cell_type": "markdown",
   "metadata": {},
   "source": [
    "### 练习1\n",
    "\n",
    "读取图片（路径为\"./data/snow_spanther.jpg\"）并且显示在窗口\n"
   ]
  },
  {
   "cell_type": "code",
   "execution_count": 1,
   "metadata": {},
   "outputs": [],
   "source": [
    "import cv2\n",
    "\n",
    "#-------- 请开始编写代码\n",
    "\n",
    "#-------- 请结束编写代码"
   ]
  },
  {
   "cell_type": "markdown",
   "metadata": {},
   "source": [
    "## 3.保存图片"
   ]
  },
  {
   "cell_type": "code",
   "execution_count": 4,
   "metadata": {},
   "outputs": [],
   "source": [
    "import cv2\n",
    "img = cv2.imread('./data/fox.jpg',0)\n",
    "\n",
    "#cv2.imwrite表示保存图像，\n",
    "#第一个参数是保存的图像的路径，第二个参数是要保存的图像。\n",
    "cv2.imwrite('./data/fox_deal.png',img) \n",
    "\n",
    "cv2.waitKey(0)\n",
    "#释放窗口\n",
    "cv2.destroyAllWindows()"
   ]
  },
  {
   "cell_type": "markdown",
   "metadata": {},
   "source": [
    "### 图片的有损保存"
   ]
  },
  {
   "cell_type": "code",
   "execution_count": 5,
   "metadata": {},
   "outputs": [
    {
     "data": {
      "text/plain": [
       "True"
      ]
     },
     "execution_count": 5,
     "metadata": {},
     "output_type": "execute_result"
    }
   ],
   "source": [
    "import cv2\n",
    "img = cv2.imread('./data/fox.jpg',1)\n",
    "#cv2.imwrite的参数 \n",
    "#cv2.CV_IMWRITE_JPEG_QUALITY  设置图片格式为.jpeg或者.jpg的图片质量，其值为0---100（数值越大质量越高），默认95\n",
    "#cv2.CV_IMWRITE_WEBP_QUALITY  设置图片的格式为.webp格式的图片质量，值为0--100\n",
    "#cv2.CV_IMWRITE_PNG_COMPRESSION  设置.png格式的压缩比，其值为0--9（数值越大，压缩比越大），默认为3\n",
    "\n",
    "cv2.imwrite('./data/fox_copy.jpg',img,[cv2.IMWRITE_JPEG_QUALITY,50])\n"
   ]
  },
  {
   "cell_type": "markdown",
   "metadata": {},
   "source": [
    "### 练习2\n",
    "读取图片（路径为\"./data/snow_panther.jpg\"）将其保存为 \"./data/snow_panther_copy.jpg\""
   ]
  },
  {
   "cell_type": "code",
   "execution_count": 2,
   "metadata": {},
   "outputs": [],
   "source": [
    "import cv2\n",
    "\n",
    "#-------- 请开始编写代码\n",
    "\n",
    "#-------- 请结束编写代码"
   ]
  }
 ],
 "metadata": {
  "kernelspec": {
   "display_name": "Python 3",
   "language": "python",
   "name": "python3"
  },
  "language_info": {
   "codemirror_mode": {
    "name": "ipython",
    "version": 3
   },
   "file_extension": ".py",
   "mimetype": "text/x-python",
   "name": "python",
   "nbconvert_exporter": "python",
   "pygments_lexer": "ipython3",
   "version": "3.8.8"
  }
 },
 "nbformat": 4,
 "nbformat_minor": 2
}
