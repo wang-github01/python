{
 "cells": [
  {
   "cell_type": "markdown",
   "metadata": {},
   "source": [
    "### 透视变换\n",
    "\n",
    "#### 仿射变换与透视变换区别"
   ]
  },
  {
   "cell_type": "markdown",
   "metadata": {},
   "source": [
    "仿射变换(affine transform)与透视变换(perspective transform)在图像还原、图像局部变化处理方面有重要意义。\n",
    "\n",
    "**仿射变换**：通常，在2D平面中，仿射变换的应用较多。\n",
    "\n",
    "**透视变换**：而在3D平面中，透视变换又有了自己的一席之地。\n",
    "\n",
    "两种变换原理相似，结果也类似，可针对不同的场合使用适当的变换。"
   ]
  },
  {
   "cell_type": "markdown",
   "metadata": {},
   "source": [
    "### 仿射变换\n",
    "\n",
    "在OpenCV中，仿射变换通过函数cv2.wrapAffine(src,dst,mat)实现，其中mat是2x3的仿射矩阵，该矩阵可以利用函数cv2.getAffineTransform(srcTri,dstTri,mat)得到，其中mat是被该函数填充的仿射矩阵，srcTri和dstTri分别是由三个顶点定义的平行四边形（由于是平行四边形，只需要指定三个顶点即可确定），即：给出变换前的ABCD和变换后的abcd\n",
    "\n",
    "<img src=jupyter_image/仿射变换.png width = \"600\" height = \"600\" div align=center />\n",
    "\n",
    "<img src=jupyter_image/affine.png width = \"600\" height = \"600\" div align=center />\n"
   ]
  },
  {
   "cell_type": "markdown",
   "metadata": {},
   "source": [
    "### 透视变换\n",
    "在OpenCV中，透视变换通过函数cv2.wrapPerspective(src,dst,mat)实现, 与仿射变换不同的是，透视矩阵是一个3x3的矩阵，在计算矩阵时，可利用函数cv2.getPerspectiveTransform(srcQuad,dstQuad,mat)，由于不再是平行四边形，需要提供四边形的四个顶点.\n",
    "\n",
    "<img src=jupyter_image/透视变换.png width = \"600\" height = \"600\" div align=center />"
   ]
  },
  {
   "cell_type": "markdown",
   "metadata": {},
   "source": [
    "### 两者区别\n",
    "仿射变换后平行四边形的各边仍操持平行，透视变换结果允许是梯形等四边形，所以仿射变换是透视变换的子集。\n",
    "\n",
    "我们尝试一个透视变换的例子：\n",
    "\n",
    "我们通过把A B C D 四个点，变换为：A B' C' D 四个点，可以达到拉伸车道线的目的。\n",
    "\n",
    "<img src=jupyter_image/road_jupyter.png width = \"600\" height = \"600\" div align=center />"
   ]
  },
  {
   "cell_type": "code",
   "execution_count": 2,
   "metadata": {},
   "outputs": [
    {
     "name": "stdout",
     "output_type": "stream",
     "text": [
      "height:504   width:1004\n"
     ]
    }
   ],
   "source": [
    "import cv2\n",
    "import numpy as np\n",
    "import matplotlib.pyplot as plt\n",
    "img_original = cv2.imread('./data/road.png')\n",
    "\n",
    "#得到原图的信息\n",
    "imgInfo = img_original.shape\n",
    "height = imgInfo[0]\n",
    "width = imgInfo[1]\n",
    "print(\"height:%d   width:%d\" %(height,width))\n",
    "\n",
    "\n",
    "# 原图中的四个角点(A、B、C、D),与变换后矩阵位置\n",
    "pts1 = np.float32([[140, 427], [282, 160], [750, 160], [902, 427]])\n",
    "pts2 = np.float32([[140, 427],[140,50],[902, 50],[902, 427]])\n",
    "\n",
    "# pts1 = np.float32([[56,65],[368,52],[28,387],[389,390]])  A(165, 270)、C(360, 125)、D(615, 125)、B(835, 270)\n",
    "# pts2 = np.float32([[0,0],[300,0],[0,300],[300,300]])\n",
    "\n",
    "# 生成透视变换矩阵；进行透视变换\n",
    "M = cv2.getPerspectiveTransform(pts1, pts2)\n",
    "perspec_img = cv2.warpPerspective(img_original, M, (width,height))\n",
    "\n",
    "\n",
    "cv2.imshow(\"original_img\",img_original)\n",
    "cv2.imshow(\"perspec_img\",perspec_img)\n",
    "\n",
    "cv2.imwrite('./data/img_original.png',img_original)\n",
    "cv2.imwrite('./data/perspec_img.png',perspec_img)\n",
    "cv2.waitKey(0)\n",
    "cv2.destroyAllWindows()\n"
   ]
  },
  {
   "cell_type": "markdown",
   "metadata": {},
   "source": [
    "经过透视变换后的样子如下图所示：\n",
    "\n",
    "可以看到远方逐渐变窄的车道线被拉直了。\n",
    "\n",
    "<img src=jupyter_image/jupyter_perspec.png width = \"800\" height = \"800\" div align=center />"
   ]
  },
  {
   "cell_type": "markdown",
   "metadata": {},
   "source": [
    "### 练习\n",
    "对下图进行透视变换，效果图有右侧所示：\n",
    "\n",
    "<img src=jupyter_image/01.png width = \"350\" height = \"400\" div align=left />\n",
    "<img src=jupyter_image/02.png width = \"350\" height = \"400\" div align=right />"
   ]
  },
  {
   "cell_type": "code",
   "execution_count": 1,
   "metadata": {},
   "outputs": [],
   "source": [
    "import cv2\n",
    "import numpy as np\n",
    "import matplotlib.pyplot as plt\n",
    "\n",
    "#-------- 请开始编写代码\n",
    "\n",
    "#-------- 请结束编写代码"
   ]
  }
 ],
 "metadata": {
  "kernelspec": {
   "display_name": "Python 3",
   "language": "python",
   "name": "python3"
  },
  "language_info": {
   "codemirror_mode": {
    "name": "ipython",
    "version": 3
   },
   "file_extension": ".py",
   "mimetype": "text/x-python",
   "name": "python",
   "nbconvert_exporter": "python",
   "pygments_lexer": "ipython3",
   "version": "3.8.8"
  }
 },
 "nbformat": 4,
 "nbformat_minor": 4
}
