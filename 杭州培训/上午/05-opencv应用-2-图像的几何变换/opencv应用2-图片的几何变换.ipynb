{
 "cells": [
  {
   "cell_type": "markdown",
   "metadata": {},
   "source": [
    "# opncv应用：图片的几何变换\n",
    "\n",
    "## 1.图片缩放"
   ]
  },
  {
   "cell_type": "code",
   "execution_count": 1,
   "metadata": {},
   "outputs": [
    {
     "name": "stdout",
     "output_type": "stream",
     "text": [
      "(700, 1244, 3)\n",
      "height:700;width:1244;channel:3\n"
     ]
    }
   ],
   "source": [
    "# 1 load 2 info 3 resize 4 check\n",
    "import cv2\n",
    "tiger_original = cv2.imread('./data/tiger.jpg',1)\n",
    "imgInfo = tiger_original.shape\n",
    "\n",
    "#读出的图片信息是多维矩阵\n",
    "#我们可以把这个矩阵信息打印出来\n",
    "print(imgInfo)\n",
    "height = imgInfo[0]\n",
    "width = imgInfo[1]\n",
    "channel = imgInfo[2]\n",
    "\n",
    "cv2.imshow(\"tiger_original\",tiger_original)\n",
    "print(\"height:%d;width:%d;channel:%d\"%(height,width,channel))\n",
    "#等待\n",
    "cv2.waitKey(0)\n",
    "#释放窗口\n",
    "cv2.destroyAllWindows()\n"
   ]
  },
  {
   "cell_type": "markdown",
   "metadata": {},
   "source": [
    "### 函数解析：\n",
    "##### cv2.resize(InputArray src, OutputArray dst, Size, fx, fy, interpolation)\n",
    "\n",
    "|  参数        | 含义      |\n",
    "|  :----        | :----  |\n",
    "| InputArray src  | 输入图片 |\n",
    "| OutputArray dst  | 输出图片 |\n",
    "| Size         | 输出图片尺寸(w，h） |\n",
    "| fx, fy       |沿x轴，y轴的缩放系数 |\n",
    "| interpolation  |插入方式 |\n",
    " \n",
    "\n",
    "<font face=\"黑体\" color=red size=3>特别注意：使用cv2.resize()时，size参数顺序是 **宽×高**</font>\n",
    "\n",
    "\n",
    "其中，interpolation表示插入方式，有以下几种方式（**可以尝试区别**）：\n",
    "\n",
    "|  参数        | 含义      |\n",
    "|  :----        | :----  |\n",
    "| INTER_NEAREST | \t最近邻插值 |\n",
    "| INTER_LINEAR  | 双线性插值（默认设置） |\n",
    "| INTER_AREA         | 使用像素区域关系进行重采样 |\n",
    "| INTER_CUBIC      |4x4像素邻域的双三次插值 |\n",
    "| INTER_LANCZOS4  |8x8像素邻域的Lanczos插值 |\n"
   ]
  },
  {
   "cell_type": "code",
   "execution_count": 2,
   "metadata": {},
   "outputs": [],
   "source": [
    "# 我们把原图片进行等比例缩放 \n",
    "dstHeight = int(height*0.5)\n",
    "dstWidth = int(width*0.5)\n",
    "\n",
    "# 缩放到原来的二分之一，输出尺寸格式为（宽，高）\n",
    "tiger_resized_1 = cv2.resize(tiger_original,(dstWidth,dstHeight))\n",
    "cv2.imshow('tiger_resized_1',tiger_resized_1)\n",
    "#保存\n",
    "cv2.imwrite('./data/tiger_resized_1.jpg',tiger_resized_1)\n",
    "\n",
    "cv2.waitKey(0)\n",
    "cv2.destroyAllWindows()"
   ]
  },
  {
   "cell_type": "code",
   "execution_count": 3,
   "metadata": {},
   "outputs": [],
   "source": [
    "#又一种resize方法\n",
    "\n",
    "# 最近邻插值法缩放\n",
    "# 缩放到原来的四分之一 \n",
    "tiger_resized_2 = cv2.resize(tiger_original,(0, 0), fx=0.5, fy=0.5, interpolation=cv2.INTER_NEAREST)\n",
    "cv2.imshow('tiger_resized_2', tiger_resized_2)\n",
    "tiger_resized_3 = cv2.resize(tiger_original,(0, 0), fx=0.5, fy=0.5, interpolation=cv2.INTER_AREA)\n",
    "cv2.imshow('tiger_resized_3', tiger_resized_3)\n",
    "\n",
    "#保存\n",
    "cv2.imwrite('./data/tiger_resized_2.jpg',tiger_resized_2)\n",
    "cv2.waitKey(0)\n",
    "\n",
    "cv2.destroyAllWindows()"
   ]
  },
  {
   "cell_type": "markdown",
   "metadata": {},
   "source": [
    "#### tiger_copy_3 = cv2.resize(tiger, (224,224), interpolation=cv2.INTER_CUBIC) 中：\n",
    "tiger是原图名称，(224,224)是要改变为的目标图片大小\n"
   ]
  },
  {
   "cell_type": "code",
   "execution_count": 4,
   "metadata": {},
   "outputs": [],
   "source": [
    "#又一种resize方法\n",
    "\n",
    "tiger_resized_3 = cv2.resize(tiger_original, (224,224), interpolation=cv2.INTER_CUBIC)\n",
    "cv2.imshow('tiger_resized_3', tiger_resized_3)\n",
    "cv2.imwrite('./data/tiger_resized_3.jpg',tiger_resized_3)\n",
    "\n",
    "cv2.waitKey(0)\n",
    "cv2.destroyAllWindows()"
   ]
  },
  {
   "cell_type": "markdown",
   "metadata": {},
   "source": [
    "### 练习1\n",
    "请将图片 './data/bird' 缩放为原来图片的 1/8 \n",
    "显示出来，并且保存到硬盘上"
   ]
  },
  {
   "cell_type": "code",
   "execution_count": 1,
   "metadata": {},
   "outputs": [],
   "source": [
    "import cv2\n",
    "\n",
    "#-------- 请开始编写代码\n",
    "\n",
    "#-------- 请开结束编写代码"
   ]
  },
  {
   "cell_type": "markdown",
   "metadata": {},
   "source": [
    "## 2. 图片剪切"
   ]
  },
  {
   "cell_type": "code",
   "execution_count": 7,
   "metadata": {},
   "outputs": [
    {
     "name": "stdout",
     "output_type": "stream",
     "text": [
      "(700, 1244, 3)\n"
     ]
    }
   ],
   "source": [
    "import cv2\n",
    "img_original = cv2.imread('./data/tiger.jpg',1)\n",
    "\n",
    "#获得图片的形状\n",
    "imgInfo = img_original.shape\n",
    "print(imgInfo)\n",
    "#截取原图的一部分\n",
    "#参数1 是高度的范围，参数2是宽度的范围\n",
    "img_cropped = img_original[500:1000,400:800]\n",
    "\n",
    "cv2.imshow('img_cropped',img_cropped)\n",
    "cv2.waitKey(0)\n",
    "cv2.imwrite(\"./data/img_cropped.png\",img_cropped)\n",
    "#释放窗口\n",
    "cv2.destroyAllWindows()"
   ]
  },
  {
   "cell_type": "markdown",
   "metadata": {},
   "source": [
    "### 练习2 \n",
    "请随机的截取出一个图片，该图片的高度是原图片的 80%，该图片的宽度是原图片的 80%\n",
    "将该图片显示出来，并且保存到硬盘上，新图片命名为 \"img_cropped_0.8.jpg\"\n",
    "\n",
    "**提示：**\n",
    "Python 产生随机数使用 random 包。该场景下可以考虑使用 uniform 函数，其基本用法如下：\n",
    "```\n",
    "import random\n",
    "rand = random.uniform(0, 0.2)\n",
    "print(rand)\n",
    "```"
   ]
  },
  {
   "cell_type": "code",
   "execution_count": null,
   "metadata": {},
   "outputs": [],
   "source": [
    "import cv2\n",
    "import random\n",
    "\n",
    "#-------- 请开始编写代码\n",
    "\n",
    "#-------- 请结束编写代码"
   ]
  },
  {
   "cell_type": "markdown",
   "metadata": {},
   "source": [
    "## 3.图片平移"
   ]
  },
  {
   "cell_type": "markdown",
   "metadata": {},
   "source": [
    "平移是对象位置的转换。 \n",
    "\n",
    "如果我们知道（x，y）方向的偏移，让它为（Δx，Δy），你可以创建变换矩阵M，如下所示：\n",
    "\n",
    "$$\n",
    " \\left[\n",
    " \\begin{matrix}\n",
    "   1 & 0 & Δx \\\\\n",
    "   0 & 1 & Δy \\\\\n",
    "  \\end{matrix}\n",
    "  \\right] \\\n",
    "$$\n",
    "图像的坐标原点在：图像的左上角。\n",
    "\n",
    "可以将其设置为np.float32类型的Numpy数组，并将其传递给cv.warpAffine（）函数."
   ]
  },
  {
   "cell_type": "code",
   "execution_count": 21,
   "metadata": {},
   "outputs": [
    {
     "name": "stdout",
     "output_type": "stream",
     "text": [
      "(700, 1244, 3)\n",
      "(700, 1244, 3)\n"
     ]
    }
   ],
   "source": [
    "# 图片平移\n",
    "import cv2\n",
    "import numpy as np\n",
    "tiger_original = cv2.imread('./data/tiger.jpg',1)\n",
    "cv2.imshow('tiger_original',tiger_original)\n",
    "imgInfo = tiger_original.shape\n",
    "\n",
    "height = imgInfo[0]\n",
    "width = imgInfo[1]\n",
    "print(imgInfo)\n",
    "####\n",
    "M = np.float32([[1,0,100],[0,1,200]])# 2*3的变换矩阵\n",
    "tiger_translation = cv2.warpAffine(tiger_original,M,(height,width))\n",
    "# tiger_translation = cv2.warpAffine(tiger_original,M,(width,height))\n",
    "print(tiger_translation.shape)\n",
    "# 移位 矩阵\n",
    "cv2.imshow('tiger_translation',tiger_translation)\n",
    "cv2.waitKey(0)\n",
    "#释放窗口\n",
    "cv2.destroyAllWindows()"
   ]
  },
  {
   "cell_type": "markdown",
   "metadata": {},
   "source": [
    "### 练习3\n",
    "\n",
    "对bird图片像右平移80，向下平移100个像素。"
   ]
  },
  {
   "cell_type": "code",
   "execution_count": 3,
   "metadata": {},
   "outputs": [],
   "source": [
    "import cv2\n",
    "\n",
    "#-------- 请开始编写代码\n",
    "\n",
    "#-------- 请结束编写代码"
   ]
  },
  {
   "cell_type": "markdown",
   "metadata": {},
   "source": [
    "## 4.图片镜像"
   ]
  },
  {
   "cell_type": "code",
   "execution_count": 22,
   "metadata": {},
   "outputs": [],
   "source": [
    "import cv2\n",
    "\n",
    "bird_original=cv2.imread(\"./data/bird.jpg\")\n",
    "cv2.imshow(\"bird_original\",bird_original)\n",
    "\n",
    "#水平镜像\n",
    "bird_flip_Horizontally=cv2.flip(bird_original,1)\n",
    "cv2.imshow(\"bird_flip_Horizontally\",bird_flip_Horizontally)\n",
    "\n",
    "#垂直镜像\n",
    "bird_flip_Vertically=cv2.flip(bird_original,0)\n",
    "cv2.imshow(\"bird_flip_Vertically\",bird_flip_Vertically)\n",
    "\n",
    "#水平垂直镜像\n",
    "bird_flip_Horizontally_Vertically=cv2.flip(bird_original,-1)\n",
    "cv2.imshow(\"bird_flip_Horizontally_Vertically\",bird_flip_Horizontally_Vertically)\n",
    "\n",
    "cv2.waitKey(0)\n",
    "cv2.imwrite(\"./data/bird_flip_Horizontally.png\",bird_flip_Horizontally)\n",
    "cv2.imwrite(\"./data/bird_flip_Vertically.png\",bird_flip_Vertically)\n",
    "cv2.imwrite(\"./data/bird_flip_Horizontally_Vertically.png\",bird_flip_Horizontally_Vertically)\n",
    "cv2.destroyAllWindows()\n"
   ]
  },
  {
   "cell_type": "markdown",
   "metadata": {},
   "source": [
    "### 练习4\n",
    "\n",
    "对老虎图片做 水平镜像、垂直镜像、水平垂直镜像\n"
   ]
  },
  {
   "cell_type": "code",
   "execution_count": 5,
   "metadata": {},
   "outputs": [],
   "source": [
    "import cv2\n",
    "\n",
    "#-------- 请开始编写代码\n",
    "\n",
    "#-------- 请结束编写代码"
   ]
  },
  {
   "cell_type": "markdown",
   "metadata": {},
   "source": [
    "## 5.仿射变换\n",
    "\n",
    "1. OpenCV中,主要是先通过cv2.getAffineTransform函数得到图像的变换矩阵M。\n",
    "\n",
    "2. 然后再通过**仿射**变换函数warpAffine得到变换后的图像。\n",
    "\n",
    "> cv2.warpAffine(src, M, dsize,dst=None,flags=None,borderMode=None,borderValue=None)\n",
    "**cv2.warpAffine:**  \n",
    "> - src：输入的图像  \n",
    "> - M：2 X 3 的变换矩阵  \n",
    "> - dsize：输出的图像的size大小  \n",
    "> - dst：输出的图像  \n",
    "> - flags：输出图像的插值方法  \n",
    "> - borderMode：图像边界的处理方式  \n",
    "> - borderValue：当图像边界处理方式为BORDER_CONSTANT时的填充值  \n"
   ]
  },
  {
   "cell_type": "code",
   "execution_count": 25,
   "metadata": {},
   "outputs": [
    {
     "name": "stdout",
     "output_type": "stream",
     "text": [
      "tree_original's shape : (680, 500, 3)\n"
     ]
    }
   ],
   "source": [
    "import numpy as np\n",
    "import cv2\n",
    "\n",
    "#对图像进行变换（三点得到一个变换矩阵）\n",
    "# 我们知道三点确定一个平面，我们也可以通过确定三个点的关系来得到转换矩阵\n",
    "# 然后再通过warpAffine来进行变换\n",
    "tree_original=cv2.imread(\"./data/tree.jpg\")\n",
    "cv2.imshow(\"tree_original\",tree_original)\n",
    "\n",
    "imgInfo = tree_original.shape\n",
    "print(\"tree_original's shape :\",imgInfo)\n",
    "\n",
    "height = imgInfo[0]\n",
    "width = imgInfo[1]\n",
    "\n",
    "#原图上的三个点的位置\n",
    "matSrc = np.float32([[0,0],[0,600],[400,0]])\n",
    "\n",
    "#变换后这三个点的位置\n",
    "matDst = np.float32([[50,50],[300,height-300],[width-200,100]])\n",
    "\n",
    "#得到仿射变换矩阵M\n",
    "matAffine = cv2.getAffineTransform(matSrc,matDst)\n",
    "\n",
    "#进行仿射变换\n",
    "tree_affine = cv2.warpAffine(tree_original,matAffine,(width,height))\n",
    "cv2.imshow('tree_affine',tree_affine)\n",
    "cv2.waitKey(0)\n",
    "cv2.imwrite('./data/tree_affine.png',tree_affine)\n",
    "cv2.destroyAllWindows()"
   ]
  },
  {
   "cell_type": "markdown",
   "metadata": {},
   "source": [
    "### 练习5\n",
    "\n",
    "对老虎图片做仿射变换。"
   ]
  },
  {
   "cell_type": "code",
   "execution_count": 6,
   "metadata": {},
   "outputs": [],
   "source": [
    "import cv2\n",
    "\n",
    "#-------- 请开始编写代码\n",
    "\n",
    "#-------- 请结束编写代码"
   ]
  },
  {
   "cell_type": "markdown",
   "metadata": {},
   "source": [
    "## 6.图片旋转\n",
    "\n",
    "OpenCV中对图像的旋转主要是先通过getRotationMatrix2D函数得到图像的旋转矩阵M，然后再通过仿射变换函数warpAffine得到旋转后的图像。\n",
    "\n",
    "> cv2.getRotationMatrix2D(center, angle, scale)  \n",
    "\n",
    "\n",
    "#### 参数说明：\n",
    "**cv2.getRotationMatrix2D:**  \n",
    "> - center：表示旋转的中心点  \n",
    "> - angle：表示旋转的角度degrees  \n",
    "> - scale：图像缩放因子  \n",
    "\n"
   ]
  },
  {
   "cell_type": "code",
   "execution_count": 30,
   "metadata": {},
   "outputs": [
    {
     "name": "stdout",
     "output_type": "stream",
     "text": [
      "(651, 650, 3)\n"
     ]
    }
   ],
   "source": [
    "import cv2\n",
    "import numpy as np\n",
    "img_original = cv2.imread('./data/back.jpg',1)\n",
    "cv2.imshow('img_original',img_original)\n",
    "imgInfo = img_original.shape\n",
    "height = imgInfo[0]\n",
    "width = imgInfo[1]\n",
    "print(imgInfo)\n",
    "\n",
    "# 2*3 的旋转矩阵\n",
    "matRotate = cv2.getRotationMatrix2D((height*0.5,width*0.5),45,0.5)# 缩放因子为0.5\n",
    "\n",
    "img_rotation = cv2.warpAffine(img_original,matRotate,(height,width))\n",
    "cv2.imshow('img_rotation',img_rotation)\n",
    "cv2.waitKey(0)\n",
    "cv2.imwrite(\"./data/back_rotation.png\",img_rotation)\n",
    "cv2.destroyAllWindows()"
   ]
  },
  {
   "cell_type": "markdown",
   "metadata": {},
   "source": [
    "### 练习6\n",
    "\n",
    "对小鸟图片做旋转变换，并保存为“bird_new”。"
   ]
  },
  {
   "cell_type": "code",
   "execution_count": 7,
   "metadata": {},
   "outputs": [],
   "source": [
    "import cv2\n",
    "\n",
    "#-------- 请开始编写代码\n",
    "\n",
    "#-------- 请结束编写代码"
   ]
  }
 ],
 "metadata": {
  "kernelspec": {
   "display_name": "Python 3",
   "language": "python",
   "name": "python3"
  },
  "language_info": {
   "codemirror_mode": {
    "name": "ipython",
    "version": 3
   },
   "file_extension": ".py",
   "mimetype": "text/x-python",
   "name": "python",
   "nbconvert_exporter": "python",
   "pygments_lexer": "ipython3",
   "version": "3.8.8"
  }
 },
 "nbformat": 4,
 "nbformat_minor": 4
}
