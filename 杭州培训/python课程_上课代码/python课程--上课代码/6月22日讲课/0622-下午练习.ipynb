{
 "cells": [
  {
   "cell_type": "markdown",
   "id": "4d9a6464",
   "metadata": {},
   "source": [
    "## 题1\n",
    "倒序输出列表[1,2,3,4,5]中的元素"
   ]
  },
  {
   "cell_type": "code",
   "execution_count": null,
   "id": "3d3efc80",
   "metadata": {},
   "outputs": [],
   "source": []
  },
  {
   "cell_type": "markdown",
   "id": "383b3201",
   "metadata": {},
   "source": [
    "## 题2（难度较大）\n",
    "编程解答：有1、2、3、4个数字，能组成多少个互不相同且无重复数字的三位数？都是多少？"
   ]
  },
  {
   "cell_type": "code",
   "execution_count": null,
   "id": "012ee956",
   "metadata": {},
   "outputs": [],
   "source": []
  },
  {
   "cell_type": "markdown",
   "id": "474aeac8",
   "metadata": {},
   "source": [
    "## 题3\n",
    "\n",
    "编写代码，使用 if...elif...else 语句判断输入的一个数字是正数、负数或零："
   ]
  },
  {
   "cell_type": "code",
   "execution_count": null,
   "id": "9fdf69ee",
   "metadata": {},
   "outputs": [],
   "source": []
  },
  {
   "cell_type": "markdown",
   "id": "2fd1077f",
   "metadata": {},
   "source": [
    "## 题4：\n",
    "\n",
    "根据输入年龄，对称谓进行细致的分类：\n",
    "\n",
    "大于18岁，输出 adult，小于18岁大于6岁，输出teenager，小于6岁，输出kid。\n",
    "\n",
    "输出结果样例为：\n",
    "\n",
    "your age is 3\n",
    "\n",
    "kid"
   ]
  },
  {
   "cell_type": "code",
   "execution_count": 1,
   "id": "4a92c4b4",
   "metadata": {},
   "outputs": [
    {
     "name": "stdout",
     "output_type": "stream",
     "text": [
      "your age is 3\n",
      "kid\n"
     ]
    }
   ],
   "source": []
  },
  {
   "cell_type": "markdown",
   "id": "fdc0ccc4",
   "metadata": {},
   "source": [
    "## 题5：\n",
    "\n",
    "请使用 if else 语句编写一个程序，程序要求如下：\n",
    "\n",
    "对任意输入正整数a和b，若a的平方加上b的平方的和大于100，则输出两数平方和的百位以上的数字（包含百位），否则输出两者较大数减去较小数的差。\n",
    "\n",
    "提示：可以用abs()函数获取数字的绝对值。"
   ]
  },
  {
   "cell_type": "code",
   "execution_count": null,
   "id": "c0232bb1",
   "metadata": {},
   "outputs": [],
   "source": []
  },
  {
   "cell_type": "markdown",
   "id": "2e980b54",
   "metadata": {},
   "source": []
  }
 ],
 "metadata": {
  "kernelspec": {
   "display_name": "Python 3",
   "language": "python",
   "name": "python3"
  },
  "language_info": {
   "codemirror_mode": {
    "name": "ipython",
    "version": 3
   },
   "file_extension": ".py",
   "mimetype": "text/x-python",
   "name": "python",
   "nbconvert_exporter": "python",
   "pygments_lexer": "ipython3",
   "version": "3.8.8"
  }
 },
 "nbformat": 4,
 "nbformat_minor": 5
}
