{
 "cells": [
  {
   "cell_type": "markdown",
   "metadata": {},
   "source": [
    "# python基础知识-2\n",
    "\n",
    "## 1. 条件语句\n",
    "\n",
    "现实中，我们很多时候要根据不同的条件来进行判断，进而去做不同的事情。  \n",
    "\n",
    "> - 比如，只有修够了学分才能毕业。  \n",
    "> - 比如，只有是本单位员工，才能进入本单位。\n",
    "> - 比如，只有开了工作票，才能进行检修作业。\n",
    "\n",
    "<center><img src=\"https://ai-studio-static-online.cdn.bcebos.com/c4d9a182824541cc95d54a2de75380de8041c38a85df4a38acc7069b7e3e7b94\" width=800 ></center>\n",
    "\n",
    "\n",
    "### 1.1 if 语法\n",
    "\n",
    "```\n",
    "if 条件:\n",
    " 条件成⽴执⾏的代码1\n",
    " 条件成⽴执⾏的代码2\n",
    " ......\n",
    "```"
   ]
  },
  {
   "cell_type": "code",
   "execution_count": 9,
   "metadata": {},
   "outputs": [
    {
     "name": "stdout",
     "output_type": "stream",
     "text": [
      "参加毕业典礼\n"
     ]
    }
   ],
   "source": [
    "#例子：感受一下if语句\n",
    "age = 20\n",
    "if age >= 38:\n",
    "    print('已经修完学分，可以毕业')\n",
    "print('参加毕业典礼')"
   ]
  },
  {
   "cell_type": "markdown",
   "metadata": {},
   "source": [
    "### 1.2 if...else... 语法\n",
    "\n",
    "作⽤：条件成⽴执⾏if下⽅的代码; 条件不成⽴执⾏else下⽅的代码。\n",
    "\n",
    "```\n",
    "if 条件:\n",
    " 条件成⽴执⾏的代码1\n",
    " 条件成⽴执⾏的代码2\n",
    " ......\n",
    "else:\n",
    " 条件不成⽴执⾏的代码1\n",
    " 条件不成⽴执⾏的代码2\n",
    " ......\n",
    "```"
   ]
  },
  {
   "cell_type": "code",
   "execution_count": 11,
   "metadata": {},
   "outputs": [
    {
     "name": "stdout",
     "output_type": "stream",
     "text": [
      "请输⼊您的年龄：20\n",
      "您的年龄是20,已经成年，可以上⽹\n",
      "系统关闭\n"
     ]
    }
   ],
   "source": [
    "#例子：if else \n",
    "age = int(input('请输⼊您的年龄：'))\n",
    "if age >= 18:\n",
    "    print(f'您的年龄是{age},已经成年，可以上⽹')\n",
    "else:\n",
    "    print(f'您的年龄是{age},未成年，请⾃⾏回家写作业')\n",
    "print('系统关闭')"
   ]
  },
  {
   "cell_type": "markdown",
   "metadata": {},
   "source": [
    "### 1.3 多重判断\n",
    "\n",
    "```\n",
    "if 条件1:\n",
    " 条件1成⽴执⾏的代码1\n",
    " 条件1成⽴执⾏的代码2\n",
    " ......\n",
    "elif 条件2：\n",
    " 条件2成⽴执⾏的代码1\n",
    " 条件2成⽴执⾏的代码2\n",
    " ......\n",
    "......\n",
    "else:\n",
    " 以上条件都不成⽴执⾏执⾏的代码\n",
    "```"
   ]
  },
  {
   "cell_type": "code",
   "execution_count": 18,
   "metadata": {},
   "outputs": [
    {
     "name": "stdout",
     "output_type": "stream",
     "text": [
      "请输⼊您的成绩：80.0\n"
     ]
    },
    {
     "ename": "ValueError",
     "evalue": "invalid literal for int() with base 10: '80.0'",
     "output_type": "error",
     "traceback": [
      "\u001b[1;31m---------------------------------------------------------------------------\u001b[0m",
      "\u001b[1;31mValueError\u001b[0m                                Traceback (most recent call last)",
      "\u001b[1;32m<ipython-input-18-3cea72deba85>\u001b[0m in \u001b[0;36m<module>\u001b[1;34m\u001b[0m\n\u001b[0;32m      1\u001b[0m \u001b[1;31m#例子：多重判断\u001b[0m\u001b[1;33m\u001b[0m\u001b[1;33m\u001b[0m\u001b[1;33m\u001b[0m\u001b[0m\n\u001b[1;32m----> 2\u001b[1;33m \u001b[0mage\u001b[0m \u001b[1;33m=\u001b[0m \u001b[0mint\u001b[0m\u001b[1;33m(\u001b[0m\u001b[0minput\u001b[0m\u001b[1;33m(\u001b[0m\u001b[1;34m'请输⼊您的成绩：'\u001b[0m\u001b[1;33m)\u001b[0m\u001b[1;33m)\u001b[0m\u001b[1;33m\u001b[0m\u001b[1;33m\u001b[0m\u001b[0m\n\u001b[0m\u001b[0;32m      3\u001b[0m \u001b[1;32mif\u001b[0m \u001b[0mage\u001b[0m \u001b[1;33m<\u001b[0m \u001b[1;36m60\u001b[0m\u001b[1;33m:\u001b[0m\u001b[1;33m\u001b[0m\u001b[1;33m\u001b[0m\u001b[0m\n\u001b[0;32m      4\u001b[0m     \u001b[0mprint\u001b[0m\u001b[1;33m(\u001b[0m\u001b[1;34mf'您的成绩是{age},不及格'\u001b[0m\u001b[1;33m)\u001b[0m\u001b[1;33m\u001b[0m\u001b[1;33m\u001b[0m\u001b[0m\n\u001b[0;32m      5\u001b[0m \u001b[1;33m\u001b[0m\u001b[0m\n",
      "\u001b[1;31mValueError\u001b[0m: invalid literal for int() with base 10: '80.0'"
     ]
    }
   ],
   "source": [
    "#例子：多重判断\n",
    "age = int(input('请输⼊您的成绩：'))\n",
    "if age < 60:\n",
    "    print(f'您的成绩是{age},不及格')\n",
    "\n",
    "elif age >= 60 and age <= 80:  #该句也可写成60 <= age <= 80\n",
    "    print(f'您的成绩是{age},良好')\n",
    "\n",
    "elif age > 80:\n",
    "    print(f'您的成绩是{age},优秀')"
   ]
  },
  {
   "cell_type": "markdown",
   "metadata": {},
   "source": [
    "### 1.4 if 嵌套\n",
    "\n",
    "\n",
    "<center><img src=\"https://ai-studio-static-online.cdn.bcebos.com/7cfd63c2dac24680bbadb78327d066b753de77eb157f4f9c9edf154b51f26447\" width=600 ></center>"
   ]
  },
  {
   "cell_type": "code",
   "execution_count": 5,
   "metadata": {},
   "outputs": [
    {
     "name": "stdout",
     "output_type": "stream",
     "text": [
      "有车票\n",
      "但没有通过安检\n"
     ]
    }
   ],
   "source": [
    "#例子：感受一下if嵌套\n",
    "\n",
    "ticket = 1     # 用1代表有车票，0代表没有车票\n",
    "knife = 1     # 用1表示携带刀子，0表示没有携带刀子\n",
    "\n",
    "if ticket == 1:\n",
    "    print(\"有车票\")\n",
    "    if knife == 0:\n",
    "        print(\"并通过安检\")\n",
    "\n",
    "    else:\n",
    "        print(\"但没有通过安检\")\n",
    "\n",
    "else:\n",
    "    print(\"没有车票，不能进站\")\n"
   ]
  },
  {
   "cell_type": "code",
   "execution_count": 6,
   "metadata": {},
   "outputs": [
    {
     "name": "stdout",
     "output_type": "stream",
     "text": [
      "没有车票，不能进站\n"
     ]
    }
   ],
   "source": [
    "#例子：再感受一下if嵌套\n",
    "\n",
    "ticket = 0     # 用1代表有车票，0代表没有车票\n",
    "knife = 1     # 用1表示携带刀子，0表示没有携带刀子\n",
    "\n",
    "if ticket == 1:\n",
    "    print(\"有车票\")\n",
    "    if knife == 0:\n",
    "        print(\"并通过安检\")\n",
    "\n",
    "    else:\n",
    "        print(\"但没有通过安检\")\n",
    "\n",
    "else:\n",
    "    print(\"没有车票，不能进站\")"
   ]
  },
  {
   "cell_type": "code",
   "execution_count": 7,
   "metadata": {},
   "outputs": [
    {
     "name": "stdout",
     "output_type": "stream",
     "text": [
      "有车票\n",
      "并通过安检\n"
     ]
    }
   ],
   "source": [
    "#例子：再感受一下if嵌套\n",
    "\n",
    "ticket = 1     # 用1代表有车票，0代表没有车票\n",
    "knife = 0     # 用1表示携带刀子，0表示没有携带刀子\n",
    "\n",
    "if ticket == 1:\n",
    "    print(\"有车票\")\n",
    "    if knife == 0:\n",
    "        print(\"并通过安检\")\n",
    "\n",
    "    else:\n",
    "        print(\"但没有通过安检\")\n",
    "\n",
    "else:\n",
    "    print(\"没有车票，不能进站\")"
   ]
  },
  {
   "cell_type": "markdown",
   "metadata": {},
   "source": [
    "### 知识点补充：三目运算符\n",
    "\n",
    "```\n",
    "a = 1\n",
    "b = 2\n",
    "c = a if a > b else b\n",
    "print(c)\n",
    "```"
   ]
  },
  {
   "cell_type": "code",
   "execution_count": 15,
   "metadata": {},
   "outputs": [
    {
     "name": "stdout",
     "output_type": "stream",
     "text": [
      "1\n"
     ]
    }
   ],
   "source": [
    "#例子：三目运算符\n",
    "a = 1\n",
    "b = 2\n",
    "c = a if a < b else b\n",
    "print(c)"
   ]
  },
  {
   "cell_type": "code",
   "execution_count": null,
   "metadata": {},
   "outputs": [],
   "source": []
  }
 ],
 "metadata": {
  "kernelspec": {
   "display_name": "Python 3",
   "language": "python",
   "name": "python3"
  },
  "language_info": {
   "codemirror_mode": {
    "name": "ipython",
    "version": 3
   },
   "file_extension": ".py",
   "mimetype": "text/x-python",
   "name": "python",
   "nbconvert_exporter": "python",
   "pygments_lexer": "ipython3",
   "version": "3.8.8"
  }
 },
 "nbformat": 4,
 "nbformat_minor": 1
}
