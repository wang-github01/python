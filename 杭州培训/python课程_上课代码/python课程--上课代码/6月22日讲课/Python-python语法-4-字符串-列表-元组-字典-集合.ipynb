{
 "cells": [
  {
   "cell_type": "markdown",
   "metadata": {},
   "source": [
    "## 1.字符串\n",
    "\n",
    "### 1.1 字符串的表示\n",
    "\n",
    "双引号或者单引号中的数据，就是字符串，三引号中，也是字符串。如：\n",
    "\n",
    "```\n",
    "    b = \"hello itcast.cn\"\n",
    "    或者\n",
    "    \n",
    "    b = 'hello itcast.cn'\n",
    "    或者\n",
    "    \n",
    "    name3 = ''' Tom '''\n",
    "    name4 = \"\"\" Rose \"\"\"\n",
    "    a = ''' i am Tom,\n",
    "     nice to meet you! '''\n",
    "    b = \"\"\" i am Rose,\n",
    "     nice to meet you! \"\"\"\n",
    "\n",
    "```\n",
    " "
   ]
  },
  {
   "cell_type": "code",
   "execution_count": 2,
   "metadata": {},
   "outputs": [
    {
     "name": "stdout",
     "output_type": "stream",
     "text": [
      "<class 'str'>\n",
      "<class 'str'>\n"
     ]
    }
   ],
   "source": [
    "#例子：字符串\n",
    "a = 'hello world'\n",
    "b = \"abcdefg\"\n",
    "print(type(a))\n",
    "print(type(b))"
   ]
  },
  {
   "cell_type": "code",
   "execution_count": 3,
   "metadata": {},
   "outputs": [
    {
     "name": "stdout",
     "output_type": "stream",
     "text": [
      " i am Tom,\n",
      "       nice to meet you! \n",
      " i am Rose,\n",
      " nice to meet you! \n"
     ]
    }
   ],
   "source": [
    "#三引号字符串，注意：三引号形式的字符串⽀持换⾏。\n",
    "\n",
    "a = ''' i am Tom,\n",
    "       nice to meet you! '''\n",
    "b = \"\"\" i am Rose,\n",
    " nice to meet you! \"\"\"\n",
    "\n",
    "\n",
    "print(a)\n",
    "print(b)"
   ]
  },
  {
   "cell_type": "markdown",
   "metadata": {},
   "source": [
    "### 1.2 字符串的输出"
   ]
  },
  {
   "cell_type": "code",
   "execution_count": 4,
   "metadata": {},
   "outputs": [
    {
     "name": "stdout",
     "output_type": "stream",
     "text": [
      "hello world\n",
      "我的名字是John\n",
      "我的名字是John\n"
     ]
    }
   ],
   "source": [
    "#字符串的输出\n",
    "print('hello world')\n",
    "name = 'John'\n",
    "print('我的名字是%s' % name)\n",
    "print(f'我的名字是{name}')"
   ]
  },
  {
   "cell_type": "markdown",
   "metadata": {},
   "source": [
    "### 1.3 字符串的输入\n",
    "\n",
    "在Python中，使⽤ input() 接收⽤户输⼊。"
   ]
  },
  {
   "cell_type": "code",
   "execution_count": 5,
   "metadata": {},
   "outputs": [
    {
     "name": "stdout",
     "output_type": "stream",
     "text": [
      "请输⼊您的名字：小东\n",
      "您输⼊的名字是小东\n",
      "<class 'str'>\n",
      "请输⼊您的密码：1234\n",
      "您输⼊的密码是1234\n",
      "<class 'str'>\n"
     ]
    }
   ],
   "source": [
    "name = input('请输⼊您的名字：')\n",
    "print(f'您输⼊的名字是{name}')\n",
    "print(type(name))\n",
    "password = input('请输⼊您的密码：')\n",
    "print(f'您输⼊的密码是{password}')\n",
    "print(type(password))"
   ]
  },
  {
   "cell_type": "markdown",
   "metadata": {},
   "source": [
    "### 1.4 字符串的下标\n",
    "\n",
    "“下标” ⼜叫 “索引” ，就是编号。⽐如⽕⻋座位号，座位号的作⽤：按照编号快速找到对应的座位。\n",
    "\n",
    "同理，下标的作⽤即是通过下标快速找到对应的数据。\n",
    "\n",
    "<center><img src=\"https://ai-studio-static-online.cdn.bcebos.com/7ad6303a32804823b57192bcbd60d8a3644f3d78d05c405c9bfbe197b5051c2a\" width=600></center>"
   ]
  },
  {
   "cell_type": "code",
   "execution_count": 6,
   "metadata": {},
   "outputs": [
    {
     "name": "stdout",
     "output_type": "stream",
     "text": [
      "b\n",
      "a\n",
      "c\n"
     ]
    }
   ],
   "source": [
    "#例子：字符串的下标\n",
    "name = \"abcdef\"\n",
    "print(name[1])\n",
    "print(name[0])\n",
    "print(name[2])"
   ]
  },
  {
   "cell_type": "markdown",
   "metadata": {},
   "source": [
    "#### 注意：下标从0开始。\n",
    "\n",
    "<center><img src=\"https://ai-studio-static-online.cdn.bcebos.com/1aa7db887f4c4ffcb80ffccbe6073f4c434abdacffaa4f38a50308ac31db1863\" width=600></center>"
   ]
  },
  {
   "cell_type": "markdown",
   "metadata": {},
   "source": [
    "### 1.5 字符串的切片\n",
    "\n",
    "切片是指 在字符串、列表、元组 中，截取其中一部分的操作。\n",
    "\n",
    "```\n",
    "序列[开始位置下标:结束位置下标:步⻓]\n",
    "```\n",
    "#### 注意：\n",
    "\n",
    "选取的区间属于左闭右开型，即从\"起始\"位开始，到\"结束\"位的前一位结束（不包含结束位本身)。\n"
   ]
  },
  {
   "cell_type": "code",
   "execution_count": 7,
   "metadata": {},
   "outputs": [
    {
     "name": "stdout",
     "output_type": "stream",
     "text": [
      "cde\n",
      "cde\n",
      "abcde\n",
      "bcdefg\n",
      "abcdefg\n",
      "aceg\n",
      "abcdef\n",
      "def\n",
      "gfedcba\n"
     ]
    }
   ],
   "source": [
    "#例子：字符串的切片\n",
    "name = \"abcdefg\"\n",
    "print(name[2:5:1]) # cde\n",
    "print(name[2:5]) # cde\n",
    "print(name[:5]) # abcde\n",
    "print(name[1:]) # bcdefg\n",
    "print(name[:]) # abcdefg\n",
    "print(name[::2]) # aceg\n",
    "print(name[:-1]) # abcdef, 负1表示倒数第⼀个数据\n",
    "print(name[-4:-1]) # def\n",
    "print(name[::-1]) # gfedcba"
   ]
  },
  {
   "cell_type": "markdown",
   "metadata": {},
   "source": [
    "## 1.6 字符串的常用操作\n",
    "\n",
    "### ①查找：查找⼦串在字符串中的位置或出现的次数。\n",
    "\n",
    "> - find()：检测某个⼦串是否包含在这个字符串中，如果在返回这个⼦串开始的位置下标，否则则返回-1。\n",
    "\n",
    "语法：\n",
    "```\n",
    "字符串序列.find(⼦串, 开始位置下标, 结束位置下标)\n",
    "```\n",
    "\n",
    "> - index()：检测某个⼦串是否包含在这个字符串中，如果在返回这个⼦串开始的位置下标，否则报异常。\n",
    "\n",
    "语法：\n",
    "\n",
    "```\n",
    "字符串序列.index(⼦串, 开始位置下标, 结束位置下标)\n",
    "```"
   ]
  },
  {
   "cell_type": "code",
   "execution_count": 8,
   "metadata": {},
   "outputs": [
    {
     "name": "stdout",
     "output_type": "stream",
     "text": [
      "12\n",
      "23\n",
      "-1\n"
     ]
    }
   ],
   "source": [
    "#查找的例子\n",
    "mystr = \"hello world and itcast and itheima and Python\"\n",
    "print(mystr.find('and')) # 12\n",
    "print(mystr.find('and', 15, 30)) # 23\n",
    "print(mystr.find('ands')) # -1"
   ]
  },
  {
   "cell_type": "code",
   "execution_count": 9,
   "metadata": {},
   "outputs": [
    {
     "name": "stdout",
     "output_type": "stream",
     "text": [
      "12\n",
      "23\n"
     ]
    },
    {
     "ename": "ValueError",
     "evalue": "substring not found",
     "output_type": "error",
     "traceback": [
      "\u001b[1;31m---------------------------------------------------------------------------\u001b[0m",
      "\u001b[1;31mValueError\u001b[0m                                Traceback (most recent call last)",
      "\u001b[1;32m<ipython-input-9-1839b88e7f08>\u001b[0m in \u001b[0;36m<module>\u001b[1;34m\u001b[0m\n\u001b[0;32m      3\u001b[0m \u001b[0mprint\u001b[0m\u001b[1;33m(\u001b[0m\u001b[0mmystr\u001b[0m\u001b[1;33m.\u001b[0m\u001b[0mindex\u001b[0m\u001b[1;33m(\u001b[0m\u001b[1;34m'and'\u001b[0m\u001b[1;33m)\u001b[0m\u001b[1;33m)\u001b[0m \u001b[1;31m# 12\u001b[0m\u001b[1;33m\u001b[0m\u001b[1;33m\u001b[0m\u001b[0m\n\u001b[0;32m      4\u001b[0m \u001b[0mprint\u001b[0m\u001b[1;33m(\u001b[0m\u001b[0mmystr\u001b[0m\u001b[1;33m.\u001b[0m\u001b[0mindex\u001b[0m\u001b[1;33m(\u001b[0m\u001b[1;34m'and'\u001b[0m\u001b[1;33m,\u001b[0m \u001b[1;36m15\u001b[0m\u001b[1;33m,\u001b[0m \u001b[1;36m30\u001b[0m\u001b[1;33m)\u001b[0m\u001b[1;33m)\u001b[0m \u001b[1;31m# 23\u001b[0m\u001b[1;33m\u001b[0m\u001b[1;33m\u001b[0m\u001b[0m\n\u001b[1;32m----> 5\u001b[1;33m \u001b[0mprint\u001b[0m\u001b[1;33m(\u001b[0m\u001b[0mmystr\u001b[0m\u001b[1;33m.\u001b[0m\u001b[0mindex\u001b[0m\u001b[1;33m(\u001b[0m\u001b[1;34m'ands'\u001b[0m\u001b[1;33m)\u001b[0m\u001b[1;33m)\u001b[0m \u001b[1;31m# 报错\u001b[0m\u001b[1;33m\u001b[0m\u001b[1;33m\u001b[0m\u001b[0m\n\u001b[0m",
      "\u001b[1;31mValueError\u001b[0m: substring not found"
     ]
    }
   ],
   "source": [
    "#查找的例子\n",
    "mystr = \"hello world and itcast and itheima and Python\"\n",
    "print(mystr.index('and')) # 12\n",
    "print(mystr.index('and', 15, 30)) # 23\n",
    "print(mystr.index('ands')) # 报错"
   ]
  },
  {
   "cell_type": "markdown",
   "metadata": {},
   "source": [
    "### ②判断：返回的结果是布尔型数据类型：True 或 False\n",
    "\n",
    "- > startswith()：检查字符串是否是以指定⼦串开头，是则返回 True，否则返回 False。如果设置开始和结束位置下标，则在指定范围内检查。\n",
    "\n",
    "语法：\n",
    "\n",
    "```\n",
    "字符串序列.startswith(⼦串, 开始位置下标, 结束位置下标)\n",
    "```\n",
    "\n",
    "- > endswith()：检查字符串是否是以指定⼦串结尾，是则返回 True，否则返回 False。如果设置开始和结束位置下标，则在指定范围内检查。\n",
    "\n",
    "语法：\n",
    "\n",
    "```\n",
    "字符串序列.endswith(⼦串, 开始位置下标, 结束位置下标)\n",
    "```"
   ]
  },
  {
   "cell_type": "code",
   "execution_count": 10,
   "metadata": {},
   "outputs": [
    {
     "name": "stdout",
     "output_type": "stream",
     "text": [
      "True\n",
      "False\n"
     ]
    }
   ],
   "source": [
    "#例子\n",
    "mystr = \"hello world and itcast and itheima and Python \"\n",
    "# 结果：True\n",
    "print(mystr.startswith('hello'))\n",
    "# 结果False\n",
    "print(mystr.startswith('hello', 5, 20))"
   ]
  },
  {
   "cell_type": "code",
   "execution_count": 11,
   "metadata": {},
   "outputs": [
    {
     "name": "stdout",
     "output_type": "stream",
     "text": [
      "True\n",
      "False\n",
      "False\n"
     ]
    }
   ],
   "source": [
    "#例子\n",
    "mystr = \"hello world and itcast and itheima and Python\"\n",
    "# 结果：True\n",
    "print(mystr.endswith('Python'))\n",
    "# 结果：False\n",
    "print(mystr.endswith('python'))\n",
    "# 结果：False\n",
    "print(mystr.endswith('Python', 2, 20))"
   ]
  },
  {
   "cell_type": "markdown",
   "metadata": {},
   "source": [
    "### ③修改：通过函数的形式修改字符串中的数据。\n",
    "\n",
    "- > replace()：替换\n",
    "\n",
    "语法:\n",
    "```\n",
    "字符串序列.replace(旧⼦串, 新⼦串, 替换次数)\n",
    "```\n",
    "**注意：** 替换次数如果超出⼦串出现次数，则替换次数为该⼦串出现次数。  \n",
    "\n",
    "- > split()：按照指定字符分割字符串。\n",
    "\n",
    "语法：\n",
    "\n",
    "```\n",
    "字符串序列.split(分割字符, num)\n",
    "```\n",
    "**注意：** num表示的是分割字符出现的次数，返回数据个数为num+1个。"
   ]
  },
  {
   "cell_type": "code",
   "execution_count": 12,
   "metadata": {},
   "outputs": [
    {
     "name": "stdout",
     "output_type": "stream",
     "text": [
      "hello world he itcast he itheima he Python\n",
      "hello world he itcast he itheima he Python\n",
      "hello world and itcast and itheima and Python\n"
     ]
    }
   ],
   "source": [
    "#例子：\n",
    "mystr = \"hello world and itcast and itheima and Python\"\n",
    "# 结果：hello world he itcast he itheima he Python\n",
    "print(mystr.replace('and', 'he'))\n",
    "# 结果：hello world he itcast he itheima he Python\n",
    "print(mystr.replace('and', 'he', 5))\n",
    "# 结果：hello world and itcast and itheima and Python\n",
    "print(mystr)"
   ]
  },
  {
   "cell_type": "code",
   "execution_count": 13,
   "metadata": {},
   "outputs": [
    {
     "name": "stdout",
     "output_type": "stream",
     "text": [
      "['hello world ', ' itcast ', ' itheima ', ' Python']\n",
      "['hello world ', ' itcast ', ' itheima and Python']\n",
      "['hello', 'world', 'and', 'itcast', 'and', 'itheima', 'and', 'Python']\n",
      "['hello', 'world', 'and itcast and itheima and Python']\n"
     ]
    }
   ],
   "source": [
    "#例子\n",
    "mystr = \"hello world and itcast and itheima and Python\"\n",
    "# 结果：['hello world ', ' itcast ', ' itheima ', ' Python']\n",
    "print(mystr.split('and'))\n",
    "# 结果：['hello world ', ' itcast ', ' itheima and Python']\n",
    "print(mystr.split('and', 2))\n",
    "# 结果：['hello', 'world', 'and', 'itcast', 'and', 'itheima', 'and', 'Python']\n",
    "print(mystr.split(' '))\n",
    "# 结果：['hello', 'world', 'and itcast and itheima and Python']\n",
    "print(mystr.split(' ', 2))"
   ]
  },
  {
   "cell_type": "markdown",
   "metadata": {},
   "source": [
    "- > lower()：将字符串中⼤写转⼩写\n"
   ]
  },
  {
   "cell_type": "code",
   "execution_count": 14,
   "metadata": {},
   "outputs": [
    {
     "name": "stdout",
     "output_type": "stream",
     "text": [
      "hello world and itcast and itheima and python\n"
     ]
    }
   ],
   "source": [
    "#例子\n",
    "mystr = \"hello world and itcast and itheima and Python\"\n",
    "# 结果：hello world and itcast and itheima and python\n",
    "print(mystr.lower())"
   ]
  },
  {
   "cell_type": "markdown",
   "metadata": {},
   "source": [
    "- > upper()：将字符串中⼩写转⼤写。"
   ]
  },
  {
   "cell_type": "code",
   "execution_count": 15,
   "metadata": {},
   "outputs": [
    {
     "name": "stdout",
     "output_type": "stream",
     "text": [
      "HELLO WORLD AND ITCAST AND ITHEIMA AND PYTHON\n"
     ]
    }
   ],
   "source": [
    "#例子\n",
    "mystr = \"hello world and itcast and itheima and Python\"\n",
    "# 结果：HELLO WORLD AND ITCAST AND ITHEIMA AND PYTHON\n",
    "print(mystr.upper())"
   ]
  },
  {
   "cell_type": "markdown",
   "metadata": {},
   "source": [
    "# 2.列表\n",
    "\n",
    "```\n",
    "请思考一下：如何存储一个学生的名字？\n",
    "答：变量（类型为字符串）。\n",
    "\n",
    "再思考一下：如何存储100个学生的名字？声明100个变量吗？\n",
    "答：列表， \n",
    "列表⼀次性可以存储多个数据。且可以是不同数据类型。程序员可以对这些数据进⾏的操作有：增、删、改、查。\n",
    "```\n",
    "语法：\n",
    "```\n",
    "[数据1, 数据2, 数据3, 数据4......]\n",
    "```"
   ]
  },
  {
   "cell_type": "markdown",
   "metadata": {},
   "source": [
    "### 2.1 查找\n",
    "\n",
    "#### ①用下标查找"
   ]
  },
  {
   "cell_type": "code",
   "execution_count": 16,
   "metadata": {},
   "outputs": [
    {
     "name": "stdout",
     "output_type": "stream",
     "text": [
      "Tom\n",
      "Lily\n",
      "Rose\n"
     ]
    }
   ],
   "source": [
    "#例子：用下标查找\n",
    "name_list = ['Tom', 'Lily', 'Rose']\n",
    "print(name_list[0]) # Tom\n",
    "print(name_list[1]) # Lily\n",
    "print(name_list[2]) # Rose"
   ]
  },
  {
   "cell_type": "markdown",
   "metadata": {},
   "source": [
    "#### ②用函数查找\n",
    "\n",
    "- > index()：返回指定数据所在位置的下标 \n",
    "\n",
    "```\n",
    "列表序列.index(数据, 开始位置下标, 结束位置下标)\n",
    "```\n",
    "\n",
    "注意：如果查找的数据不存在则报错。"
   ]
  },
  {
   "cell_type": "code",
   "execution_count": 17,
   "metadata": {},
   "outputs": [
    {
     "name": "stdout",
     "output_type": "stream",
     "text": [
      "1\n"
     ]
    }
   ],
   "source": [
    "name_list = ['Tom', 'Lily', 'Rose']\n",
    "print(name_list.index('Lily', 0, 2)) # 1"
   ]
  },
  {
   "cell_type": "markdown",
   "metadata": {},
   "source": [
    "- > count()：统计指定数据在当前列表中出现的次数。"
   ]
  },
  {
   "cell_type": "code",
   "execution_count": 18,
   "metadata": {},
   "outputs": [
    {
     "name": "stdout",
     "output_type": "stream",
     "text": [
      "1\n"
     ]
    }
   ],
   "source": [
    "name_list = ['Tom', 'Lily', 'Rose']\n",
    "print(name_list.count('Lily')) # 1"
   ]
  },
  {
   "cell_type": "markdown",
   "metadata": {},
   "source": [
    "- > len()：访问列表⻓度，即列表中数据的个数。"
   ]
  },
  {
   "cell_type": "code",
   "execution_count": 19,
   "metadata": {},
   "outputs": [
    {
     "name": "stdout",
     "output_type": "stream",
     "text": [
      "3\n"
     ]
    }
   ],
   "source": [
    "name_list = ['Tom', 'Lily', 'Rose']\n",
    "print(len(name_list)) # 3"
   ]
  },
  {
   "cell_type": "markdown",
   "metadata": {},
   "source": [
    "### 2.2 判断是否存在\n",
    "\n",
    "- > in：判断指定数据在某个列表序列，如果在返回True，否则返回False"
   ]
  },
  {
   "cell_type": "code",
   "execution_count": 20,
   "metadata": {},
   "outputs": [
    {
     "name": "stdout",
     "output_type": "stream",
     "text": [
      "True\n",
      "False\n"
     ]
    }
   ],
   "source": [
    "name_list = ['Tom', 'Lily', 'Rose']\n",
    "# 结果：True\n",
    "print('Lily' in name_list)\n",
    "# 结果：False\n",
    "print('Lilys' in name_list)"
   ]
  },
  {
   "cell_type": "markdown",
   "metadata": {},
   "source": [
    "- > not in：判断指定数据不在某个列表序列，如果不在返回True，否则返回False"
   ]
  },
  {
   "cell_type": "code",
   "execution_count": 21,
   "metadata": {},
   "outputs": [
    {
     "name": "stdout",
     "output_type": "stream",
     "text": [
      "False\n",
      "True\n"
     ]
    }
   ],
   "source": [
    "name_list = ['Tom', 'Lily', 'Rose']\n",
    "# 结果：False\n",
    "print('Lily' not in name_list)\n",
    "# 结果：True\n",
    "print('Lilys' not in name_list)"
   ]
  },
  {
   "cell_type": "code",
   "execution_count": 23,
   "metadata": {},
   "outputs": [
    {
     "name": "stdout",
     "output_type": "stream",
     "text": [
      "请输⼊您要搜索的名字：rose\n",
      "您输⼊的名字是rose, 名字不存在\n"
     ]
    }
   ],
   "source": [
    "#例子：\n",
    "name_list = ['Tom', 'Lily', 'Rose']\n",
    "name = input('请输⼊您要搜索的名字：')\n",
    "if name in name_list:\n",
    "    print(f'您输⼊的名字是{name}, 名字已经存在')\n",
    "else:\n",
    "    print(f'您输⼊的名字是{name}, 名字不存在')"
   ]
  },
  {
   "cell_type": "markdown",
   "metadata": {},
   "source": [
    "### 2.3 增加\n",
    "\n",
    "- > append()：列表结尾追加数据。\n",
    "\n",
    "语法:\n",
    "```\n",
    "列表序列.append(数据)\n",
    "\n",
    "如果append()追加的数据是⼀个序列，则追加整个序列到列表\n",
    "```\n"
   ]
  },
  {
   "cell_type": "code",
   "execution_count": 24,
   "metadata": {},
   "outputs": [
    {
     "name": "stdout",
     "output_type": "stream",
     "text": [
      "['Tom', 'Lily', 'Rose', 'xiaoming']\n"
     ]
    }
   ],
   "source": [
    "name_list = ['Tom', 'Lily', 'Rose']\n",
    "name_list.append('xiaoming')\n",
    "# 结果：['Tom', 'Lily', 'Rose', 'xiaodong']\n",
    "print(name_list)"
   ]
  },
  {
   "cell_type": "code",
   "execution_count": 25,
   "metadata": {},
   "outputs": [
    {
     "name": "stdout",
     "output_type": "stream",
     "text": [
      "['Tom', 'Lily', 'Rose', ['xiaoming', 'xiaohong']]\n"
     ]
    }
   ],
   "source": [
    "name_list = ['Tom', 'Lily', 'Rose']\n",
    "name_list.append(['xiaoming', 'xiaohong'])\n",
    "# 结果：['Tom', 'Lily', 'Rose', ['xiaoming', 'xiaohong']]\n",
    "print(name_list)"
   ]
  },
  {
   "cell_type": "markdown",
   "metadata": {},
   "source": [
    "### 2.4 删除\n",
    "\n",
    "- > remove()：移除列表中某个数据的第⼀个匹配项。\n",
    "\n",
    "语法:\n",
    "```\n",
    "列表序列.remove(数据)\n",
    "```\n"
   ]
  },
  {
   "cell_type": "code",
   "execution_count": 26,
   "metadata": {},
   "outputs": [
    {
     "name": "stdout",
     "output_type": "stream",
     "text": [
      "['Tom', 'Lily']\n"
     ]
    }
   ],
   "source": [
    "name_list = ['Tom', 'Lily', 'Rose']\n",
    "name_list.remove('Rose')\n",
    "# 结果：['Tom', 'Lily']\n",
    "print(name_list)"
   ]
  },
  {
   "cell_type": "markdown",
   "metadata": {},
   "source": [
    "### 2.4 排序\n",
    "\n",
    "- > sort方法:\n",
    "\n",
    "```\n",
    "列表序列.sort( key=None, reverse=False)\n",
    "\n",
    "注意：reverse表示排序规则，reverse = True 降序， reverse = False 升序（默认）\n",
    "```\n",
    "\n",
    "- > reverse方法是将list逆置。"
   ]
  },
  {
   "cell_type": "code",
   "execution_count": 27,
   "metadata": {},
   "outputs": [
    {
     "name": "stdout",
     "output_type": "stream",
     "text": [
      "[8, 6, 3, 2, 5, 1]\n"
     ]
    }
   ],
   "source": [
    "num_list = [1, 5, 2, 3, 6, 8]\n",
    "num_list.reverse()\n",
    "# 结果：[8, 6, 3, 2, 5, 1]\n",
    "print(num_list)"
   ]
  },
  {
   "cell_type": "code",
   "execution_count": 28,
   "metadata": {},
   "outputs": [
    {
     "name": "stdout",
     "output_type": "stream",
     "text": [
      "[1, 2, 3, 5, 6, 8]\n"
     ]
    }
   ],
   "source": [
    "num_list = [1, 5, 2, 3, 6, 8]\n",
    "num_list.sort()\n",
    "# 结果：[1, 2, 3, 5, 6, 8]\n",
    "print(num_list)"
   ]
  },
  {
   "cell_type": "markdown",
   "metadata": {},
   "source": [
    "### 2.5 列表的循环遍历\n",
    "\n",
    "- > 使用while循环\n"
   ]
  },
  {
   "cell_type": "code",
   "execution_count": 29,
   "metadata": {},
   "outputs": [
    {
     "name": "stdout",
     "output_type": "stream",
     "text": [
      "Tom\n",
      "Lily\n",
      "Rose\n"
     ]
    }
   ],
   "source": [
    "name_list = ['Tom', 'Lily', 'Rose']\n",
    "i = 0\n",
    "while i < len(name_list):\n",
    "    print(name_list[i])\n",
    "    i += 1\n",
    " "
   ]
  },
  {
   "cell_type": "markdown",
   "metadata": {},
   "source": [
    "- > 用for循环"
   ]
  },
  {
   "cell_type": "code",
   "execution_count": 30,
   "metadata": {},
   "outputs": [
    {
     "name": "stdout",
     "output_type": "stream",
     "text": [
      "Tom\n",
      "Lily\n",
      "Rose\n"
     ]
    }
   ],
   "source": [
    "name_list = ['Tom', 'Lily', 'Rose']\n",
    "for i in name_list:\n",
    "    print(i)"
   ]
  },
  {
   "cell_type": "markdown",
   "metadata": {},
   "source": [
    "### 2.6 列表嵌套\n",
    "\n",
    "```\n",
    "name_list = [['⼩东', '⼩牛', '⼩羊'], ['Tom', 'Lily', 'Rose'], ['小红', '李四',\n",
    "'小东']]\n",
    "```"
   ]
  },
  {
   "cell_type": "code",
   "execution_count": 31,
   "metadata": {},
   "outputs": [
    {
     "name": "stdout",
     "output_type": "stream",
     "text": [
      "['小红', '李四', '小东']\n",
      "李四\n"
     ]
    }
   ],
   "source": [
    "#如何查找 李四\n",
    "name_list = [['⼩东', '⼩牛', '⼩羊'], ['Tom', 'Lily', 'Rose'], ['小红', '李四',\n",
    "'小东']]\n",
    "# 第⼀步：按下标查找到李四所在的列表\n",
    "print(name_list[2])\n",
    "# 第⼆步：从李四所在的列表⾥⾯，再按下标找到数据李四\n",
    "print(name_list[2][1])"
   ]
  },
  {
   "cell_type": "markdown",
   "metadata": {},
   "source": [
    "## 3.元组\n",
    "\n",
    "```\n",
    "思考一下：如果想要存储多个数据，并且，这些数据是不能修改的，怎么做？\n",
    "答：用列表？\n",
    "\n",
    "   列表 是可以⼀次性存储多个数据，但，列表中的数据允许修改。\n",
    "   \n",
    " 那怎么办？\n",
    " \n",
    "   用元组\n",
    "```\n",
    "```\n",
    "元组语法：定义元组使⽤⼩括号，且逗号隔开各个数据，数据可以是不同的数据类型。\n",
    "\n",
    "# 多个数据元组\n",
    "t1 = (10, 20, 30)\n",
    "# 单个数据元组\n",
    "t2 = (10,)\n",
    "\n",
    "注意：如果定义的元组只有⼀个数据，那么这个数据后⾯最好也要添加逗号\n",
    "```"
   ]
  },
  {
   "cell_type": "code",
   "execution_count": 32,
   "metadata": {},
   "outputs": [
    {
     "name": "stdout",
     "output_type": "stream",
     "text": [
      "[100, 20, 30]\n"
     ]
    }
   ],
   "source": [
    "num_list = [10, 20, 30]\n",
    "num_list[0] = 100\n",
    "print(num_list)"
   ]
  },
  {
   "cell_type": "markdown",
   "metadata": {},
   "source": [
    "元组数据不⽀持修改，只⽀持查找：\n",
    "\n",
    "> - 按下标查找数据:\n"
   ]
  },
  {
   "cell_type": "code",
   "execution_count": 33,
   "metadata": {},
   "outputs": [
    {
     "name": "stdout",
     "output_type": "stream",
     "text": [
      "aa\n"
     ]
    }
   ],
   "source": [
    "tuple1 = ('aa', 'bb', 'cc', 'bb')\n",
    "print(tuple1[0]) # aa"
   ]
  },
  {
   "cell_type": "markdown",
   "metadata": {},
   "source": [
    "> - index()：查找某个数据，如果数据存在返回对应的下标，否则报错，语法和列表、字符串的index\n",
    "⽅法相同。"
   ]
  },
  {
   "cell_type": "code",
   "execution_count": 34,
   "metadata": {},
   "outputs": [
    {
     "name": "stdout",
     "output_type": "stream",
     "text": [
      "0\n"
     ]
    }
   ],
   "source": [
    "tuple1 = ('aa', 'bb', 'cc', 'bb')\n",
    "print(tuple1.index('aa')) # 0"
   ]
  },
  {
   "cell_type": "markdown",
   "metadata": {},
   "source": [
    "> - count()：统计某个数据在当前元组出现的次数。"
   ]
  },
  {
   "cell_type": "code",
   "execution_count": 35,
   "metadata": {},
   "outputs": [
    {
     "name": "stdout",
     "output_type": "stream",
     "text": [
      "2\n"
     ]
    }
   ],
   "source": [
    "tuple1 = ('aa', 'bb', 'cc', 'bb')\n",
    "print(tuple1.count('bb')) # 2"
   ]
  },
  {
   "cell_type": "markdown",
   "metadata": {},
   "source": [
    "> - len()：统计元组中数据的个数。"
   ]
  },
  {
   "cell_type": "code",
   "execution_count": 36,
   "metadata": {},
   "outputs": [
    {
     "name": "stdout",
     "output_type": "stream",
     "text": [
      "4\n"
     ]
    }
   ],
   "source": [
    "tuple1 = ('aa', 'bb', 'cc', 'bb')\n",
    "print(len(tuple1)) # 4"
   ]
  },
  {
   "cell_type": "markdown",
   "metadata": {},
   "source": [
    "## 3.字典\n",
    "\n",
    "      思考一下：每个学生信息包括学号、姓名、年龄等，我怎么去存储学生的信息呢？我又如何从中找到某个学生的信息？\n",
    "\n",
    "      用列表？元组？都不合适。\n",
    "\n",
    "      用字典\n",
    "      \n",
    "      info = {'name':'小王', 'id':100, 'sex':'f', 'address':'北京朝阳门外大街'}\n",
    "      \n",
    "\n",
    "> - 字典和列表一样，也能够存储多个数据,符号为⼤括号\n",
    "> - 列表中找某个元素时，是根据下标进行的\n",
    "> - 字典中找某个元素时，是根据'名字'（就是冒号:前面的那个值，例如上面代码中的'name'、'id'、'sex'）\n",
    "> - 字典的每个元素由2部分组成，键:值。例如 'name':'班长' ,'name'为键，'班长'为值\n",
    "> - ⼀般称冒号前⾯的为键(key)，简称k；冒号后⾯的为值(value)，简称v。\n",
    "\n",
    "### 3.1 字典的操作\n",
    "\n",
    "#### ①增/改\n",
    "\n",
    "    写法：字典序列[key] = 值\n",
    "    注意：如果key存在则修改这个key对应的值；如果key不存在则新增此键值对"
   ]
  },
  {
   "cell_type": "code",
   "execution_count": 37,
   "metadata": {},
   "outputs": [
    {
     "name": "stdout",
     "output_type": "stream",
     "text": [
      "{'name': 'Rose', 'age': 20, 'gender': '男'}\n",
      "{'name': 'Rose', 'age': 20, 'gender': '男', 'id': 110}\n"
     ]
    }
   ],
   "source": [
    "dict1 = {'name': 'Tom', 'age': 20, 'gender': '男'}\n",
    "dict1['name'] = 'Rose'\n",
    "# 结果：{'name': 'Rose', 'age': 20, 'gender': '男'}\n",
    "print(dict1)\n",
    "dict1['id'] = 110\n",
    "# {'name': 'Rose', 'age': 20, 'gender': '男', 'id': 110}\n",
    "print(dict1)"
   ]
  },
  {
   "cell_type": "markdown",
   "metadata": {},
   "source": [
    "#### ②删\n",
    "> - del：删除字典或删除字典中指定键值对。"
   ]
  },
  {
   "cell_type": "code",
   "execution_count": 38,
   "metadata": {},
   "outputs": [
    {
     "name": "stdout",
     "output_type": "stream",
     "text": [
      "{'name': 'Tom', 'age': 20}\n"
     ]
    }
   ],
   "source": [
    "dict1 = {'name': 'Tom', 'age': 20, 'gender': '男'}\n",
    "del dict1['gender']\n",
    "# 结果：{'name': 'Tom', 'age': 20}\n",
    "print(dict1)"
   ]
  },
  {
   "cell_type": "markdown",
   "metadata": {},
   "source": [
    "#### ③查\n",
    "\n",
    "- > key值查找\n",
    "\n",
    "如果当前查找的key存在，则返回对应的值；否则则报错"
   ]
  },
  {
   "cell_type": "code",
   "execution_count": 39,
   "metadata": {},
   "outputs": [
    {
     "name": "stdout",
     "output_type": "stream",
     "text": [
      "Tom\n"
     ]
    },
    {
     "ename": "KeyError",
     "evalue": "'id'",
     "output_type": "error",
     "traceback": [
      "\u001b[1;31m---------------------------------------------------------------------------\u001b[0m",
      "\u001b[1;31mKeyError\u001b[0m                                  Traceback (most recent call last)",
      "\u001b[1;32m<ipython-input-39-5f2c38ad272e>\u001b[0m in \u001b[0;36m<module>\u001b[1;34m\u001b[0m\n\u001b[0;32m      1\u001b[0m \u001b[0mdict1\u001b[0m \u001b[1;33m=\u001b[0m \u001b[1;33m{\u001b[0m\u001b[1;34m'name'\u001b[0m\u001b[1;33m:\u001b[0m \u001b[1;34m'Tom'\u001b[0m\u001b[1;33m,\u001b[0m \u001b[1;34m'age'\u001b[0m\u001b[1;33m:\u001b[0m \u001b[1;36m20\u001b[0m\u001b[1;33m,\u001b[0m \u001b[1;34m'gender'\u001b[0m\u001b[1;33m:\u001b[0m \u001b[1;34m'男'\u001b[0m\u001b[1;33m}\u001b[0m\u001b[1;33m\u001b[0m\u001b[1;33m\u001b[0m\u001b[0m\n\u001b[0;32m      2\u001b[0m \u001b[0mprint\u001b[0m\u001b[1;33m(\u001b[0m\u001b[0mdict1\u001b[0m\u001b[1;33m[\u001b[0m\u001b[1;34m'name'\u001b[0m\u001b[1;33m]\u001b[0m\u001b[1;33m)\u001b[0m \u001b[1;31m# Tom\u001b[0m\u001b[1;33m\u001b[0m\u001b[1;33m\u001b[0m\u001b[0m\n\u001b[1;32m----> 3\u001b[1;33m \u001b[0mprint\u001b[0m\u001b[1;33m(\u001b[0m\u001b[0mdict1\u001b[0m\u001b[1;33m[\u001b[0m\u001b[1;34m'id'\u001b[0m\u001b[1;33m]\u001b[0m\u001b[1;33m)\u001b[0m \u001b[1;31m# 报错\u001b[0m\u001b[1;33m\u001b[0m\u001b[1;33m\u001b[0m\u001b[0m\n\u001b[0m",
      "\u001b[1;31mKeyError\u001b[0m: 'id'"
     ]
    }
   ],
   "source": [
    "dict1 = {'name': 'Tom', 'age': 20, 'gender': '男'}\n",
    "print(dict1['name']) # Tom\n",
    "print(dict1['id']) # 报错"
   ]
  },
  {
   "cell_type": "markdown",
   "metadata": {},
   "source": [
    "- > keys()\n",
    "\n",
    "- > values()\n",
    "\n",
    "- > items()\n"
   ]
  },
  {
   "cell_type": "code",
   "execution_count": 40,
   "metadata": {},
   "outputs": [
    {
     "name": "stdout",
     "output_type": "stream",
     "text": [
      "dict_keys(['name', 'age', 'gender'])\n"
     ]
    }
   ],
   "source": [
    "dict1 = {'name': 'Tom', 'age': 20, 'gender': '男'}\n",
    "print(dict1.keys()) # dict_keys(['name', 'age', 'gender'])"
   ]
  },
  {
   "cell_type": "code",
   "execution_count": 41,
   "metadata": {},
   "outputs": [
    {
     "name": "stdout",
     "output_type": "stream",
     "text": [
      "dict_values(['Tom', 20, '男'])\n"
     ]
    }
   ],
   "source": [
    "dict1 = {'name': 'Tom', 'age': 20, 'gender': '男'}\n",
    "print(dict1.values()) # dict_values(['Tom', 20, '男'])"
   ]
  },
  {
   "cell_type": "code",
   "execution_count": 42,
   "metadata": {},
   "outputs": [
    {
     "name": "stdout",
     "output_type": "stream",
     "text": [
      "dict_items([('name', 'Tom'), ('age', 20), ('gender', '男')])\n"
     ]
    }
   ],
   "source": [
    "dict1 = {'name': 'Tom', 'age': 20, 'gender': '男'}\n",
    "print(dict1.items()) # dict_items([('name', 'Tom'), ('age', 20), ('gender','男')])"
   ]
  },
  {
   "cell_type": "markdown",
   "metadata": {},
   "source": [
    "### 3.2 字典的循环遍历\n",
    "\n",
    "- > 遍历字典的key"
   ]
  },
  {
   "cell_type": "code",
   "execution_count": 43,
   "metadata": {},
   "outputs": [
    {
     "name": "stdout",
     "output_type": "stream",
     "text": [
      "name\n",
      "age\n",
      "gender\n"
     ]
    }
   ],
   "source": [
    "dict1 = {'name': 'Tom', 'age': 20, 'gender': '男'}\n",
    "for key in dict1.keys():\n",
    "    print(key)"
   ]
  },
  {
   "cell_type": "markdown",
   "metadata": {},
   "source": [
    "- > 遍历字典的value\n"
   ]
  },
  {
   "cell_type": "code",
   "execution_count": 44,
   "metadata": {},
   "outputs": [
    {
     "name": "stdout",
     "output_type": "stream",
     "text": [
      "Tom\n",
      "20\n",
      "男\n"
     ]
    }
   ],
   "source": [
    "dict1 = {'name': 'Tom', 'age': 20, 'gender': '男'}\n",
    "for value in dict1.values():\n",
    "    print(value)\n"
   ]
  },
  {
   "cell_type": "markdown",
   "metadata": {},
   "source": [
    "- > 遍历字典的元素"
   ]
  },
  {
   "cell_type": "code",
   "execution_count": 45,
   "metadata": {},
   "outputs": [
    {
     "name": "stdout",
     "output_type": "stream",
     "text": [
      "('name', 'Tom')\n",
      "('age', 20)\n",
      "('gender', '男')\n"
     ]
    }
   ],
   "source": [
    "dict1 = {'name': 'Tom', 'age': 20, 'gender': '男'}\n",
    "for item in dict1.items():\n",
    "    print(item)"
   ]
  },
  {
   "cell_type": "markdown",
   "metadata": {},
   "source": [
    " - > 遍历字典的键值对"
   ]
  },
  {
   "cell_type": "code",
   "execution_count": 46,
   "metadata": {},
   "outputs": [
    {
     "name": "stdout",
     "output_type": "stream",
     "text": [
      "name = Tom\n",
      "age = 20\n",
      "gender = 男\n"
     ]
    }
   ],
   "source": [
    "dict1 = {'name': 'Tom', 'age': 20, 'gender': '男'}\n",
    "for key, value in dict1.items():\n",
    "    print(f'{key} = {value}')"
   ]
  },
  {
   "cell_type": "markdown",
   "metadata": {},
   "source": [
    "# 4.集合\n",
    "\n",
    "创建集合使⽤ {} 或 set() ， 但是如果要创建空集合只能使⽤ set() ，因为 {} ⽤来创建空字典。\n",
    "\n",
    "特点：\n",
    "1. 集合可以去掉重复数据；\n",
    "2. 集合数据是⽆序的"
   ]
  },
  {
   "cell_type": "code",
   "execution_count": 47,
   "metadata": {},
   "outputs": [
    {
     "name": "stdout",
     "output_type": "stream",
     "text": [
      "{40, 10, 50, 20, 30}\n",
      "{40, 10, 50, 20, 30}\n",
      "{'c', 'd', 'b', 'f', 'e', 'a', 'g'}\n",
      "<class 'set'>\n",
      "<class 'dict'>\n"
     ]
    }
   ],
   "source": [
    "s1 = {10, 20, 30, 40, 50}\n",
    "print(s1)\n",
    "s2 = {10, 30, 20, 10, 30, 40, 30, 50}\n",
    "print(s2)\n",
    "s3 = set('abcdefg')\n",
    "print(s3)\n",
    "s4 = set()\n",
    "print(type(s4)) # set\n",
    "s5 = {}\n",
    "print(type(s5)) # dict"
   ]
  },
  {
   "cell_type": "markdown",
   "metadata": {},
   "source": [
    "## 4.1 集合的操作\n",
    "\n",
    "### ①增加数据\n",
    "\n",
    "- > add()\n",
    "\n",
    "因为集合有去重功能，所以，当向集合内追加的数据是当前集合已有数据的话，则不进⾏任何操作。"
   ]
  },
  {
   "cell_type": "code",
   "execution_count": 48,
   "metadata": {},
   "outputs": [
    {
     "name": "stdout",
     "output_type": "stream",
     "text": [
      "{100, 10, 20}\n"
     ]
    }
   ],
   "source": [
    "s1 = {10, 20}\n",
    "s1.add(100)\n",
    "s1.add(10)\n",
    "print(s1) # {100, 10, 20}"
   ]
  },
  {
   "cell_type": "markdown",
   "metadata": {},
   "source": [
    "- > update(), 追加的数据是序列。"
   ]
  },
  {
   "cell_type": "code",
   "execution_count": 49,
   "metadata": {},
   "outputs": [
    {
     "name": "stdout",
     "output_type": "stream",
     "text": [
      "{'c', 100, 'b', 200, 10, 20, 'a'}\n"
     ]
    }
   ],
   "source": [
    "s1 = {10, 20}\n",
    "#s1.update(100) # 报错\n",
    "s1.update([100, 200])\n",
    "s1.update('abc')\n",
    "print(s1)"
   ]
  },
  {
   "cell_type": "markdown",
   "metadata": {},
   "source": [
    "### ②删除数据\n",
    "- > remove()，删除集合中的指定数据，如果数据不存在则报错。"
   ]
  },
  {
   "cell_type": "code",
   "execution_count": 50,
   "metadata": {},
   "outputs": [
    {
     "name": "stdout",
     "output_type": "stream",
     "text": [
      "{20}\n"
     ]
    },
    {
     "ename": "KeyError",
     "evalue": "10",
     "output_type": "error",
     "traceback": [
      "\u001b[1;31m---------------------------------------------------------------------------\u001b[0m",
      "\u001b[1;31mKeyError\u001b[0m                                  Traceback (most recent call last)",
      "\u001b[1;32m<ipython-input-50-b4134b583975>\u001b[0m in \u001b[0;36m<module>\u001b[1;34m\u001b[0m\n\u001b[0;32m      2\u001b[0m \u001b[0ms1\u001b[0m\u001b[1;33m.\u001b[0m\u001b[0mremove\u001b[0m\u001b[1;33m(\u001b[0m\u001b[1;36m10\u001b[0m\u001b[1;33m)\u001b[0m\u001b[1;33m\u001b[0m\u001b[1;33m\u001b[0m\u001b[0m\n\u001b[0;32m      3\u001b[0m \u001b[0mprint\u001b[0m\u001b[1;33m(\u001b[0m\u001b[0ms1\u001b[0m\u001b[1;33m)\u001b[0m\u001b[1;33m\u001b[0m\u001b[1;33m\u001b[0m\u001b[0m\n\u001b[1;32m----> 4\u001b[1;33m \u001b[0ms1\u001b[0m\u001b[1;33m.\u001b[0m\u001b[0mremove\u001b[0m\u001b[1;33m(\u001b[0m\u001b[1;36m10\u001b[0m\u001b[1;33m)\u001b[0m \u001b[1;31m# 报错\u001b[0m\u001b[1;33m\u001b[0m\u001b[1;33m\u001b[0m\u001b[0m\n\u001b[0m\u001b[0;32m      5\u001b[0m \u001b[0mprint\u001b[0m\u001b[1;33m(\u001b[0m\u001b[0ms1\u001b[0m\u001b[1;33m)\u001b[0m\u001b[1;33m\u001b[0m\u001b[1;33m\u001b[0m\u001b[0m\n",
      "\u001b[1;31mKeyError\u001b[0m: 10"
     ]
    }
   ],
   "source": [
    "s1 = {10, 20}\n",
    "s1.remove(10)\n",
    "print(s1)\n",
    "s1.remove(10) # 报错\n",
    "print(s1)"
   ]
  },
  {
   "cell_type": "markdown",
   "metadata": {},
   "source": [
    "- > discard()，删除集合中的指定数据，如果数据不存在也不会报错。"
   ]
  },
  {
   "cell_type": "code",
   "execution_count": 51,
   "metadata": {},
   "outputs": [
    {
     "name": "stdout",
     "output_type": "stream",
     "text": [
      "{20}\n",
      "{20}\n"
     ]
    }
   ],
   "source": [
    "s1 = {10, 20}\n",
    "s1.discard(10)\n",
    "print(s1)\n",
    "s1.discard(10)\n",
    "print(s1)"
   ]
  },
  {
   "cell_type": "markdown",
   "metadata": {},
   "source": [
    "- > pop()，随机删除集合中的某个数据，并返回这个数据。"
   ]
  },
  {
   "cell_type": "code",
   "execution_count": 52,
   "metadata": {},
   "outputs": [
    {
     "name": "stdout",
     "output_type": "stream",
     "text": [
      "40\n",
      "{10, 50, 20, 30}\n"
     ]
    }
   ],
   "source": [
    "s1 = {10, 20, 30, 40, 50}\n",
    "del_num = s1.pop()\n",
    "print(del_num)\n",
    "print(s1)"
   ]
  },
  {
   "cell_type": "markdown",
   "metadata": {},
   "source": [
    "### ③查找数据  \n",
    "> - in：判断数据在集合序列  \n",
    "> - not in：判断数据不在集合序列"
   ]
  },
  {
   "cell_type": "code",
   "execution_count": 53,
   "metadata": {},
   "outputs": [
    {
     "name": "stdout",
     "output_type": "stream",
     "text": [
      "True\n",
      "False\n"
     ]
    }
   ],
   "source": [
    "s1 = {10, 20, 30, 40, 50}\n",
    "print(10 in s1)\n",
    "print(10 not in s1)"
   ]
  },
  {
   "cell_type": "markdown",
   "metadata": {},
   "source": [
    "# 5.公共方法\n",
    "\n",
    "\n",
    "<center><img src=\"https://ai-studio-static-online.cdn.bcebos.com/76298c37e5b745f4b047ebe2660a0495808db9ba49434443ba03a6d6736fd8a9\"  width=600></center>\n"
   ]
  },
  {
   "cell_type": "code",
   "execution_count": 54,
   "metadata": {},
   "outputs": [
    {
     "name": "stdout",
     "output_type": "stream",
     "text": [
      "aabb\n",
      "[1, 2, 10, 20]\n",
      "(1, 2, 10, 20)\n"
     ]
    }
   ],
   "source": [
    "#例子：+\n",
    "# 1. 字符串\n",
    "str1 = 'aa'\n",
    "str2 = 'bb'\n",
    "str3 = str1 + str2\n",
    "print(str3) # aabb\n",
    "# 2. 列表\n",
    "list1 = [1, 2]\n",
    "list2 = [10, 20]\n",
    "list3 = list1 + list2\n",
    "print(list3) # [1, 2, 10, 20]\n",
    "# 3. 元组\n",
    "t1 = (1, 2)\n",
    "t2 = (10, 20)\n",
    "t3 = t1 + t2\n",
    "print(t3) # (10, 20, 100, 200)"
   ]
  },
  {
   "cell_type": "code",
   "execution_count": 55,
   "metadata": {},
   "outputs": [
    {
     "name": "stdout",
     "output_type": "stream",
     "text": [
      "----------\n",
      "['hello', 'hello', 'hello', 'hello']\n",
      "('world', 'world', 'world', 'world')\n"
     ]
    }
   ],
   "source": [
    "#例子：*\n",
    "# 1. 字符串\n",
    "print('-' * 10) # ----------\n",
    "# 2. 列表\n",
    "list1 = ['hello']\n",
    "print(list1 * 4) # ['hello', 'hello', 'hello', 'hello']\n",
    "# 3. 元组\n",
    "t1 = ('world',)\n",
    "print(t1 * 4) # ('world', 'world', 'world', 'world')"
   ]
  },
  {
   "cell_type": "code",
   "execution_count": 56,
   "metadata": {},
   "outputs": [
    {
     "name": "stdout",
     "output_type": "stream",
     "text": [
      "True\n",
      "False\n",
      "True\n",
      "False\n",
      "False\n",
      "True\n"
     ]
    }
   ],
   "source": [
    "#in或not in\n",
    "# 1. 字符串\n",
    "print('a' in 'abcd') # True\n",
    "print('a' not in 'abcd') # False\n",
    "# 2. 列表\n",
    "list1 = ['a', 'b', 'c', 'd']\n",
    "print('a' in list1) # True\n",
    "print('a' not in list1) # False\n",
    "# 3. 元组\n",
    "t1 = ('a', 'b', 'c', 'd')\n",
    "print('aa' in t1) # False\n",
    "print('aa' not in t1) # True"
   ]
  },
  {
   "cell_type": "markdown",
   "metadata": {},
   "source": [
    "\n",
    "<center><img src=\"https://ai-studio-static-online.cdn.bcebos.com/fa81fcfc6db84832b08e54aa3baf4317c22720d9b3304af8950a6d4bcd2c9885\"  width=600></center>\n",
    "\n"
   ]
  },
  {
   "cell_type": "code",
   "execution_count": 57,
   "metadata": {},
   "outputs": [
    {
     "name": "stdout",
     "output_type": "stream",
     "text": [
      "7\n",
      "4\n",
      "5\n",
      "3\n",
      "2\n"
     ]
    }
   ],
   "source": [
    "#例子：len函数\n",
    "# 1. 字符串\n",
    "str1 = 'abcdefg'\n",
    "print(len(str1)) # 7\n",
    "# 2. 列表\n",
    "list1 = [10, 20, 30, 40]\n",
    "print(len(list1)) # 4\n",
    "# 3. 元组\n",
    "t1 = (10, 20, 30, 40, 50)\n",
    "print(len(t1)) # 5\n",
    "# 4. 集合\n",
    "s1 = {10, 20, 30}\n",
    "print(len(s1)) # 3\n",
    "# 5. 字典\n",
    "dict1 = {'name': 'Rose', 'age': 18}\n",
    "print(len(dict1)) # 2"
   ]
  },
  {
   "cell_type": "code",
   "execution_count": 61,
   "metadata": {},
   "outputs": [
    {
     "name": "stdout",
     "output_type": "stream",
     "text": [
      "abcdefg\n",
      "[20, 30, 40]\n"
     ]
    }
   ],
   "source": [
    "#例子：del函数\n",
    "# 1. 字符串\n",
    "str1 = 'abcdefg'\n",
    "#del str1\n",
    "print(str1)\n",
    "# 2. 列表\n",
    "list1 = [10, 20, 30, 40]\n",
    "del(list1[0])\n",
    "print(list1) # [20, 30, 40]"
   ]
  },
  {
   "cell_type": "code",
   "execution_count": 62,
   "metadata": {},
   "outputs": [
    {
     "name": "stdout",
     "output_type": "stream",
     "text": [
      "g\n",
      "40\n"
     ]
    }
   ],
   "source": [
    "#max函数\n",
    "# 1. 字符串\n",
    "str1 = 'abcdefg'\n",
    "print(max(str1)) # g\n",
    "# 2. 列表\n",
    "list1 = [10, 20, 30, 40]\n",
    "print(max(list1)) # 40"
   ]
  },
  {
   "cell_type": "code",
   "execution_count": 63,
   "metadata": {},
   "outputs": [
    {
     "name": "stdout",
     "output_type": "stream",
     "text": [
      "a\n",
      "10\n"
     ]
    }
   ],
   "source": [
    "#例子：min函数\n",
    "# 1. 字符串\n",
    "str1 = 'abcdefg'\n",
    "print(min(str1)) # a\n",
    "# 2. 列表\n",
    "list1 = [10, 20, 30, 40]\n",
    "print(min(list1)) # 10"
   ]
  },
  {
   "cell_type": "code",
   "execution_count": 65,
   "metadata": {},
   "outputs": [
    {
     "name": "stdout",
     "output_type": "stream",
     "text": [
      "1\n",
      "2\n",
      "3\n",
      "4\n",
      "5\n",
      "6\n",
      "7\n",
      "8\n",
      "9\n",
      "----------\n",
      "1\n",
      "3\n",
      "5\n",
      "7\n",
      "9\n",
      "----------\n",
      "0\n",
      "1\n",
      "2\n",
      "3\n",
      "4\n",
      "5\n",
      "6\n",
      "7\n",
      "8\n",
      "9\n"
     ]
    }
   ],
   "source": [
    "#例子：range函数\n",
    "# 1 2 3 4 5 6 7 8 9\n",
    "for i in range(1, 10, 1):\n",
    "    print(i)\n",
    "print(\"-\"*10)\n",
    "\n",
    "# 1 3 5 7 9\n",
    "for i in range(1, 10, 2):\n",
    "    print(i)\n",
    "print(\"-\"*10)\n",
    "\n",
    "\n",
    "# 0 1 2 3 4 5 6 7 8 9\n",
    "for i in range(10):\n",
    "    print(i)"
   ]
  },
  {
   "cell_type": "markdown",
   "metadata": {},
   "source": [
    "### enumerate\n",
    "```\n",
    "enumerate(可遍历对象, start=0)\n",
    "\n",
    "注意：start参数⽤来设置遍历数据的下标的起始值，默认为0。\n",
    "```"
   ]
  },
  {
   "cell_type": "code",
   "execution_count": 67,
   "metadata": {},
   "outputs": [
    {
     "name": "stdout",
     "output_type": "stream",
     "text": [
      "(0, 'a')\n",
      "(1, 'b')\n",
      "(2, 'c')\n",
      "(3, 'd')\n",
      "(4, 'e')\n",
      "下标是2, 对应的字符是a\n",
      "下标是3, 对应的字符是b\n",
      "下标是4, 对应的字符是c\n",
      "下标是5, 对应的字符是d\n",
      "下标是6, 对应的字符是e\n"
     ]
    }
   ],
   "source": [
    "list1 = ['a', 'b', 'c', 'd', 'e']\n",
    "for i in enumerate(list1):\n",
    "    print(i)\n",
    "for index, char in enumerate(list1, start=2):\n",
    "    print(f'下标是{index}, 对应的字符是{char}')"
   ]
  },
  {
   "cell_type": "markdown",
   "metadata": {},
   "source": [
    "# 6.类型转换\n",
    "\n",
    "- > tuple()\n",
    "作⽤：将某个序列转换成元组"
   ]
  },
  {
   "cell_type": "code",
   "execution_count": 68,
   "metadata": {},
   "outputs": [
    {
     "name": "stdout",
     "output_type": "stream",
     "text": [
      "(10, 20, 30, 40, 50, 20)\n",
      "(100, 200, 300, 400, 500)\n"
     ]
    }
   ],
   "source": [
    "list1 = [10, 20, 30, 40, 50, 20]\n",
    "s1 = {100, 200, 300, 400, 500}\n",
    "print(tuple(list1))\n",
    "print(tuple(s1))"
   ]
  },
  {
   "cell_type": "markdown",
   "metadata": {},
   "source": [
    "- >list()\n",
    "作⽤：将某个序列转换成列表"
   ]
  },
  {
   "cell_type": "code",
   "execution_count": 69,
   "metadata": {},
   "outputs": [
    {
     "name": "stdout",
     "output_type": "stream",
     "text": [
      "['a', 'b', 'c', 'd', 'e']\n",
      "[100, 200, 300, 400, 500]\n"
     ]
    }
   ],
   "source": [
    "t1 = ('a', 'b', 'c', 'd', 'e')\n",
    "s1 = {100, 200, 300, 400, 500}\n",
    "print(list(t1))\n",
    "print(list(s1))"
   ]
  },
  {
   "cell_type": "markdown",
   "metadata": {},
   "source": [
    "- > set()\n",
    "作⽤：将某个序列转换成集合\n",
    "\n",
    "注意：\n",
    "1. 集合可以快速完成列表去重\n",
    "2. 集合是无序的，所以不⽀持下标"
   ]
  },
  {
   "cell_type": "code",
   "execution_count": 70,
   "metadata": {},
   "outputs": [
    {
     "name": "stdout",
     "output_type": "stream",
     "text": [
      "{40, 10, 50, 20, 30}\n",
      "{'c', 'd', 'b', 'e', 'a'}\n"
     ]
    }
   ],
   "source": [
    "list1 = [10, 20, 30, 40, 50, 20]\n",
    "t1 = ('a', 'b', 'c', 'd', 'e')\n",
    "print(set(list1))\n",
    "print(set(t1))"
   ]
  },
  {
   "cell_type": "code",
   "execution_count": null,
   "metadata": {},
   "outputs": [],
   "source": []
  }
 ],
 "metadata": {
  "kernelspec": {
   "display_name": "Python 3",
   "language": "python",
   "name": "python3"
  },
  "language_info": {
   "codemirror_mode": {
    "name": "ipython",
    "version": 3
   },
   "file_extension": ".py",
   "mimetype": "text/x-python",
   "name": "python",
   "nbconvert_exporter": "python",
   "pygments_lexer": "ipython3",
   "version": "3.8.8"
  }
 },
 "nbformat": 4,
 "nbformat_minor": 1
}
