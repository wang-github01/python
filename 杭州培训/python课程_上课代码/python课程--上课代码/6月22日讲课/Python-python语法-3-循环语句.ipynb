{
 "cells": [
  {
   "cell_type": "markdown",
   "metadata": {},
   "source": [
    "# python的循环语句\n",
    "\n",
    "在Python中，循环分为 while 和 for 两种，最终实现效果相同。\n",
    "\n",
    "## 1. while循环\n",
    "\n",
    "\n",
    "```\n",
    "    while 条件:\n",
    "        条件满足时，做的事情1\n",
    "        条件满足时，做的事情2\n",
    "        条件满足时，做的事情3\n",
    "        ...(省略)...\n",
    "```"
   ]
  },
  {
   "cell_type": "code",
   "execution_count": 2,
   "metadata": {},
   "outputs": [
    {
     "name": "stdout",
     "output_type": "stream",
     "text": [
      "当前是第1次执行循环\n",
      "i=0\n",
      "当前是第2次执行循环\n",
      "i=1\n",
      "当前是第3次执行循环\n",
      "i=2\n",
      "当前是第4次执行循环\n",
      "i=3\n",
      "当前是第5次执行循环\n",
      "i=4\n",
      "当前是第6次执行循环\n",
      "i=5\n",
      "当前是第7次执行循环\n",
      "i=6\n",
      "当前是第8次执行循环\n",
      "i=7\n",
      "当前是第9次执行循环\n",
      "i=8\n",
      "当前是第10次执行循环\n",
      "i=9\n",
      "当前是第11次执行循环\n",
      "i=10\n",
      "当前是第12次执行循环\n",
      "i=11\n",
      "当前是第13次执行循环\n",
      "i=12\n",
      "当前是第14次执行循环\n",
      "i=13\n",
      "当前是第15次执行循环\n",
      "i=14\n",
      "当前是第16次执行循环\n",
      "i=15\n",
      "当前是第17次执行循环\n",
      "i=16\n",
      "当前是第18次执行循环\n",
      "i=17\n",
      "当前是第19次执行循环\n",
      "i=18\n",
      "当前是第20次执行循环\n",
      "i=19\n",
      "当前是第21次执行循环\n",
      "i=20\n",
      "当前是第22次执行循环\n",
      "i=21\n",
      "当前是第23次执行循环\n",
      "i=22\n",
      "当前是第24次执行循环\n",
      "i=23\n",
      "当前是第25次执行循环\n",
      "i=24\n",
      "当前是第26次执行循环\n",
      "i=25\n",
      "当前是第27次执行循环\n",
      "i=26\n",
      "当前是第28次执行循环\n",
      "i=27\n",
      "当前是第29次执行循环\n",
      "i=28\n",
      "当前是第30次执行循环\n",
      "i=29\n",
      "当前是第31次执行循环\n",
      "i=30\n",
      "当前是第32次执行循环\n",
      "i=31\n",
      "当前是第33次执行循环\n",
      "i=32\n",
      "当前是第34次执行循环\n",
      "i=33\n",
      "当前是第35次执行循环\n",
      "i=34\n",
      "当前是第36次执行循环\n",
      "i=35\n",
      "当前是第37次执行循环\n",
      "i=36\n",
      "当前是第38次执行循环\n",
      "i=37\n",
      "当前是第39次执行循环\n",
      "i=38\n",
      "当前是第40次执行循环\n",
      "i=39\n",
      "当前是第41次执行循环\n",
      "i=40\n",
      "当前是第42次执行循环\n",
      "i=41\n",
      "当前是第43次执行循环\n",
      "i=42\n",
      "当前是第44次执行循环\n",
      "i=43\n",
      "当前是第45次执行循环\n",
      "i=44\n",
      "当前是第46次执行循环\n",
      "i=45\n",
      "当前是第47次执行循环\n",
      "i=46\n",
      "当前是第48次执行循环\n",
      "i=47\n",
      "当前是第49次执行循环\n",
      "i=48\n",
      "当前是第50次执行循环\n",
      "i=49\n",
      "当前是第51次执行循环\n",
      "i=50\n",
      "当前是第52次执行循环\n",
      "i=51\n",
      "当前是第53次执行循环\n",
      "i=52\n",
      "当前是第54次执行循环\n",
      "i=53\n",
      "当前是第55次执行循环\n",
      "i=54\n",
      "当前是第56次执行循环\n",
      "i=55\n",
      "当前是第57次执行循环\n",
      "i=56\n",
      "当前是第58次执行循环\n",
      "i=57\n",
      "当前是第59次执行循环\n",
      "i=58\n",
      "当前是第60次执行循环\n",
      "i=59\n",
      "当前是第61次执行循环\n",
      "i=60\n",
      "当前是第62次执行循环\n",
      "i=61\n",
      "当前是第63次执行循环\n",
      "i=62\n",
      "当前是第64次执行循环\n",
      "i=63\n",
      "当前是第65次执行循环\n",
      "i=64\n",
      "当前是第66次执行循环\n",
      "i=65\n",
      "当前是第67次执行循环\n",
      "i=66\n",
      "当前是第68次执行循环\n",
      "i=67\n",
      "当前是第69次执行循环\n",
      "i=68\n",
      "当前是第70次执行循环\n",
      "i=69\n",
      "当前是第71次执行循环\n",
      "i=70\n",
      "当前是第72次执行循环\n",
      "i=71\n",
      "当前是第73次执行循环\n",
      "i=72\n",
      "当前是第74次执行循环\n",
      "i=73\n",
      "当前是第75次执行循环\n",
      "i=74\n",
      "当前是第76次执行循环\n",
      "i=75\n",
      "当前是第77次执行循环\n",
      "i=76\n",
      "当前是第78次执行循环\n",
      "i=77\n",
      "当前是第79次执行循环\n",
      "i=78\n",
      "当前是第80次执行循环\n",
      "i=79\n",
      "当前是第81次执行循环\n",
      "i=80\n",
      "当前是第82次执行循环\n",
      "i=81\n",
      "当前是第83次执行循环\n",
      "i=82\n",
      "当前是第84次执行循环\n",
      "i=83\n",
      "当前是第85次执行循环\n",
      "i=84\n",
      "当前是第86次执行循环\n",
      "i=85\n",
      "当前是第87次执行循环\n",
      "i=86\n",
      "当前是第88次执行循环\n",
      "i=87\n",
      "当前是第89次执行循环\n",
      "i=88\n",
      "当前是第90次执行循环\n",
      "i=89\n",
      "当前是第91次执行循环\n",
      "i=90\n",
      "当前是第92次执行循环\n",
      "i=91\n",
      "当前是第93次执行循环\n",
      "i=92\n",
      "当前是第94次执行循环\n",
      "i=93\n",
      "当前是第95次执行循环\n",
      "i=94\n",
      "当前是第96次执行循环\n",
      "i=95\n",
      "当前是第97次执行循环\n",
      "i=96\n",
      "当前是第98次执行循环\n",
      "i=97\n",
      "当前是第99次执行循环\n",
      "i=98\n",
      "当前是第100次执行循环\n",
      "i=99\n"
     ]
    }
   ],
   "source": [
    "#例子：感受一下while循环\n",
    "#计算1~100的累积和（包含1和100）\n",
    "i = 0\n",
    "while i<100:\n",
    "    print(f\"当前是第{i+1}次执行循环\")\n",
    "    print(f\"i={i}\")\n",
    "    i+=1"
   ]
  },
  {
   "cell_type": "code",
   "execution_count": 4,
   "metadata": {},
   "outputs": [
    {
     "name": "stdout",
     "output_type": "stream",
     "text": [
      "1~100的累积和为:5050\n"
     ]
    }
   ],
   "source": [
    "#例子：感受一下while循环语句\n",
    "#计算1~100之间的累积和（包含1和100）\n",
    "i = 1\n",
    "sum = 0\n",
    "while i<=100:\n",
    "    sum = sum + i\n",
    "    i += 1\n",
    "\n",
    "print(f\"1~100的累积和为:{sum}\")"
   ]
  },
  {
   "cell_type": "code",
   "execution_count": 5,
   "metadata": {},
   "outputs": [
    {
     "name": "stdout",
     "output_type": "stream",
     "text": [
      "1~100的累积和为:2550\n"
     ]
    }
   ],
   "source": [
    "#例子：感受一下while循环\n",
    "#\n",
    "i = 1\n",
    "sum = 0\n",
    "while i<=100:\n",
    "    if i%2 == 0:\n",
    "        sum = sum + i\n",
    "    i+=1\n",
    "\n",
    "print(\"1~100的累积和为:%d\"%sum)"
   ]
  },
  {
   "cell_type": "markdown",
   "metadata": {},
   "source": [
    "## 2.for循环\n",
    "\n",
    "像while循环一样，for可以完成循环的功能。\n",
    "\n",
    "在Python中 for循环可以遍历任何序列的项目，如一个列表或者一个字符串等。\n",
    "\n",
    "```\n",
    "    for 临时变量 in 序列:\n",
    "        循环满足条件时执行的代码\n",
    "    \n",
    "```"
   ]
  },
  {
   "cell_type": "code",
   "execution_count": 15,
   "metadata": {},
   "outputs": [
    {
     "name": "stdout",
     "output_type": "stream",
     "text": [
      "a\n",
      "b\n",
      "c\n",
      "d\n",
      "e\n",
      "f\n",
      "g\n",
      "h\n",
      "i\n",
      "j\n",
      "k\n"
     ]
    }
   ],
   "source": [
    "#例子\n",
    "name = 'abcdefghijk'\n",
    "\n",
    "for x in name:\n",
    "    print(x)\n"
   ]
  },
  {
   "cell_type": "markdown",
   "metadata": {},
   "source": [
    "## 3.循环终止\n",
    "\n",
    "如果不想循环了，想要终止，怎么办？\n",
    "\n",
    "根据不同的终止条件，可以用break和continue两种方式终止或跳出不同的循环。\n",
    "\n",
    "### 3.1 break\n",
    "\n",
    "#### break可以用来终⽌循环，也就是结束整个循环"
   ]
  },
  {
   "cell_type": "code",
   "execution_count": 8,
   "metadata": {},
   "outputs": [
    {
     "name": "stdout",
     "output_type": "stream",
     "text": [
      "----\n",
      "1\n",
      "----\n",
      "2\n",
      "----\n",
      "3\n",
      "----\n",
      "4\n",
      "----\n",
      "5\n"
     ]
    }
   ],
   "source": [
    "#正常的循环\n",
    "i = 0\n",
    "\n",
    "while i<5:\n",
    "    i = i+1\n",
    "    print('----')\n",
    "    print(i)"
   ]
  },
  {
   "cell_type": "code",
   "execution_count": 9,
   "metadata": {},
   "outputs": [
    {
     "name": "stdout",
     "output_type": "stream",
     "text": [
      "----\n",
      "1\n",
      "----\n",
      "2\n",
      "----\n"
     ]
    }
   ],
   "source": [
    "#用break终止循环\n",
    "i = 0\n",
    "\n",
    "while i<5:\n",
    "    i = i+1\n",
    "    print('----')\n",
    "\n",
    "    if i==3:\n",
    "        break\n",
    "    print(i)"
   ]
  },
  {
   "cell_type": "code",
   "execution_count": 10,
   "metadata": {},
   "outputs": [
    {
     "name": "stdout",
     "output_type": "stream",
     "text": [
      "----\n",
      "a\n",
      "----\n",
      "b\n",
      "----\n",
      "c\n",
      "----\n",
      "d\n",
      "----\n",
      "e\n"
     ]
    }
   ],
   "source": [
    "#例子：正常的for循环\n",
    "name = 'abcde'\n",
    "\n",
    "for x in name:\n",
    "    print('----')\n",
    "    print(x)"
   ]
  },
  {
   "cell_type": "code",
   "execution_count": 16,
   "metadata": {},
   "outputs": [
    {
     "name": "stdout",
     "output_type": "stream",
     "text": [
      "----\n",
      "a\n",
      "----\n",
      "b\n",
      "----\n"
     ]
    }
   ],
   "source": [
    "#例子：用break终止循环\n",
    "name = 'abcde'\n",
    "\n",
    "for x in name:\n",
    "    print('----')\n",
    "        \n",
    "    if x == 'c': \n",
    "        break\n",
    "    print(x)\n",
    "    "
   ]
  },
  {
   "cell_type": "markdown",
   "metadata": {},
   "source": [
    "### 3.2 continue\n",
    "\n",
    "#### continue可以用来 跳过本次循环，执行下一次循环"
   ]
  },
  {
   "cell_type": "code",
   "execution_count": 12,
   "metadata": {},
   "outputs": [
    {
     "name": "stdout",
     "output_type": "stream",
     "text": [
      "----\n",
      "a\n",
      "----\n",
      "b\n",
      "----\n",
      "----\n",
      "d\n",
      "----\n",
      "e\n"
     ]
    }
   ],
   "source": [
    "#例子：for中的continue\n",
    "name = 'abcde'\n",
    "\n",
    "for x in name:\n",
    "    print('----')\n",
    "\n",
    "    if x == 'c': \n",
    "        continue\n",
    "    print(x)\n"
   ]
  },
  {
   "cell_type": "code",
   "execution_count": 13,
   "metadata": {},
   "outputs": [
    {
     "name": "stdout",
     "output_type": "stream",
     "text": [
      "----\n",
      "1\n",
      "----\n",
      "2\n",
      "----\n",
      "----\n",
      "4\n",
      "----\n",
      "5\n"
     ]
    }
   ],
   "source": [
    "#例子：while中的continue\n",
    "i = 0\n",
    "\n",
    "while i<5:\n",
    "    i = i+1\n",
    "    print('----')\n",
    "    if i==3:\n",
    "        continue\n",
    "    print(i)"
   ]
  },
  {
   "cell_type": "markdown",
   "metadata": {},
   "source": [
    "### 特别注意：\n",
    "\n",
    "> - break/continue只能用在循环中，除此以外不能单独使用\n",
    "\n",
    "> - break/continue在嵌套循环中，只对最近的一层循环起作用"
   ]
  }
 ],
 "metadata": {
  "kernelspec": {
   "display_name": "Python 3",
   "language": "python",
   "name": "python3"
  },
  "language_info": {
   "codemirror_mode": {
    "name": "ipython",
    "version": 3
   },
   "file_extension": ".py",
   "mimetype": "text/x-python",
   "name": "python",
   "nbconvert_exporter": "python",
   "pygments_lexer": "ipython3",
   "version": "3.8.8"
  }
 },
 "nbformat": 4,
 "nbformat_minor": 1
}
