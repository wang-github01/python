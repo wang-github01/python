{
 "cells": [
  {
   "cell_type": "markdown",
   "metadata": {},
   "source": [
    "# python基础知识\n",
    "\n",
    "## 1.认识python\n",
    "\n",
    " > - Python正式诞生于1991年。\n",
    " > - Python的官方定义为：Python是一种解释型的、面向对象的、带有动态语义的高级程序设计语言。\n",
    " > - Python有两个版本，Python2和Python3；而Python2已经于2020年1月1日，被官方宣布停止更新和维护。所以，以后我们都是用python3.\n",
    "\n",
    "<center><img src=\"https://ai-studio-static-online.cdn.bcebos.com/6f3dccf076204ebbae71923cad8fe10316cfbbcda9174a5c977290cd5be9bf37\" width=400 ></center>\n",
    "\n",
    "### python特点：\n",
    "> - 简单、易学，适应⼈群⼴泛\n",
    "> - 免费、开源\n",
    "> - 面向对象，Python即支持面向过程的编程也支持面向对象的编程\n",
    "> - 应⽤领域⼴泛\n",
    "\n",
    "<center><img src=\"https://ai-studio-static-online.cdn.bcebos.com/e7b0a078850641bb82e7e2c79ecb8cb750cb89fb454a4b6d9077fe4591247eb9\" width=700 ></center>\n",
    "\n",
    "> - 许多深度学习框架，都支持python语言：  \n",
    "> -- ① Google开源机器学习框架：TensorFlow  \n",
    "> -- ② 开源社区主推机器学习框架：Scikit-learn  \n",
    "> -- ③ 百度开源深度学习框架：PaddlePaddle  \n",
    "> -- ④ facebook开源深度学习框：Pytorch  "
   ]
  },
  {
   "cell_type": "markdown",
   "metadata": {},
   "source": [
    "### 第一个python程序"
   ]
  },
  {
   "cell_type": "code",
   "execution_count": 1,
   "metadata": {},
   "outputs": [
    {
     "name": "stdout",
     "output_type": "stream",
     "text": [
      "the first python ：hello world\n"
     ]
    }
   ],
   "source": [
    "#第一个python程序\n",
    "print('the first python ：hello world')"
   ]
  },
  {
   "cell_type": "markdown",
   "metadata": {},
   "source": [
    "## 2.python的注释\n",
    "\n",
    "一个好的python文件，要让别人能够快速的看懂；良好的注释，能够帮助别人更好的理解代码。\n",
    "\n",
    "比如：\n",
    "<center><img src=\"https://ai-studio-static-online.cdn.bcebos.com/489f1ff9e5c24f008d41338118fa883f293564087c1944bda6ab2a0380086589\" width=800 ></center>\n",
    "再比如：\n",
    "\n",
    "<center><img src=\"https://ai-studio-static-online.cdn.bcebos.com/21390547cb0042dd8e81d19d9c3fe7498e7549610ad6402e9ceb636fa395e618\" width=800 ></center>\n",
    "\n",
    "\n",
    "\n",
    "注释的作⽤，能够⼤⼤增强程序的可读性。\n",
    "\n",
    "\n",
    "python提供了两种注释方法：单⾏注释、多⾏注释"
   ]
  },
  {
   "cell_type": "markdown",
   "metadata": {},
   "source": [
    ">###  1.单⾏注释\n",
    "\n",
    " - 只能注释⼀⾏内容，以#开头，#右边的所有东西当做说明，而不是真正要执行的程序，起辅助说明作用。\n",
    "\n",
    "- 快捷键ctrl+/\n",
    "\n",
    "```\n",
    "    # 我是注释，可以在里写一些功能说明之类的语句\n",
    "    print('hello world')\n",
    "\n",
    "\n",
    "    print('hello Python')  # 简单的说明可以放到⼀⾏代码的后⾯，⼀般习惯代码后⾯添加两个空格再书写注释⽂字\n",
    "```\n"
   ]
  },
  {
   "cell_type": "code",
   "execution_count": 24,
   "metadata": {},
   "outputs": [
    {
     "name": "stdout",
     "output_type": "stream",
     "text": [
      "hello world\n",
      "hello Python\n"
     ]
    }
   ],
   "source": [
    "    #我是注释，可以在里写一些功能说明之类的语句\n",
    "    print('hello world')\n",
    "\n",
    "\n",
    "    print('hello Python')  # 简单的说明可以放到⼀⾏代码的后⾯，⼀般习惯代码后⾯添加两个空格再书写注释⽂字\n"
   ]
  },
  {
   "cell_type": "markdown",
   "metadata": {},
   "source": [
    ">###  2.多⾏注释  \n",
    "\n",
    "- 可以注释多⾏内容，⼀般⽤在注释⼀段代码的情况，语法如下：\n",
    "\n",
    "```\n",
    " \"\"\" 注释内容 \"\"\" 或 ''' 注释内容 '''\n",
    "```\n",
    "\n",
    "看个例子：\n",
    "\n",
    "<center><img src=\"https://ai-studio-static-online.cdn.bcebos.com/21390547cb0042dd8e81d19d9c3fe7498e7549610ad6402e9ceb636fa395e618\" width=800 ></center>\n",
    "\n"
   ]
  },
  {
   "cell_type": "code",
   "execution_count": 3,
   "metadata": {},
   "outputs": [
    {
     "name": "stdout",
     "output_type": "stream",
     "text": [
      "hello Python\n",
      "hello AI\n",
      "hello C++\n"
     ]
    }
   ],
   "source": [
    "\"\"\"\n",
    " 下⾯三⾏都是打印输出，输出内容分别是：\n",
    " hello Python\n",
    " hello AI\n",
    " hello C++\n",
    "\"\"\"\n",
    "print('hello Python')\n",
    "print('hello AI')\n",
    "print('hello C++')\n",
    "\n"
   ]
  },
  {
   "cell_type": "code",
   "execution_count": 4,
   "metadata": {},
   "outputs": [
    {
     "name": "stdout",
     "output_type": "stream",
     "text": [
      "hello Python\n",
      "hello AI\n",
      "hello C++\n"
     ]
    }
   ],
   "source": [
    " '''\n",
    " 下⾯三⾏都是输出的作⽤，输出内容分别是：\n",
    " hello Python\n",
    " hello AI\n",
    " hello C++\n",
    "'''\n",
    "print('hello Python')\n",
    "print('hello AI')\n",
    "print('hello C++')"
   ]
  },
  {
   "cell_type": "markdown",
   "metadata": {},
   "source": [
    "## 3.python的变量\n",
    "\n",
    "### 3.1 变量的定义\n",
    "\n",
    "思考一下：我们需要对2个数据进行求和，那么该怎样做呢？  \n",
    "\n",
    "在Python中，存储一个数据，需要一个叫做变量的东西，如下示例:"
   ]
  },
  {
   "cell_type": "code",
   "execution_count": 5,
   "metadata": {},
   "outputs": [],
   "source": [
    "\n",
    "    num1 = 100 #num1就是一个变量，就好一个篮子\n",
    "\n",
    "    num2 = 87  #num2也是一个变量\n",
    "\n",
    "    result = num1 + num2 #把num1和num2这两个\"篮子\"中的数据进行累加，然后放到 result变量中"
   ]
  },
  {
   "cell_type": "markdown",
   "metadata": {},
   "source": [
    "\n",
    "> - 变量，可以理解为篮子，如果需要存储多个数据，最简单的方式是有多个变量; \n",
    "> - 程序就是用来处理数据的，而变量就是用来存储数据的"
   ]
  },
  {
   "cell_type": "markdown",
   "metadata": {},
   "source": [
    "### 3.2 变量的类型\n",
    "\n",
    "为了更充分的利用内存空间以及更有效率的管理内存，变量是有不同的类型的，如下所示:\n",
    "\n",
    "\n",
    "<center><img src=\"https://ai-studio-static-online.cdn.bcebos.com/468588455d864b2b988de8a9a2dc055a0fbe0b504e2144d6893c6768303f0768\" width=800 ></center>\n",
    "\n",
    "可以使用type(变量的名字)，来查看变量的类型,如："
   ]
  },
  {
   "cell_type": "code",
   "execution_count": 6,
   "metadata": {},
   "outputs": [
    {
     "name": "stdout",
     "output_type": "stream",
     "text": [
      "<class 'int'>\n",
      "<class 'float'>\n",
      "<class 'bool'>\n",
      "<class 'str'>\n",
      "<class 'list'>\n",
      "<class 'tuple'>\n",
      "<class 'set'>\n",
      "<class 'dict'>\n"
     ]
    }
   ],
   "source": [
    "#可以使用type(变量的名字)，来查看变量的类型\n",
    "a = 1\n",
    "print(type(a)) # <class 'int'> -- 整型\n",
    "b = 1.1\n",
    "print(type(b)) # <class 'float'> -- 浮点型\n",
    "c = True\n",
    "print(type(c)) # <class 'bool'> -- 布尔型\n",
    "d = '12345'\n",
    "print(type(d)) # <class 'str'> -- 字符串\n",
    "e = [10, 20, 30]\n",
    "print(type(e)) # <class 'list'> -- 列表\n",
    "f = (10, 20, 30)\n",
    "print(type(f)) # <class 'tuple'> -- 元组\n",
    "h = {10, 20, 30}\n",
    "print(type(h)) # <class 'set'> -- 集合\n",
    "g = {'name': 'TOM', 'age': 20}\n",
    "print(type(g)) # <class 'dict'> -- 字典"
   ]
  },
  {
   "cell_type": "markdown",
   "metadata": {},
   "source": [
    "### 3.3 变量的命名规则\n",
    "\n",
    "> - python中的标识符是区分大小写的；如：\n",
    "\n",
    "<center><img src=\"https://ai-studio-static-online.cdn.bcebos.com/bf7ee12dc158450487703254d5f408428c73a67c9c204ea499f198807d3df04b\" width=300 ></center>\n",
    "\n",
    "> - 由数字、字⺟、下划线组成\n",
    "> - 不能数字开头\n",
    "> - 不能使⽤内置关键字\n",
    "\n",
    "#### 什么是关键字？\n",
    "\n",
    "关键字，是python已经使用的了，已经有了特殊功能，所以不允许开发者自己定义和关键字相同的名字的变量。\n",
    "\n",
    "python的关键字：\n",
    "\n",
    "<center><img src=\"https://ai-studio-static-online.cdn.bcebos.com/b6bef21c49ff441199775888bf0089f6ae3589974909446db2f12fe051c1cfd3\" width=800 ></center>\n",
    "\n",
    "### 3.3 变量的命名习惯\n",
    "\n",
    "> - 见名知意:  \n",
    "  看一眼就知道是什么意思， 比如: 名字 就定义为 name , 学生 用 student   \n",
    "> - ⼤驼峰：即每个单词⾸字⺟都⼤写，例如： MyName 。\n",
    "> - ⼩驼峰：第⼆个（含）以后的单词⾸字⺟⼤写，例如： myName 。\n",
    "> - 下划线：例如： my_name   \n",
    "     这种方法可能用的最多"
   ]
  },
  {
   "cell_type": "markdown",
   "metadata": {},
   "source": [
    "## 4.输出与输入\n",
    "\n",
    "### 4.1 普通输出\n",
    "\n",
    "请看下面的例子："
   ]
  },
  {
   "cell_type": "code",
   "execution_count": 7,
   "metadata": {},
   "outputs": [
    {
     "name": "stdout",
     "output_type": "stream",
     "text": [
      "hello Python\n",
      "18\n"
     ]
    }
   ],
   "source": [
    "#打印输出\n",
    "print('hello Python')\n",
    "age = 18\n",
    "print(age)\n"
   ]
  },
  {
   "cell_type": "markdown",
   "metadata": {},
   "source": [
    "### 3.2 格式化输出\n",
    "\n",
    "请看下面的例子："
   ]
  },
  {
   "cell_type": "code",
   "execution_count": 8,
   "metadata": {},
   "outputs": [
    {
     "name": "stdout",
     "output_type": "stream",
     "text": [
      "小明今年18岁\n",
      "小明明年19岁\n",
      "小明后年20岁\n"
     ]
    }
   ],
   "source": [
    "  \n",
    "    age = 18\n",
    "    print(\"小明今年%d岁\"%age)\n",
    "\n",
    "    age += 1\n",
    "    print(\"小明明年%d岁\"%age)\n",
    "\n",
    "    age += 1\n",
    "    print(\"小明后年%d岁\"%age)"
   ]
  },
  {
   "cell_type": "markdown",
   "metadata": {},
   "source": [
    "所谓的格式化输出即按照⼀定的格式输出内容。  \n",
    "\n",
    "常用的格式化有：\n",
    "\n",
    "<center><img src=\"https://ai-studio-static-online.cdn.bcebos.com/377fa54d464049549d1f06b58dd329ca8930d8a9e86f4cc583f967a394031bfd\" width=800 ></center>\n",
    "\n",
    "我们体验一下："
   ]
  },
  {
   "cell_type": "code",
   "execution_count": 28,
   "metadata": {},
   "outputs": [
    {
     "name": "stdout",
     "output_type": "stream",
     "text": [
      "我的名字是John\n",
      "我的学号是1\n",
      "我的体重是75.50公⽄\n",
      "我的名字是John,今年18岁了\n",
      "我的名字是John,明年19岁了\n"
     ]
    }
   ],
   "source": [
    "#例子：体验一下\n",
    "\n",
    "age = 18\n",
    "name = 'John'\n",
    "weight = 75.5\n",
    "student_id = 1\n",
    "# 我的名字是TOM\n",
    "print('我的名字是%s' % name)\n",
    "\n",
    "# 我的学号是1\n",
    "print('我的学号是%d' % student_id)\n",
    "\n",
    "# 我的体重是75.50公⽄\n",
    "print('我的体重是%.2f公⽄'% weight)  #表示⼩数点后显示的⼩数位数\n",
    "\n",
    "# 我的名字是TOM，今年18岁了\n",
    "print('我的名字是%s,今年%d岁了'%(name,age))\n",
    "\n",
    "# 我的名字是TOM，明年19岁了\n",
    "print('我的名字是%s,明年%d岁了'%(name,age + 1))"
   ]
  },
  {
   "cell_type": "markdown",
   "metadata": {},
   "source": [
    "- > 格式化字符串除了%s，还可以写为 f'{表达式}  \n",
    "\n",
    "- > f-格式化字符串是Python3.6中新增的格式化⽅法，该⽅法更简单易读。"
   ]
  },
  {
   "cell_type": "code",
   "execution_count": 10,
   "metadata": {},
   "outputs": [
    {
     "name": "stdout",
     "output_type": "stream",
     "text": [
      "我的名字是John, 明年19岁了\n"
     ]
    }
   ],
   "source": [
    "#体验一下 f'{表达式}\n",
    "\n",
    "age = 18\n",
    "name = 'John'\n",
    "\n",
    "# 我的名字是TOM，明年19岁了\n",
    "print(f'我的名字是{name}, 明年{age + 1}岁了')"
   ]
  },
  {
   "cell_type": "markdown",
   "metadata": {},
   "source": [
    "### 4.3 输入\n",
    "\n",
    "<center><img src=\"https://ai-studio-static-online.cdn.bcebos.com/c4ebc30ba6db421d9c7760a3403e3e228c93236b4f8f4cca97896119cc54d958\" width=400 ></center>\n",
    "\n",
    "输入的语法：\n",
    "\n",
    "```\n",
    "     input(\"提示信息\")\n",
    "\n",
    "```\n",
    "\n",
    "> - 当程序执⾏到 input ，等待⽤户输⼊，输⼊完成之后才继续向下执⾏。\n",
    "> - 在Python中， input 接收⽤户输⼊后，⼀般存储到变量，⽅便使⽤。\n",
    "> - 在Python中， input 会把接收到的任意⽤户输⼊的数据都当做字符串处理\n",
    "\n"
   ]
  },
  {
   "cell_type": "code",
   "execution_count": 29,
   "metadata": {},
   "outputs": [
    {
     "name": "stdout",
     "output_type": "stream",
     "text": [
      "请输⼊您的密码：1234\n",
      "您输⼊的密码是1234\n",
      "<class 'str'>\n"
     ]
    }
   ],
   "source": [
    "#输入的例子：\n",
    "\n",
    "password = input('请输⼊您的密码：')\n",
    "print(f'您输⼊的密码是{password}')\n",
    "# <class 'str'>\n",
    "print(type(password))"
   ]
  },
  {
   "cell_type": "markdown",
   "metadata": {},
   "source": [
    "### 4.4 数据类型转换\n",
    "\n",
    "input()接收⽤户输⼊的数据都是字符串类型，如果想得到整型该如何操作？这就需要用到数据类型转换了，请看例子："
   ]
  },
  {
   "cell_type": "code",
   "execution_count": 12,
   "metadata": {},
   "outputs": [
    {
     "name": "stdout",
     "output_type": "stream",
     "text": [
      "请输⼊一个数字：3\n",
      "您的数字是3\n",
      "<class 'str'>\n",
      "<class 'int'>\n"
     ]
    }
   ],
   "source": [
    "# 1. 接收⽤户输⼊\n",
    "num = input('请输⼊一个数字：')\n",
    "# 2. 打印结果\n",
    "print(f\"您的数字是{num}\")\n",
    "# 3. 检测接收到的⽤户输⼊的数据类型 -- str类型\n",
    "print(type(num))\n",
    "# 4. 转换数据类型为整型 -- int类型\n",
    "print(type(int(num)))\n"
   ]
  },
  {
   "cell_type": "markdown",
   "metadata": {},
   "source": [
    "再看一个数据转换的例子："
   ]
  },
  {
   "cell_type": "code",
   "execution_count": 37,
   "metadata": {
    "scrolled": true
   },
   "outputs": [
    {
     "name": "stdout",
     "output_type": "stream",
     "text": [
      "1.0\n",
      "<class 'float'>\n",
      "-------------====\n",
      "<class 'str'>\n",
      "----------\n",
      "(10, 20, 30)\n",
      "<class 'tuple'>\n",
      "----------\n",
      "[100, 200, 300]\n",
      "<class 'list'>\n"
     ]
    }
   ],
   "source": [
    "# 1. float() -- 转换成浮点型\n",
    "num1 = 1\n",
    "print(float(num1))\n",
    "print(type(float(num1)))\n",
    "print(\"-------------====\")\n",
    "\n",
    "# 2. str() -- 转换成字符串类型\n",
    "num2 = 10\n",
    "print(type(str(num2)))\n",
    "print(\"-\"*10)\n",
    "\n",
    "# 3. tuple() -- 将⼀个序列转换成元组\n",
    "list1 = [10, 20, 30]\n",
    "print(tuple(list1))\n",
    "print(type(tuple(list1)))\n",
    "print(\"-\"*10)\n",
    "\n",
    "# 4. list() -- 将⼀个序列转换成列表\n",
    "t1 = (100, 200, 300)\n",
    "print(list(t1))\n",
    "print(type(list(t1)))\n"
   ]
  },
  {
   "cell_type": "code",
   "execution_count": 38,
   "metadata": {},
   "outputs": [
    {
     "name": "stdout",
     "output_type": "stream",
     "text": [
      "<class 'int'>\n",
      "<class 'list'>\n",
      "<class 'tuple'>\n"
     ]
    }
   ],
   "source": [
    "# 5. eval() -- 将字符串中的数据转换成Python表达式原本类型\n",
    "str1 = '10'\n",
    "str2 = '[1, 2, 3]'\n",
    "str3 = '(1000, 2000, 3000)'\n",
    "print(type(eval(str1)))\n",
    "print(type(eval(str2)))\n",
    "print(type(eval(str3)))"
   ]
  },
  {
   "cell_type": "markdown",
   "metadata": {},
   "source": [
    "## 5.运算符\n",
    "\n",
    "#### 运算符可分为：\n",
    "> -  算数运算符\n",
    "> -  赋值运算符\n",
    "> -  复合赋值运算符\n",
    "> -  ⽐较运算符\n",
    "> -  逻辑运算符\n",
    "\n",
    "### 5.1 算数运算符\n",
    "\n",
    "\n",
    "<center><img src=\"https://ai-studio-static-online.cdn.bcebos.com/6f4a7b7d1ee842a28cc0a12e30d84fea341bc3c94aae4d3eb78ce504e6f78f47\" width=800 ></center>\n",
    "\n",
    "#### 优先级：\n",
    "混合运算优先级顺序： () 大于 ** 大于 * / // % 大于 + -\n",
    "\n",
    "\n",
    "### 5.2  赋值运算符\n",
    "\n",
    "<center><img src=\"https://ai-studio-static-online.cdn.bcebos.com/b8cec3216fad4f4da798d38e9238bbe129f11462a5654b2eac4d2c4c17b36b29\" width=800 ></center>\n"
   ]
  },
  {
   "cell_type": "code",
   "execution_count": 16,
   "metadata": {},
   "outputs": [
    {
     "name": "stdout",
     "output_type": "stream",
     "text": [
      "10\n",
      "0.5\n",
      "hello world\n"
     ]
    }
   ],
   "source": [
    "#赋值运算符的例子\n",
    "num1, float1, str1 = 10, 0.5, 'hello world'\n",
    "print(num1)\n",
    "print(float1)\n",
    "print(str1)"
   ]
  },
  {
   "cell_type": "markdown",
   "metadata": {},
   "source": [
    "### 5.3  复合赋值运算符\n",
    "\n",
    "<center><img src=\"https://ai-studio-static-online.cdn.bcebos.com/21da3351b3064842b4c8166b8ca942311a1a02ce52e149c482e3f98f3283cdc7\" width=800 ></center>"
   ]
  },
  {
   "cell_type": "code",
   "execution_count": 17,
   "metadata": {},
   "outputs": [
    {
     "name": "stdout",
     "output_type": "stream",
     "text": [
      "101\n"
     ]
    }
   ],
   "source": [
    "a = 100\n",
    "a += 1\n",
    "# 输出101 a = a + 1,最终a = 100 + 1\n",
    "print(a)\n"
   ]
  },
  {
   "cell_type": "code",
   "execution_count": 18,
   "metadata": {},
   "outputs": [
    {
     "name": "stdout",
     "output_type": "stream",
     "text": [
      "6\n"
     ]
    }
   ],
   "source": [
    "b = 2\n",
    "b *= 3\n",
    "# 输出6 b = b * 3,最终b = 2 * 3\n",
    "print(b)\n"
   ]
  },
  {
   "cell_type": "code",
   "execution_count": 19,
   "metadata": {},
   "outputs": [
    {
     "name": "stdout",
     "output_type": "stream",
     "text": [
      "13\n"
     ]
    }
   ],
   "source": [
    "c = 10\n",
    "c += 1 + 2\n",
    "# 输出13, 先算运算符右侧1 + 2 = 3， c += 3 , 推导出c = 10 + 3\n",
    "print(c)"
   ]
  },
  {
   "cell_type": "markdown",
   "metadata": {},
   "source": [
    "### 5.4   ⽐较运算符  \n",
    "\n",
    "⽐较运算符也叫关系运算符， 通常⽤来判断。\n",
    "\n",
    "\n",
    "<center><img src=\"https://ai-studio-static-online.cdn.bcebos.com/f2546898bd1c425db7bf9ad8b32f3c710c2e651c53fc4641a1b77541e4d36ae9\" width=800 ></center>"
   ]
  },
  {
   "cell_type": "code",
   "execution_count": 20,
   "metadata": {},
   "outputs": [
    {
     "name": "stdout",
     "output_type": "stream",
     "text": [
      "False\n",
      "True\n",
      "False\n",
      "True\n",
      "False\n",
      "True\n"
     ]
    }
   ],
   "source": [
    "a = 7\n",
    "b = 5\n",
    "print(a == b) # False\n",
    "print(a != b) # True\n",
    "print(a < b) # False\n",
    "print(a > b) # True\n",
    "print(a <= b) # False\n",
    "print(a >= b) # True"
   ]
  },
  {
   "cell_type": "markdown",
   "metadata": {},
   "source": [
    "### 5.5   逻辑运算符  \n",
    "\n",
    "\n",
    "<center><img src=\"https://ai-studio-static-online.cdn.bcebos.com/989287be697f4029aac3e2c9e8fb850d3bdceb0fceed4521beb88ca334eeb227\" width=800 ></center>"
   ]
  },
  {
   "cell_type": "code",
   "execution_count": 21,
   "metadata": {},
   "outputs": [
    {
     "name": "stdout",
     "output_type": "stream",
     "text": [
      "True\n",
      "False\n",
      "True\n",
      "True\n"
     ]
    }
   ],
   "source": [
    "a = 1\n",
    "b = 2\n",
    "c = 3\n",
    "print((a < b) and (b < c)) # True\n",
    "print((a > b) and (b < c)) # False\n",
    "print((a > b) or (b < c)) # True\n",
    "print(not (a > b)) # True"
   ]
  }
 ],
 "metadata": {
  "kernelspec": {
   "display_name": "Python 3",
   "language": "python",
   "name": "python3"
  },
  "language_info": {
   "codemirror_mode": {
    "name": "ipython",
    "version": 3
   },
   "file_extension": ".py",
   "mimetype": "text/x-python",
   "name": "python",
   "nbconvert_exporter": "python",
   "pygments_lexer": "ipython3",
   "version": "3.8.8"
  }
 },
 "nbformat": 4,
 "nbformat_minor": 1
}
