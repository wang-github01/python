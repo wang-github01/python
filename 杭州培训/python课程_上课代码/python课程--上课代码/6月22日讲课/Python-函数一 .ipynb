{
 "cells": [
  {
   "cell_type": "markdown",
   "metadata": {},
   "source": [
    "# 函数 \n",
    "\n",
    "\n",
    "# 一. 函数的作用\n",
    "\n",
    " 函数就是将⼀段具有独⽴功能的代码块 整合到⼀个整体并命名，在需要的位置调⽤这个名称即可完成对应的需求。\n",
    "\n",
    " 函数在开发过程中，可以更⾼效的实现代码重⽤。"
   ]
  },
  {
   "cell_type": "markdown",
   "metadata": {},
   "source": [
    "# ⼆. 函数的使⽤步骤"
   ]
  },
  {
   "cell_type": "markdown",
   "metadata": {},
   "source": [
    "## 2.1 定义函数"
   ]
  },
  {
   "cell_type": "code",
   "execution_count": null,
   "metadata": {},
   "outputs": [],
   "source": [
    "\n",
    "def 函数名(参数):\n",
    "    代码1\n",
    "    代码2\n",
    "    ......\n",
    " "
   ]
  },
  {
   "cell_type": "markdown",
   "metadata": {},
   "source": [
    "## 2.2 调⽤函数"
   ]
  },
  {
   "cell_type": "code",
   "execution_count": null,
   "metadata": {},
   "outputs": [],
   "source": [
    "函数名(参数)"
   ]
  },
  {
   "cell_type": "markdown",
   "metadata": {},
   "source": [
    "### 注意：\n",
    "1. 不同的需求，参数可有可⽆。\n",
    "2. 在Python中，函数必须先定义后使⽤。"
   ]
  },
  {
   "cell_type": "markdown",
   "metadata": {},
   "source": [
    "## 2.3 快速体验\n",
    "### 需求：ATM取钱。\n",
    "\n",
    "### 1. 搭建整体框架"
   ]
  },
  {
   "cell_type": "code",
   "execution_count": 1,
   "metadata": {},
   "outputs": [
    {
     "name": "stdout",
     "output_type": "stream",
     "text": [
      "密码正确登录成功\n",
      "查询余额完毕\n",
      "取了2000元钱\n"
     ]
    }
   ],
   "source": [
    "print('密码正确登录成功')\n",
    "# 显示\"选择功能\"界⾯\n",
    "print('查询余额完毕')\n",
    "# 显示\"选择功能\"界⾯\n",
    "print('取了2000元钱')\n",
    "# 显示\"选择功能\"界⾯"
   ]
  },
  {
   "cell_type": "markdown",
   "metadata": {},
   "source": [
    "### 2. 确定“选择功能”界⾯内容"
   ]
  },
  {
   "cell_type": "code",
   "execution_count": 2,
   "metadata": {},
   "outputs": [
    {
     "name": "stdout",
     "output_type": "stream",
     "text": [
      "查询余额\n",
      "存款\n",
      "取款\n"
     ]
    }
   ],
   "source": [
    "print('查询余额')\n",
    "print('存款')\n",
    "print('取款')"
   ]
  },
  {
   "cell_type": "markdown",
   "metadata": {},
   "source": [
    "### 3. 封装\"选择功能\"\n",
    "注意：⼀定是先定义函数，后调⽤函数。"
   ]
  },
  {
   "cell_type": "code",
   "execution_count": 3,
   "metadata": {},
   "outputs": [],
   "source": [
    "# 封装ATM机功能选项 -- 定义函数\n",
    "def select_func():\n",
    "    print('-----请选择功能-----')\n",
    "    print('查询余额')\n",
    "    print('存款')\n",
    "    print('取款')\n",
    "    print('-----请选择功能-----')"
   ]
  },
  {
   "cell_type": "markdown",
   "metadata": {},
   "source": [
    "### 4. 调⽤函数\n",
    "在需要显示“选择功能”函数的位置调⽤函数。"
   ]
  },
  {
   "cell_type": "code",
   "execution_count": 4,
   "metadata": {},
   "outputs": [
    {
     "name": "stdout",
     "output_type": "stream",
     "text": [
      "密码正确登录成功\n",
      "-----请选择功能-----\n",
      "查询余额\n",
      "存款\n",
      "取款\n",
      "-----请选择功能-----\n",
      "查询余额完毕\n",
      "-----请选择功能-----\n",
      "查询余额\n",
      "存款\n",
      "取款\n",
      "-----请选择功能-----\n",
      "取了2000元钱\n",
      "-----请选择功能-----\n",
      "查询余额\n",
      "存款\n",
      "取款\n",
      "-----请选择功能-----\n"
     ]
    }
   ],
   "source": [
    "print('密码正确登录成功')\n",
    "# 显示\"选择功能\"界⾯ -- 调⽤函数\n",
    "select_func()\n",
    "print('查询余额完毕')\n",
    "# 显示\"选择功能\"界⾯ -- 调⽤函数\n",
    "select_func()\n",
    "print('取了2000元钱')\n",
    "# 显示\"选择功能\"界⾯ -- 调⽤函数\n",
    "select_func()"
   ]
  },
  {
   "cell_type": "markdown",
   "metadata": {},
   "source": [
    "# 三.函数的参数作⽤\n",
    "* 思考：完成需求如下：⼀个函数完成两个数1和2的加法运算，如何书写程序？"
   ]
  },
  {
   "cell_type": "code",
   "execution_count": 5,
   "metadata": {},
   "outputs": [
    {
     "name": "stdout",
     "output_type": "stream",
     "text": [
      "3\n"
     ]
    }
   ],
   "source": [
    "# 定义函数\n",
    "def add_num1():\n",
    "    result = 1 + 2\n",
    "    print(result)\n",
    "    \n",
    "# 调⽤函数\n",
    "add_num1()"
   ]
  },
  {
   "cell_type": "markdown",
   "metadata": {},
   "source": [
    "* 思考：上述add_num1函数只能完成数字1和2的加法运算，如果想要这个函数变得更灵活，可以计算任何⽤户指定的两个数字的和，如何书写程序？\n",
    "* 分析：⽤户要在调⽤函数的时候指定具体数字，那么在定义函数的时候就需要接收⽤户指定的数字。函数调⽤时候指定的数字和定义函数时候接收的数字即是函数的参数。"
   ]
  },
  {
   "cell_type": "code",
   "execution_count": 6,
   "metadata": {},
   "outputs": [
    {
     "name": "stdout",
     "output_type": "stream",
     "text": [
      "30\n"
     ]
    }
   ],
   "source": [
    "# 定义函数时同时定义了接收⽤户数据的参数a和b，a和b是形参\n",
    "def add_num2(a, b):\n",
    "    result = a + b\n",
    "    print(result)\n",
    "    \n",
    "# 调⽤函数时传⼊了真实的数据10 和 20，真实数据为实参\n",
    "add_num2(10, 20)"
   ]
  },
  {
   "cell_type": "markdown",
   "metadata": {},
   "source": [
    "# 四.函数的返回值作⽤\n",
    "在函数中，如\n",
    "果需要返回结果给⽤户需要使⽤函数返回值。"
   ]
  },
  {
   "cell_type": "code",
   "execution_count": null,
   "metadata": {},
   "outputs": [],
   "source": [
    "def buy():\n",
    "    return '烟'\n",
    "\n",
    "# 使⽤变量保存函数返回值\n",
    "goods = buy()\n",
    "print(goods)"
   ]
  },
  {
   "cell_type": "markdown",
   "metadata": {},
   "source": [
    "## 4.1 应⽤\n",
    "### 需求：制作⼀个计算器，计算任意两数字之和，并保存结果。"
   ]
  },
  {
   "cell_type": "code",
   "execution_count": null,
   "metadata": {},
   "outputs": [],
   "source": [
    "def sum_num(a, b):\n",
    "    return a + b\n",
    "    \n",
    "# ⽤result变量保存函数返回值\n",
    "result = sum_num(1, 2)\n",
    "print(result)"
   ]
  },
  {
   "cell_type": "markdown",
   "metadata": {},
   "source": [
    "# 五.函数的说明⽂档\n",
    "* 思考：定义⼀个函数后，程序员如何书写程序能够快速提示这个函数的作⽤？\n",
    "\n",
    "答：注释\n",
    "\n",
    "* 思考：如果代码多，我们是不是需要在很多代码中找到这个函数定义的位置才能看到注释？如果想更⽅\n",
    "便的查看函数的作⽤怎么办？\n",
    "\n",
    "答：函数的说明⽂档\n",
    "函数的说明⽂档也叫函数的⽂档说明。"
   ]
  },
  {
   "cell_type": "markdown",
   "metadata": {},
   "source": [
    "## 5.1 语法\n",
    "定义函数的说明⽂档"
   ]
  },
  {
   "cell_type": "code",
   "execution_count": null,
   "metadata": {},
   "outputs": [],
   "source": [
    "def 函数名(参数):\n",
    "    \"\"\" 说明⽂档的位置 \"\"\"\n",
    "    代码\n",
    "    ......"
   ]
  },
  {
   "cell_type": "markdown",
   "metadata": {},
   "source": [
    "# 六.函数嵌套调⽤\n",
    "所谓函数嵌套调⽤指的是⼀个函数⾥⾯⼜调⽤了另外⼀个函数。"
   ]
  },
  {
   "cell_type": "markdown",
   "metadata": {},
   "source": [
    "示例"
   ]
  },
  {
   "cell_type": "code",
   "execution_count": 5,
   "metadata": {},
   "outputs": [
    {
     "name": "stdout",
     "output_type": "stream",
     "text": [
      "---- testA start----\n",
      "---- testB start----\n",
      "这⾥是testB函数执⾏的代码...(省略)...\n",
      "---- testB end----\n",
      "---- testA end----\n"
     ]
    }
   ],
   "source": [
    "def testB():\n",
    "    print('---- testB start----')\n",
    "    print('这⾥是testB函数执⾏的代码...(省略)...')\n",
    "    print('---- testB end----')\n",
    "    \n",
    "def testA():\n",
    "    print('---- testA start----')\n",
    "    testB()\n",
    "    print('---- testA end----')\n",
    "testA()"
   ]
  },
  {
   "cell_type": "markdown",
   "metadata": {},
   "source": [
    "### 执⾏流程"
   ]
  },
  {
   "cell_type": "markdown",
   "metadata": {},
   "source": [
    "<center><img src=\"https://ai-studio-static-online.cdn.bcebos.com/49d0126c95a54978be46bd56068c77915c1f49a4f7fe4351b8deaa975d3d777f\" width=600></center>"
   ]
  },
  {
   "cell_type": "markdown",
   "metadata": {},
   "source": [
    "如果函数A中，调⽤了另外⼀个函数B，那么先把函数B中的任务都执⾏完毕之后才会回到上次函数A执⾏的位置。"
   ]
  },
  {
   "cell_type": "markdown",
   "metadata": {},
   "source": [
    "# 七. 函数应⽤"
   ]
  },
  {
   "cell_type": "markdown",
   "metadata": {},
   "source": [
    "## 7.1 打印图形\n",
    "### 1. 打印⼀条横线"
   ]
  },
  {
   "cell_type": "code",
   "execution_count": 6,
   "metadata": {},
   "outputs": [
    {
     "name": "stdout",
     "output_type": "stream",
     "text": [
      "--------------------\n"
     ]
    }
   ],
   "source": [
    "def print_line():\n",
    "    print('-' * 20)\n",
    "print_line()"
   ]
  },
  {
   "cell_type": "markdown",
   "metadata": {},
   "source": [
    "### 2. 打印多条横线"
   ]
  },
  {
   "cell_type": "code",
   "execution_count": 7,
   "metadata": {},
   "outputs": [
    {
     "name": "stdout",
     "output_type": "stream",
     "text": [
      "--------------------\n",
      "--------------------\n",
      "--------------------\n",
      "--------------------\n",
      "--------------------\n"
     ]
    }
   ],
   "source": [
    "def print_line():\n",
    "    print('-' * 20)\n",
    "def print_lines(num):\n",
    "    i = 0\n",
    "    while i < num:\n",
    "        print_line()\n",
    "        i += 1\n",
    "        \n",
    "print_lines(5)"
   ]
  },
  {
   "cell_type": "markdown",
   "metadata": {},
   "source": [
    "## 7.2 函数计算\n",
    "### 1. 求三个数之和"
   ]
  },
  {
   "cell_type": "code",
   "execution_count": 8,
   "metadata": {},
   "outputs": [
    {
     "name": "stdout",
     "output_type": "stream",
     "text": [
      "6\n"
     ]
    }
   ],
   "source": [
    "def sum_num(a, b, c):\n",
    "    return a + b + c\n",
    "    \n",
    "result = sum_num(1, 2, 3)\n",
    "print(result) # 6"
   ]
  },
  {
   "cell_type": "markdown",
   "metadata": {},
   "source": [
    "### 2. 求三个数平均值"
   ]
  },
  {
   "cell_type": "code",
   "execution_count": 9,
   "metadata": {},
   "outputs": [
    {
     "name": "stdout",
     "output_type": "stream",
     "text": [
      "2.0\n"
     ]
    }
   ],
   "source": [
    "def average_num(a, b, c):\n",
    "    sumResult = sum_num(a, b, c)\n",
    "    return sumResult / 3\n",
    "result = average_num(1, 2, 3)\n",
    "print(result) # 2.0\n"
   ]
  }
 ],
 "metadata": {
  "kernelspec": {
   "display_name": "Python 3",
   "language": "python",
   "name": "python3"
  },
  "language_info": {
   "codemirror_mode": {
    "name": "ipython",
    "version": 3
   },
   "file_extension": ".py",
   "mimetype": "text/x-python",
   "name": "python",
   "nbconvert_exporter": "python",
   "pygments_lexer": "ipython3",
   "version": "3.8.8"
  }
 },
 "nbformat": 4,
 "nbformat_minor": 1
}
