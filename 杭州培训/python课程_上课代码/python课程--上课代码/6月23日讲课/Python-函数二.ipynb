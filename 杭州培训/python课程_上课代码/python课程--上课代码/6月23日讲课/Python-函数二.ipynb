{
 "cells": [
  {
   "cell_type": "markdown",
   "metadata": {},
   "source": [
    "# 函数 \n",
    "\n",
    "\n",
    "## 1. 变量 \n",
    "\n",
    "变量根据作用域不同，主要分为两类：局部变量和全局变量。\n",
    "\n",
    "### 1.1 局部变量\n",
    "\n",
    "\t局部变量是定义在函数体内部的变量，即只在函数体内部⽣效。\n"
   ]
  },
  {
   "cell_type": "code",
   "execution_count": 1,
   "metadata": {},
   "outputs": [
    {
     "name": "stdout",
     "output_type": "stream",
     "text": [
      "100\n"
     ]
    },
    {
     "ename": "NameError",
     "evalue": "name 'a' is not defined",
     "output_type": "error",
     "traceback": [
      "\u001b[1;31m---------------------------------------------------------------------------\u001b[0m",
      "\u001b[1;31mNameError\u001b[0m                                 Traceback (most recent call last)",
      "\u001b[1;32m<ipython-input-1-b4ca1142cba5>\u001b[0m in \u001b[0;36m<module>\u001b[1;34m\u001b[0m\n\u001b[0;32m      3\u001b[0m     \u001b[0mprint\u001b[0m\u001b[1;33m(\u001b[0m\u001b[0ma\u001b[0m\u001b[1;33m)\u001b[0m\u001b[1;33m\u001b[0m\u001b[1;33m\u001b[0m\u001b[0m\n\u001b[0;32m      4\u001b[0m \u001b[0mtestA\u001b[0m\u001b[1;33m(\u001b[0m\u001b[1;33m)\u001b[0m \u001b[1;31m# 100\u001b[0m\u001b[1;33m\u001b[0m\u001b[1;33m\u001b[0m\u001b[0m\n\u001b[1;32m----> 5\u001b[1;33m \u001b[0mprint\u001b[0m\u001b[1;33m(\u001b[0m\u001b[0ma\u001b[0m\u001b[1;33m)\u001b[0m \u001b[1;31m# 报错：name 'a' is not defined\u001b[0m\u001b[1;33m\u001b[0m\u001b[1;33m\u001b[0m\u001b[0m\n\u001b[0m",
      "\u001b[1;31mNameError\u001b[0m: name 'a' is not defined"
     ]
    }
   ],
   "source": [
    "def testA():\n",
    "    a = 100\n",
    "    print(a)\n",
    "testA() # 100\n",
    "print(a) # 报错：name 'a' is not defined\n"
   ]
  },
  {
   "cell_type": "markdown",
   "metadata": {},
   "source": [
    "变量a是定义在 testA 函数内部的变量，在函数外部访问则⽴即报错。\n",
    "\n",
    "局部变量的作⽤：在函数体内部，临时保存数据，即当函数调⽤完成后，则销毁局部变量。"
   ]
  },
  {
   "cell_type": "markdown",
   "metadata": {},
   "source": [
    "### 1.2  全局变量\n",
    "\n",
    "全局变量，指的是在函数体内、外都能⽣效的变量。\n",
    "    \n",
    "    \n",
    "\n",
    "    思考一下：如果有⼀个数据，在函数A和函数B中都要使⽤，该怎么办？\n",
    "\n",
    "    答：将这个数据存储在⼀个全局变量⾥⾯。\n"
   ]
  },
  {
   "cell_type": "code",
   "execution_count": 2,
   "metadata": {},
   "outputs": [
    {
     "name": "stdout",
     "output_type": "stream",
     "text": [
      "100\n",
      "100\n"
     ]
    }
   ],
   "source": [
    "# 定义全局变量a \n",
    "a = 100\n",
    "def testA():\n",
    "    print(a) # 访问全局变量a，并打印变量a存储的数据\n",
    "def testB():\n",
    "    print(a) # 访问全局变量a，并打印变量a存储的数据\n",
    "testA() # 100\n",
    "testB() # 100"
   ]
  },
  {
   "cell_type": "code",
   "execution_count": 3,
   "metadata": {},
   "outputs": [
    {
     "name": "stdout",
     "output_type": "stream",
     "text": [
      "100\n",
      "200\n",
      "全局变量a = 100\n"
     ]
    }
   ],
   "source": [
    "a = 100\n",
    "def testA():\n",
    "    print(a)\n",
    "def testB():\n",
    "    a = 200\n",
    "    print(a)\n",
    "testA() # 100\n",
    "testB() # 200\n",
    "print(f'全局变量a = {a}') # 全局变量a = 100"
   ]
  },
  {
   "cell_type": "markdown",
   "metadata": {},
   "source": [
    "思考：在 testB 函数内部的 a = 200 中的变量a是在修改全局变量 a 吗？\n",
    "\n",
    "答：不是。观察上述代码发现，最后一行得到a的数据是100，仍然是定义全局变量a时候的值，⽽没有返回testB 函数内部的200。所以： testB 函数内部的 a = 200 是定义了⼀个局部变量。\n",
    "\n",
    "思考：如何在函数体内部修改全局变量？"
   ]
  },
  {
   "cell_type": "code",
   "execution_count": 7,
   "metadata": {},
   "outputs": [
    {
     "name": "stdout",
     "output_type": "stream",
     "text": [
      "100\n",
      "200\n",
      "全局变量a = 200\n"
     ]
    }
   ],
   "source": [
    "a = 100\n",
    "def testA():\n",
    "    print(a)\n",
    "def testB():\n",
    " # global 关键字声明a是全局变量\n",
    "    global a\n",
    "    a = 200\n",
    "    print(a)\n",
    "testA() # 100\n",
    "testB() # 200\n",
    "print(f'全局变量a = {a}') # 全局变量a = 200"
   ]
  },
  {
   "cell_type": "markdown",
   "metadata": {},
   "source": [
    "## 2. 多函数执⾏流程\n",
    "\n",
    "实际开发过程中，⼀个程序往往由多个函数组成，并且多个函数共享某些数据，那么程序执行流程如何呢？看例子："
   ]
  },
  {
   "cell_type": "markdown",
   "metadata": {},
   "source": [
    "- > 共⽤全局变量"
   ]
  },
  {
   "cell_type": "code",
   "execution_count": 4,
   "metadata": {},
   "outputs": [
    {
     "name": "stdout",
     "output_type": "stream",
     "text": [
      "100\n"
     ]
    }
   ],
   "source": [
    "# 1. 定义全局变量\n",
    "glo_num = 0\n",
    "def test1():\n",
    "    global glo_num\n",
    " # 修改全局变量\n",
    "    glo_num = 100\n",
    "def test2():\n",
    " # 调⽤test1函数中修改后的全局变量\n",
    "     print(glo_num)\n",
    "\n",
    "#2. 调⽤test1函数，执⾏函数内部代码：声明和修改全局变量\n",
    "test1()\n",
    "# 3. 调⽤test2函数，执⾏函数内部代码：打印\n",
    "test2() # 100"
   ]
  },
  {
   "cell_type": "markdown",
   "metadata": {},
   "source": [
    "- > 返回值作为参数传递"
   ]
  },
  {
   "cell_type": "code",
   "execution_count": 5,
   "metadata": {},
   "outputs": [
    {
     "name": "stdout",
     "output_type": "stream",
     "text": [
      "50\n"
     ]
    }
   ],
   "source": [
    "def test1():\n",
    "    return 50\n",
    "def test2(num):\n",
    "    print(num)\n",
    "# 1. 保存函数test1的返回值\n",
    "result = test1()\n",
    "# 2.将函数返回值所在变量作为参数传递到test2函数\n",
    "test2(result) # 50"
   ]
  },
  {
   "cell_type": "markdown",
   "metadata": {},
   "source": [
    "## 3. 函数的返回值\n",
    "\n",
    "    语法：\n",
    "\n",
    "    return 表达式1, 表达式2...\n",
    "\n",
    "思考：如果⼀个函数如果有两个return (如下所示)，程序如何执⾏？"
   ]
  },
  {
   "cell_type": "code",
   "execution_count": 6,
   "metadata": {},
   "outputs": [
    {
     "name": "stdout",
     "output_type": "stream",
     "text": [
      "1\n"
     ]
    }
   ],
   "source": [
    "def return_num():\n",
    "    return 1\n",
    "    return 2\n",
    "result = return_num()\n",
    "print(result) # 1"
   ]
  },
  {
   "cell_type": "markdown",
   "metadata": {},
   "source": [
    "答：只执⾏了第⼀个return，原因是因为return可以退出当前函数，导致return下⽅的代码不执⾏。"
   ]
  },
  {
   "cell_type": "markdown",
   "metadata": {},
   "source": [
    "思考：如果⼀个函数要有多个返回值，该如何书写代码？如下："
   ]
  },
  {
   "cell_type": "code",
   "execution_count": 7,
   "metadata": {},
   "outputs": [
    {
     "name": "stdout",
     "output_type": "stream",
     "text": [
      "(1, 2)\n"
     ]
    }
   ],
   "source": [
    "def return_num():\n",
    "    return 1, 2\n",
    "result = return_num()\n",
    "print(result) # (1, 2)"
   ]
  },
  {
   "cell_type": "markdown",
   "metadata": {},
   "source": [
    "### 注意：\n",
    "\n",
    "1. return a, b 写法，返回多个数据的时候，默认是元组类型。\n",
    "2. return后⾯可以连接列表、元组或字典，以返回多个值。"
   ]
  },
  {
   "cell_type": "markdown",
   "metadata": {},
   "source": [
    "## 4. 函数的参数"
   ]
  },
  {
   "cell_type": "markdown",
   "metadata": {},
   "source": [
    "### 4.1 位置参数\n",
    "\n",
    "调⽤函数时，根据函数定义的参数位置来传递参数。"
   ]
  },
  {
   "cell_type": "code",
   "execution_count": 9,
   "metadata": {},
   "outputs": [
    {
     "name": "stdout",
     "output_type": "stream",
     "text": [
      "您的名字是TOM, 年龄是20, 性别是男\n"
     ]
    }
   ],
   "source": [
    "def user_info(name, age, gender):\n",
    "    print(f'您的名字是{name}, 年龄是{age}, 性别是{gender}')\n",
    "user_info('TOM', 20, '男')"
   ]
  },
  {
   "cell_type": "markdown",
   "metadata": {},
   "source": [
    "注意：传递和定义参数的顺序，及个数必须⼀致。"
   ]
  },
  {
   "cell_type": "markdown",
   "metadata": {},
   "source": [
    "## 4.2 关键字参数\n",
    "> - 函数调⽤，通过“键=值”形式加以指定。  \n",
    "> -  可以让函数更加清晰、容易使⽤，同时也清除了参数的顺序需求。"
   ]
  },
  {
   "cell_type": "code",
   "execution_count": 13,
   "metadata": {},
   "outputs": [
    {
     "name": "stdout",
     "output_type": "stream",
     "text": [
      "您的名字是Rose, 年龄是20, 性别是⼥\n",
      "您的名字是⼩明, 年龄是16, 性别是男\n"
     ]
    }
   ],
   "source": [
    "def user_info(name, age, gender):\n",
    "    print(f'您的名字是{name}, 年龄是{age}, 性别是{gender}')\n",
    "user_info('Rose', age=20, gender='⼥')\n",
    "user_info('⼩明', gender='男', age=16)"
   ]
  },
  {
   "cell_type": "markdown",
   "metadata": {},
   "source": [
    "注意：函数调⽤时，如果有位置参数时，位置参数必须在关键字参数的前⾯，但关键字参数之间不存在先后顺序。"
   ]
  },
  {
   "cell_type": "markdown",
   "metadata": {},
   "source": [
    "## 4.3 缺省参数\n",
    "> - 缺省参数也叫默认参数，⽤于定义函数，为参数提供默认值，调⽤函数时可不传该默认参数的值;\n",
    "> - 注意：所有位置参数必须出现在默认参数前，包括函数定义和调⽤。"
   ]
  },
  {
   "cell_type": "code",
   "execution_count": 14,
   "metadata": {},
   "outputs": [
    {
     "name": "stdout",
     "output_type": "stream",
     "text": [
      "您的名字是TOM, 年龄是20, 性别是男\n",
      "您的名字是Rose, 年龄是18, 性别是⼥\n"
     ]
    }
   ],
   "source": [
    "def user_info(name, age, gender='男'):\n",
    "    print(f'您的名字是{name}, 年龄是{age}, 性别是{gender}')\n",
    "user_info('TOM', 20)\n",
    "\n",
    "#注意：函数调⽤时，如果为缺省参数传入新的值，则修改默认参数值；否则使⽤这个默认值。\n",
    "user_info('Rose', 18, '⼥')"
   ]
  },
  {
   "cell_type": "markdown",
   "metadata": {},
   "source": [
    "## 4.4 不定长参数\n",
    "> - 不定⻓参数也叫可变参数。⽤于不确定调⽤的时候会传递多少个参数(不传参也可以)的场景。\n",
    "> - 此时，可⽤* args  或 ** kwargs  来进⾏参数传递，会显得⾮常⽅便。\n",
    "\n",
    "    加了星号（*）的变量args会存放所有未命名的变量参数，args为元组；而加**的变量kwargs会存放命名参数，即形如key=value的参数， kwargs为字典。"
   ]
  },
  {
   "cell_type": "markdown",
   "metadata": {},
   "source": [
    "* args  \n"
   ]
  },
  {
   "cell_type": "code",
   "execution_count": 15,
   "metadata": {},
   "outputs": [
    {
     "name": "stdout",
     "output_type": "stream",
     "text": [
      "('TOM',)\n",
      "('TOM', 18)\n"
     ]
    }
   ],
   "source": [
    "def user_info(*args):\n",
    "    print(args)\n",
    "# ('TOM',)\n",
    "user_info('TOM')\n",
    "# ('TOM', 18)\n",
    "user_info('TOM', 18)"
   ]
  },
  {
   "cell_type": "markdown",
   "metadata": {},
   "source": [
    "** kwargs"
   ]
  },
  {
   "cell_type": "code",
   "execution_count": 16,
   "metadata": {},
   "outputs": [
    {
     "name": "stdout",
     "output_type": "stream",
     "text": [
      "{'name': 'TOM', 'age': 18, 'id': 110}\n"
     ]
    }
   ],
   "source": [
    "def user_info(**kwargs):\n",
    "    print(kwargs)\n",
    "# {'name': 'TOM', 'age': 18, 'id': 110}\n",
    "user_info(name='TOM', age=18, id=110)"
   ]
  },
  {
   "cell_type": "markdown",
   "metadata": {},
   "source": [
    "## 5. 拆包和交换变量值\n",
    "\n",
    "### 5.1 拆包\n",
    "\t\n",
    "    拆包：元组"
   ]
  },
  {
   "cell_type": "code",
   "execution_count": 17,
   "metadata": {},
   "outputs": [
    {
     "name": "stdout",
     "output_type": "stream",
     "text": [
      "100\n",
      "200\n"
     ]
    }
   ],
   "source": [
    "def return_num():\n",
    "    return 100, 200\n",
    "num1, num2 = return_num()\n",
    "print(num1) # 100\n",
    "print(num2) # 200"
   ]
  },
  {
   "cell_type": "markdown",
   "metadata": {},
   "source": [
    "\t拆包：字典"
   ]
  },
  {
   "cell_type": "code",
   "execution_count": 18,
   "metadata": {},
   "outputs": [
    {
     "name": "stdout",
     "output_type": "stream",
     "text": [
      "name\n",
      "age\n",
      "TOM\n",
      "18\n"
     ]
    }
   ],
   "source": [
    "dict1 = {'name': 'TOM', 'age': 18} \n",
    "a, b = dict1\n",
    "# 对字典进⾏拆包，取出来的是字典的key\n",
    "print(a) # name\n",
    "print(b) # age\n",
    "print(dict1[a]) # TOM\n",
    "print(dict1[b]) # 18"
   ]
  },
  {
   "cell_type": "markdown",
   "metadata": {},
   "source": [
    "## 5.2 交换变量值\n",
    "### 需求：有变量 a = 10 和 b = 20 ，交换两个变量的值。\n",
    "\t⽅法⼀:借助第三变量存储数据。"
   ]
  },
  {
   "cell_type": "code",
   "execution_count": 19,
   "metadata": {},
   "outputs": [
    {
     "name": "stdout",
     "output_type": "stream",
     "text": [
      "20\n",
      "10\n"
     ]
    }
   ],
   "source": [
    "# 1. 定义中间变量\n",
    "a = 10\n",
    "b = 20\n",
    "c = 0\n",
    "# 2. 将a的数据存储到c \n",
    "c = a\n",
    "# 3. 将b的数据20赋值到a，此时a = 20\n",
    "a = b\n",
    "# 4. 将之前c的数据10赋值到b，此时b = 10\n",
    "b = c\n",
    "print(a) # 20\n",
    "print(b) # 10"
   ]
  },
  {
   "cell_type": "markdown",
   "metadata": {},
   "source": [
    "\t⽅法⼆"
   ]
  },
  {
   "cell_type": "code",
   "execution_count": 20,
   "metadata": {},
   "outputs": [
    {
     "name": "stdout",
     "output_type": "stream",
     "text": [
      "2\n",
      "1\n"
     ]
    }
   ],
   "source": [
    "a, b = 1, 2 \n",
    "a, b = b, a\n",
    "print(a) # 2\n",
    "print(b) # 1"
   ]
  }
 ],
 "metadata": {
  "kernelspec": {
   "display_name": "Python 3",
   "language": "python",
   "name": "python3"
  },
  "language_info": {
   "codemirror_mode": {
    "name": "ipython",
    "version": 3
   },
   "file_extension": ".py",
   "mimetype": "text/x-python",
   "name": "python",
   "nbconvert_exporter": "python",
   "pygments_lexer": "ipython3",
   "version": "3.8.8"
  }
 },
 "nbformat": 4,
 "nbformat_minor": 1
}
