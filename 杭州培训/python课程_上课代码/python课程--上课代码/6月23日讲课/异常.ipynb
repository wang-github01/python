{
 "cells": [
  {
   "cell_type": "markdown",
   "metadata": {},
   "source": [
    "# 异常\n",
    "\n",
    "## 1. 什么是异常\n",
    "\n",
    "当检测到⼀个错误时，解释器就⽆法继续执⾏了，反⽽出现了⼀些错误的提示，这就是所谓的\"异常\"。\n",
    "例如：以 r ⽅式打开⼀个不存在的⽂件。"
   ]
  },
  {
   "cell_type": "code",
   "execution_count": 1,
   "metadata": {},
   "outputs": [
    {
     "ename": "FileNotFoundError",
     "evalue": "[Errno 2] No such file or directory: 'test.txt'",
     "output_type": "error",
     "traceback": [
      "\u001b[1;31m---------------------------------------------------------------------------\u001b[0m",
      "\u001b[1;31mFileNotFoundError\u001b[0m                         Traceback (most recent call last)",
      "\u001b[1;32m<ipython-input-1-338bc78d3453>\u001b[0m in \u001b[0;36m<module>\u001b[1;34m\u001b[0m\n\u001b[1;32m----> 1\u001b[1;33m \u001b[0mopen\u001b[0m\u001b[1;33m(\u001b[0m\u001b[1;34m'test.txt'\u001b[0m\u001b[1;33m,\u001b[0m \u001b[1;34m'r'\u001b[0m\u001b[1;33m)\u001b[0m\u001b[1;33m\u001b[0m\u001b[1;33m\u001b[0m\u001b[0m\n\u001b[0m",
      "\u001b[1;31mFileNotFoundError\u001b[0m: [Errno 2] No such file or directory: 'test.txt'"
     ]
    }
   ],
   "source": [
    "open('test.txt', 'r')"
   ]
  },
  {
   "cell_type": "markdown",
   "metadata": {},
   "source": [
    "## 2. 捕获异常 try...except...\n",
    "\n",
    "    try:\n",
    "        可能发⽣错误的代码\n",
    "    except:\n",
    "        如果出现异常执⾏的代码"
   ]
  },
  {
   "cell_type": "code",
   "execution_count": 13,
   "metadata": {},
   "outputs": [
    {
     "name": "stdout",
     "output_type": "stream",
     "text": [
      "-----test--1---\n"
     ]
    }
   ],
   "source": [
    "try:\n",
    "    print('-----test--1---')\n",
    "    open('123.txt','r')\n",
    "    print('-----test--2---')\n",
    "except FileNotFoundError:\n",
    "    pass"
   ]
  },
  {
   "cell_type": "markdown",
   "metadata": {},
   "source": [
    "#### 可以看到:\n",
    "\n",
    "- > 此程序看不到任何错误，因为用except 捕获到了IOError异常，并添加了处理的方法\n",
    "- > pass  什么也不做；如果把pass改为print语句，那么就会输出其他信息"
   ]
  },
  {
   "cell_type": "markdown",
   "metadata": {},
   "source": [
    "## 3.except捕获多个异常"
   ]
  },
  {
   "cell_type": "code",
   "execution_count": 14,
   "metadata": {},
   "outputs": [
    {
     "ename": "NameError",
     "evalue": "name 'num' is not defined",
     "output_type": "error",
     "traceback": [
      "\u001b[1;31m---------------------------------------------------------------------------\u001b[0m",
      "\u001b[1;31mNameError\u001b[0m                                 Traceback (most recent call last)",
      "\u001b[1;32m<ipython-input-14-db6b7aa30e5e>\u001b[0m in \u001b[0;36m<module>\u001b[1;34m\u001b[0m\n\u001b[0;32m      2\u001b[0m \u001b[1;33m\u001b[0m\u001b[0m\n\u001b[0;32m      3\u001b[0m \u001b[1;32mtry\u001b[0m\u001b[1;33m:\u001b[0m\u001b[1;33m\u001b[0m\u001b[1;33m\u001b[0m\u001b[0m\n\u001b[1;32m----> 4\u001b[1;33m     \u001b[0mprint\u001b[0m\u001b[1;33m(\u001b[0m\u001b[0mnum\u001b[0m\u001b[1;33m)\u001b[0m\u001b[1;33m\u001b[0m\u001b[1;33m\u001b[0m\u001b[0m\n\u001b[0m\u001b[0;32m      5\u001b[0m \u001b[1;32mexcept\u001b[0m \u001b[0mFileNotFoundError\u001b[0m\u001b[1;33m:\u001b[0m\u001b[1;33m\u001b[0m\u001b[1;33m\u001b[0m\u001b[0m\n\u001b[0;32m      6\u001b[0m     \u001b[0mprint\u001b[0m\u001b[1;33m(\u001b[0m\u001b[1;34m'产生错误了'\u001b[0m\u001b[1;33m)\u001b[0m\u001b[1;33m\u001b[0m\u001b[1;33m\u001b[0m\u001b[0m\n",
      "\u001b[1;31mNameError\u001b[0m: name 'num' is not defined"
     ]
    }
   ],
   "source": [
    "#看如下示例:\n",
    "\n",
    "try:\n",
    "    print(num)\n",
    "except FileNotFoundError:\n",
    "    print('产生错误了')"
   ]
  },
  {
   "cell_type": "markdown",
   "metadata": {},
   "source": [
    "    想一想:\n",
    "\n",
    "    上例程序，已经使用except来捕获异常了，为什么还会看到错误的信息提示？\n",
    "\n",
    "    答:\n",
    "\n",
    "    except捕获的错误类型是FileNotFoundError，而此时程序产生的异常为 NameError ，所以except没有生效"
   ]
  },
  {
   "cell_type": "code",
   "execution_count": 15,
   "metadata": {},
   "outputs": [
    {
     "name": "stdout",
     "output_type": "stream",
     "text": [
      "产生错误了\n"
     ]
    }
   ],
   "source": [
    "#修改后的代码为:\n",
    "\n",
    "try:\n",
    "    print(num)\n",
    "except NameError:\n",
    "    print('产生错误了')"
   ]
  },
  {
   "cell_type": "markdown",
   "metadata": {},
   "source": [
    "#### 实际开发中，捕获多个异常的方式，如下：\n",
    "\n",
    "当捕获多个异常时，可以把要捕获的异常类型的名字，放到except 后，并使⽤元组的⽅式进⾏书写。"
   ]
  },
  {
   "cell_type": "code",
   "execution_count": 22,
   "metadata": {},
   "outputs": [
    {
     "name": "stdout",
     "output_type": "stream",
     "text": [
      "有错误\n"
     ]
    }
   ],
   "source": [
    "try:\n",
    "    \n",
    "    print(1/0)    \n",
    "except (NameError, ZeroDivisionError):\n",
    "    print('有错误')"
   ]
  },
  {
   "cell_type": "markdown",
   "metadata": {},
   "source": [
    "#### 捕获异常描述信息"
   ]
  },
  {
   "cell_type": "code",
   "execution_count": 23,
   "metadata": {},
   "outputs": [
    {
     "name": "stdout",
     "output_type": "stream",
     "text": [
      "name 'num' is not defined\n"
     ]
    }
   ],
   "source": [
    "try:\n",
    "    print(num)\n",
    "\n",
    "except (NameError, ZeroDivisionError) as result:\n",
    "    print(result)"
   ]
  },
  {
   "cell_type": "markdown",
   "metadata": {},
   "source": [
    "#### 捕获所有异常\n",
    "\n",
    "Exception是所有程序异常类的⽗类。"
   ]
  },
  {
   "cell_type": "code",
   "execution_count": 24,
   "metadata": {},
   "outputs": [
    {
     "name": "stdout",
     "output_type": "stream",
     "text": [
      "name 'num' is not defined\n"
     ]
    }
   ],
   "source": [
    "try:\n",
    "    print(num)\n",
    "except Exception as result:\n",
    "    print(result)"
   ]
  },
  {
   "cell_type": "markdown",
   "metadata": {},
   "source": [
    "## 4 异常的else\n",
    "\n",
    "else表示的是如果没有异常要执⾏的代码。"
   ]
  },
  {
   "cell_type": "code",
   "execution_count": 25,
   "metadata": {},
   "outputs": [
    {
     "name": "stdout",
     "output_type": "stream",
     "text": [
      "1\n",
      "我是else，是没有异常的时候执⾏的代码\n"
     ]
    }
   ],
   "source": [
    "try:\n",
    "    print(1)\n",
    "except Exception as result:\n",
    "    print(result)\n",
    "else:\n",
    "    print('我是else，是没有异常的时候执⾏的代码')"
   ]
  },
  {
   "cell_type": "markdown",
   "metadata": {},
   "source": [
    "### 5 异常的finally\n",
    "\n",
    "finally表示的是⽆论是否异常都要执⾏的代码，例如关闭⽂件。"
   ]
  },
  {
   "cell_type": "code",
   "execution_count": 27,
   "metadata": {},
   "outputs": [
    {
     "name": "stdout",
     "output_type": "stream",
     "text": [
      "没有异常，真开⼼\n"
     ]
    }
   ],
   "source": [
    "try:\n",
    "    f = open('test.txt', 'r')\n",
    "except Exception as result:\n",
    "    f = open('test.txt', 'w')\n",
    "else:\n",
    "    print('没有异常，真开⼼')\n",
    "finally:\n",
    "    f.close()"
   ]
  }
 ],
 "metadata": {
  "kernelspec": {
   "display_name": "Python 3",
   "language": "python",
   "name": "python3"
  },
  "language_info": {
   "codemirror_mode": {
    "name": "ipython",
    "version": 3
   },
   "file_extension": ".py",
   "mimetype": "text/x-python",
   "name": "python",
   "nbconvert_exporter": "python",
   "pygments_lexer": "ipython3",
   "version": "3.8.8"
  }
 },
 "nbformat": 4,
 "nbformat_minor": 1
}
