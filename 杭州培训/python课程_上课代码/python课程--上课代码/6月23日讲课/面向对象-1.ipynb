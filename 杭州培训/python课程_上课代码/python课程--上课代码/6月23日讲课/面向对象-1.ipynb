{
 "cells": [
  {
   "cell_type": "code",
   "execution_count": null,
   "metadata": {},
   "outputs": [],
   "source": []
  },
  {
   "cell_type": "markdown",
   "metadata": {},
   "source": [
    "# 面向对象基础\n",
    "\n",
    "## 怎么理解面向对象？\n",
    "\n",
    "举个例子：洗衣服\n",
    "\n",
    "方法一：手洗，步骤繁多。\n",
    "\n",
    "方法二：用洗衣机，什么也不用管了。\n",
    "\n",
    "这就是面向对象：：⾯向对象就是将编程当成是⼀个事物，对外界来说，事物是直接使⽤的，不⽤去管他内部的情况。⽽编程就是设置事物能够做什么事。"
   ]
  },
  {
   "cell_type": "markdown",
   "metadata": {},
   "source": [
    "面向对象编程的2个非常重要的概念：类和对象\n",
    "\n",
    "> - 类：猫\n",
    "> - 对象：多啦爱梦、短耳猫、加菲猫\n",
    "\n",
    "类(Class) 由3个部分构成\n",
    "\n",
    "> - 类的名称\n",
    "> - 类的属性\n",
    "> - 类的方法\n",
    "\n",
    "比如：\n",
    "\n",
    "狗类的设计\n",
    "\n",
    "> - 类名:狗(Dog)\n",
    "> - 属性:品种 、毛色、性别、名字、 腿儿的数量\n",
    "> - 方法(行为/功能):叫 、跑、咬人、吃、摇尾巴"
   ]
  },
  {
   "cell_type": "markdown",
   "metadata": {},
   "source": [
    "## 定义类\n",
    "\n",
    "定义一个类，格式如下：\n",
    "\n",
    "    class 类名:\n",
    "        方法列表\n",
    "    demo：定义一个Car类\n",
    "\n",
    "### 例子：定义一个类\n",
    "    class Car:\n",
    "        # 方法\n",
    "        def getCarInfo(self):\n",
    "            print('车轮子个数:%d, 颜色%s'%(self.wheelNum, self.color))\n",
    "\n",
    "        def move(self):\n",
    "            print(\"车正在移动...\")"
   ]
  },
  {
   "cell_type": "code",
   "execution_count": 1,
   "metadata": {},
   "outputs": [],
   "source": [
    "#定义一个类\n",
    "class Car:\n",
    "    # 方法\n",
    "    def getCarInfo(self):\n",
    "        print('车轮子个数:%d, 颜色%s'%(self.wheelNum, self.color))\n",
    "\n",
    "    def move(self):\n",
    "        print(\"车正在移动...\")"
   ]
  },
  {
   "cell_type": "markdown",
   "metadata": {},
   "source": [
    "## 创建对象\n",
    "\n",
    "上面，我们定义了一个Car类；就好比有了车的设计图纸，那么接下来就应该把图纸交给生成工人们去生产具体的车了\n",
    "\n",
    "python中，可以根据已经定义的类去创建出一个个对象，就相当于根据图纸来造车。\n",
    "\n",
    "创建对象的格式为:\n",
    "\n",
    "    对象名 = 类名()"
   ]
  },
  {
   "cell_type": "code",
   "execution_count": 2,
   "metadata": {},
   "outputs": [
    {
     "name": "stdout",
     "output_type": "stream",
     "text": [
      "车在奔跑...\n",
      "车在鸣笛...嘟嘟..\n",
      "黑色\n",
      "4\n"
     ]
    }
   ],
   "source": [
    "#例子：定义类，并创建对象\n",
    "# 定义类\n",
    "class Car:\n",
    "    # 移动\n",
    "    def move(self):\n",
    "        print('车在奔跑...')\n",
    "\n",
    "    # 鸣笛\n",
    "    def toot(self):\n",
    "        print(\"车在鸣笛...嘟嘟..\")\n",
    "\n",
    "\n",
    "# 创建一个对象，并用变量BMW来保存它的引用\n",
    "BMW = Car()\n",
    "#给对象添加属性\n",
    "BMW.color = '黑色'\n",
    "BMW.wheelNum = 4 #轮子数量\n",
    "#调用属性的方法\n",
    "BMW.move()\n",
    "BMW.toot()\n",
    "print(BMW.color)\n",
    "print(BMW.wheelNum)"
   ]
  },
  {
   "cell_type": "markdown",
   "metadata": {},
   "source": [
    "### __init__()方法的调用"
   ]
  },
  {
   "cell_type": "code",
   "execution_count": 3,
   "metadata": {},
   "outputs": [
    {
     "name": "stdout",
     "output_type": "stream",
     "text": [
      "车的颜色为:蓝色\n",
      "车轮胎数量为:4\n"
     ]
    }
   ],
   "source": [
    "# 定义汽车类\n",
    "class Car:\n",
    "\n",
    "    def __init__(self):\n",
    "        self.wheelNum = 4\n",
    "        self.color = '蓝色'\n",
    "\n",
    "    def move(self):\n",
    "        print('车在跑，目标:夏威夷')\n",
    "\n",
    "# 创建对象\n",
    "BMW = Car()\n",
    "\n",
    "print('车的颜色为:%s'%BMW.color)\n",
    "print('车轮胎数量为:%d'%BMW.wheelNum)"
   ]
  },
  {
   "cell_type": "markdown",
   "metadata": {},
   "source": [
    "当创建Car对象后，在没有调用__init__()方法的前提下，BMW就默认拥有了2个属性wheelNum和color，原因是__init__()方法是在创建对象后，就立刻被默认调用了"
   ]
  },
  {
   "cell_type": "code",
   "execution_count": null,
   "metadata": {},
   "outputs": [],
   "source": [
    "# 定义汽车类\n",
    "class Car:\n",
    "\n",
    "    def __init__(self, newWheelNum, newColor):\n",
    "        self.wheelNum = newWheelNum\n",
    "        self.color = newColor\n",
    "\n",
    "    def move(self):\n",
    "        print('车在跑，目标:夏威夷')\n",
    "\n",
    "# 创建对象\n",
    "BMW = Car(4, 'green')\n",
    "\n",
    "print('车的颜色为:%s'%BMW.color)\n",
    "print('车轮子数量为:%d'%BMW.wheelNum)"
   ]
  },
  {
   "cell_type": "markdown",
   "metadata": {},
   "source": [
    "理解类中的：self"
   ]
  },
  {
   "cell_type": "code",
   "execution_count": 4,
   "metadata": {},
   "outputs": [
    {
     "name": "stdout",
     "output_type": "stream",
     "text": [
      "名字为:小花\n",
      "名字为:小豆\n"
     ]
    }
   ],
   "source": [
    "# 定义一个类\n",
    "class Animal:\n",
    "\n",
    "    # 方法\n",
    "    def __init__(self, name):\n",
    "        self.name = name\n",
    "\n",
    "    def printName(self):\n",
    "        print('名字为:%s'%self.name)\n",
    "\n",
    "# 定义一个函数\n",
    "def myPrint(animal):\n",
    "    animal.printName()\n",
    "\n",
    "\n",
    "dog1 = Animal('小花')\n",
    "myPrint(dog1)\n",
    "\n",
    "dog2 = Animal('小豆')\n",
    "myPrint(dog2)"
   ]
  }
 ],
 "metadata": {
  "kernelspec": {
   "display_name": "Python 3",
   "language": "python",
   "name": "python3"
  },
  "language_info": {
   "codemirror_mode": {
    "name": "ipython",
    "version": 3
   },
   "file_extension": ".py",
   "mimetype": "text/x-python",
   "name": "python",
   "nbconvert_exporter": "python",
   "pygments_lexer": "ipython3",
   "version": "3.8.8"
  }
 },
 "nbformat": 4,
 "nbformat_minor": 1
}
