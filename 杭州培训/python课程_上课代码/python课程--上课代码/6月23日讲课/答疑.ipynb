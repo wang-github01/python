{
 "cells": [
  {
   "cell_type": "code",
   "execution_count": null,
   "id": "6a3fc586",
   "metadata": {},
   "outputs": [],
   "source": [
    "# 当输入浮点型的数据，就会报错\n",
    "# 1. 接收⽤户输⼊\n",
    "num = input('请输⼊一个数字：')\n",
    "# 2. 打印结果\n",
    "print(f\"您的数字是{num}\")\n",
    "# 3. 检测接收到的⽤户输⼊的数据类型 -- str类型\n",
    "print(type(num))\n",
    "# 4. 转换数据类型为整型 -- int类型\n",
    "print(type(int(num)))"
   ]
  },
  {
   "cell_type": "code",
   "execution_count": null,
   "id": "04dbc6d8",
   "metadata": {},
   "outputs": [],
   "source": [
    "# 当输入浮点型的数据，就不会报错了\n",
    "# 1. 接收⽤户输⼊\n",
    "num = input('请输⼊一个数字：')\n",
    "# 2. 打印结果\n",
    "print(f\"您的数字是{num}\")\n",
    "# 3. 检测接收到的⽤户输⼊的数据类型 -- str类型\n",
    "print(type(num))\n",
    "# 4. 转换数据类型为整型 -- int类型\n",
    "print(type(float(num)))"
   ]
  },
  {
   "cell_type": "code",
   "execution_count": 10,
   "id": "c37a26ac",
   "metadata": {},
   "outputs": [
    {
     "name": "stdout",
     "output_type": "stream",
     "text": [
      "12\n"
     ]
    }
   ],
   "source": [
    "a = 12.9\n",
    "b = int(a)\n",
    "print(b)"
   ]
  }
 ],
 "metadata": {
  "kernelspec": {
   "display_name": "Python 3",
   "language": "python",
   "name": "python3"
  },
  "language_info": {
   "codemirror_mode": {
    "name": "ipython",
    "version": 3
   },
   "file_extension": ".py",
   "mimetype": "text/x-python",
   "name": "python",
   "nbconvert_exporter": "python",
   "pygments_lexer": "ipython3",
   "version": "3.8.8"
  }
 },
 "nbformat": 4,
 "nbformat_minor": 5
}
