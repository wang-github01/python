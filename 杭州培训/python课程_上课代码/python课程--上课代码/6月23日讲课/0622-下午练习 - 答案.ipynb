{
 "cells": [
  {
   "cell_type": "markdown",
   "id": "a0da24f7",
   "metadata": {},
   "source": [
    "## 题1\n",
    "倒序输出列表[1,2,3,4,5]中的元素"
   ]
  },
  {
   "cell_type": "code",
   "execution_count": 1,
   "id": "83248563",
   "metadata": {},
   "outputs": [
    {
     "name": "stdout",
     "output_type": "stream",
     "text": [
      "5\n",
      "4\n",
      "3\n",
      "2\n",
      "1\n"
     ]
    }
   ],
   "source": [
    "a = [1,2,3,4,5]\n",
    "for i in a[::-1]:\n",
    "    print(i)"
   ]
  },
  {
   "cell_type": "markdown",
   "id": "aca5798d",
   "metadata": {},
   "source": [
    "## 题2（难度较大）\n",
    "编程解答：有1、2、3、4个数字，能组成多少个互不相同且无重复数字的三位数？都是多少？"
   ]
  },
  {
   "cell_type": "code",
   "execution_count": 2,
   "id": "38732c64",
   "metadata": {
    "scrolled": true
   },
   "outputs": [
    {
     "name": "stdout",
     "output_type": "stream",
     "text": [
      "1 2 3\n",
      "1 2 4\n",
      "1 3 2\n",
      "1 3 4\n",
      "1 4 2\n",
      "1 4 3\n",
      "2 1 3\n",
      "2 1 4\n",
      "2 3 1\n",
      "2 3 4\n",
      "2 4 1\n",
      "2 4 3\n",
      "3 1 2\n",
      "3 1 4\n",
      "3 2 1\n",
      "3 2 4\n",
      "3 4 1\n",
      "3 4 2\n",
      "4 1 2\n",
      "4 1 3\n",
      "4 2 1\n",
      "4 2 3\n",
      "4 3 1\n",
      "4 3 2\n",
      "共有 24 个\n"
     ]
    }
   ],
   "source": [
    "n = 0\n",
    "for i in range(1,5):      \n",
    "    for j in range(1,5):         \n",
    "        for k in range(1,5):              \n",
    "            if( i != k ) and (i != j) and (j != k):                 \n",
    "                print (i,j,k)\n",
    "                n = n + 1\n",
    "print('共有',n,'个')"
   ]
  },
  {
   "cell_type": "markdown",
   "id": "4ad25b39",
   "metadata": {},
   "source": [
    "## 题3\n",
    "\n",
    "编写代码，使用 if...elif...else 语句判断输入的一个数字是正数、负数或零："
   ]
  },
  {
   "cell_type": "code",
   "execution_count": 3,
   "id": "14458e1b",
   "metadata": {},
   "outputs": [
    {
     "name": "stdout",
     "output_type": "stream",
     "text": [
      "输入一个数字: 4\n",
      "正数\n"
     ]
    }
   ],
   "source": [
    "\n",
    "num = float(input(\"输入一个数字: \"))\n",
    "if num > 0:\n",
    "    print(\"正数\")\n",
    "elif num == 0:\n",
    "    print(\"零\")\n",
    "else:\n",
    "    print(\"负数\")"
   ]
  },
  {
   "cell_type": "markdown",
   "id": "eb8d69f3",
   "metadata": {},
   "source": [
    "## 题4：\n",
    "\n",
    "根据输入年龄，对称谓进行细致的分类：\n",
    "\n",
    "大于18岁，输出 adult，小于18岁大于6岁，输出teenager，小于6岁，输出kid。\n",
    "\n",
    "输出结果样例为：\n",
    "\n",
    "your age is 3\n",
    "\n",
    "kid"
   ]
  },
  {
   "cell_type": "code",
   "execution_count": 5,
   "id": "54e21dd5",
   "metadata": {},
   "outputs": [
    {
     "name": "stdout",
     "output_type": "stream",
     "text": [
      "your age is 3\n",
      "kid\n"
     ]
    }
   ],
   "source": [
    "age = 3\n",
    "if age >= 18:\n",
    "    print('your age is', age)\n",
    "    print('adult')\n",
    "elif age >= 6:\n",
    "    print('your age is', age)\n",
    "    print('teenager')\n",
    "else:\n",
    "    print('your age is', age)\n",
    "    print('kid')"
   ]
  },
  {
   "cell_type": "markdown",
   "id": "f6ac5b86",
   "metadata": {},
   "source": [
    "## 题5：\n",
    "\n",
    "请使用 if else 语句编写一个程序，程序要求如下：\n",
    "\n",
    "对任意输入正整数a和b，若a的平方加上b的平方的和大于100，则输出两数平方和的百位以上的数字（包含百位），否则输出两者较大数减去较小数的差。\n",
    "\n",
    "提示：可以用abs()函数获取数字的绝对值。"
   ]
  },
  {
   "cell_type": "code",
   "execution_count": 6,
   "id": "754b97b2",
   "metadata": {},
   "outputs": [
    {
     "name": "stdout",
     "output_type": "stream",
     "text": [
      "输入一个数字a: 3\n",
      "输入一个数字b：5\n",
      "2\n"
     ]
    }
   ],
   "source": [
    "\n",
    "a = int(input(\"输入一个数字a: \"))\n",
    "b = int(input(\"输入一个数字b：\"))\n",
    "def pfh(a,b):\n",
    "    return a**2+b**2\n",
    "if pfh(a,b) < 100:\n",
    "       print(abs(a-b))\n",
    "else:\n",
    "       print(int(pfh(a,b)/100))"
   ]
  },
  {
   "cell_type": "code",
   "execution_count": 9,
   "id": "bdc747ff",
   "metadata": {},
   "outputs": [
    {
     "name": "stdout",
     "output_type": "stream",
     "text": [
      "输入一个数字a: 6\n",
      "输入一个数字b：9\n",
      "1\n"
     ]
    }
   ],
   "source": [
    "a = int(input(\"输入一个数字a: \"))\n",
    "b = int(input(\"输入一个数字b：\"))\n",
    "def pfh(a,b):\n",
    "    return a**2+b**2\n",
    "if pfh(a,b) < 100:\n",
    "       print(abs(a-b))\n",
    "else:\n",
    "       print(pfh(a,b)//100)"
   ]
  },
  {
   "cell_type": "markdown",
   "id": "d0b304ee",
   "metadata": {},
   "source": []
  }
 ],
 "metadata": {
  "kernelspec": {
   "display_name": "Python 3",
   "language": "python",
   "name": "python3"
  },
  "language_info": {
   "codemirror_mode": {
    "name": "ipython",
    "version": 3
   },
   "file_extension": ".py",
   "mimetype": "text/x-python",
   "name": "python",
   "nbconvert_exporter": "python",
   "pygments_lexer": "ipython3",
   "version": "3.8.8"
  }
 },
 "nbformat": 4,
 "nbformat_minor": 5
}
