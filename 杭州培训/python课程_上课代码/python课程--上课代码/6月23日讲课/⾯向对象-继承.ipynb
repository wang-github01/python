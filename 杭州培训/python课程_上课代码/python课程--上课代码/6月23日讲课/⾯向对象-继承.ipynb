{
 "cells": [
  {
   "cell_type": "markdown",
   "metadata": {},
   "source": [
    "# 面向对象-继承\n"
   ]
  },
  {
   "cell_type": "markdown",
   "metadata": {},
   "source": [
    "# 1. 继承的概念\n",
    "⽣活中的继承，⼀般指的是⼦⼥继承⽗辈的财产。\n",
    "\n",
    "python中的 继承    描述的是事物之间的所属关系。\n",
    "\n",
    "例如  猫是哺乳动物，那么就继承有哺乳动物的特点，而短耳猫又属于猫的一种，那么短耳猫也就继承了猫的性质，也具有哺乳动物的性质。\n",
    "\n"
   ]
  },
  {
   "cell_type": "markdown",
   "metadata": {},
   "source": [
    "## 单继承"
   ]
  },
  {
   "cell_type": "code",
   "execution_count": 5,
   "metadata": {},
   "outputs": [
    {
     "name": "stdout",
     "output_type": "stream",
     "text": [
      "bs的名字为:印度猫\n",
      "bs的颜色为:白色\n",
      "印度猫--在吃\n",
      "波斯--在跑\n"
     ]
    }
   ],
   "source": [
    "# 定义一个父类，如下:\n",
    "class Cat(object):\n",
    "\n",
    "    def __init__(self, name, color=\"白色\"):\n",
    "        self.name = name\n",
    "        self.color = color\n",
    "\n",
    "    def run(self):\n",
    "        print(\"%s--在跑\"%self.name)\n",
    "\n",
    "\n",
    "# 定义一个子类，继承Cat类如下:\n",
    "class Bosi(Cat):\n",
    "\n",
    "    def setNewName(self, newName):\n",
    "        self.name = newName\n",
    "\n",
    "    def eat(self):\n",
    "        print(\"%s--在吃\"%self.name)\n",
    "\n",
    "\n",
    "bs = Bosi(\"印度猫\")\n",
    "print('bs的名字为:%s'%bs.name)\n",
    "print('bs的颜色为:%s'%bs.color)  #子类中没有color这个属性呀，那是从哪里来的？继承自父类的__init__方法\n",
    "bs.eat()\n",
    "bs.setNewName('波斯')\n",
    "bs.run() #子类中没有run这个方法呀，从哪里来？继承自父类"
   ]
  },
  {
   "cell_type": "markdown",
   "metadata": {},
   "source": [
    "在Python中，所有类默认继承object类，object类是顶级类或基类；其他⼦类叫做派⽣类。"
   ]
  },
  {
   "cell_type": "markdown",
   "metadata": {},
   "source": [
    "虽然子类没有定义__init__方法，但是父类有，所以在子类继承父类的时候这个方法就被继承了，所以只要创建Bosi的对象，就默认执行了那个继承过来的__init__方法"
   ]
  },
  {
   "cell_type": "markdown",
   "metadata": {},
   "source": [
    "### 小结\n",
    "- > 子类在继承的时候，在定义类时，小括号()中为父类的名字\n",
    "- > 父类的属性、方法，会被继承给子类"
   ]
  },
  {
   "cell_type": "markdown",
   "metadata": {},
   "source": [
    "## 多继承\n",
    "\n",
    "狮虎兽，继承有狮子的基因，也具有老虎的基因。\n",
    "\n",
    "所谓多继承，即子类有多个父类，并且具有它们的特征"
   ]
  },
  {
   "cell_type": "code",
   "execution_count": 7,
   "metadata": {},
   "outputs": [
    {
     "name": "stdout",
     "output_type": "stream",
     "text": [
      "----A----\n",
      "----B----\n"
     ]
    }
   ],
   "source": [
    "\n",
    "# 定义一个父类\n",
    "class A:\n",
    "    def printA(self):\n",
    "        print('----A----')\n",
    "\n",
    "# 定义一个父类\n",
    "class B:\n",
    "    def printB(self):\n",
    "        print('----B----')\n",
    "\n",
    "# 定义一个子类，继承自A、B\n",
    "class C(A,B):\n",
    "    def printC(self):\n",
    "        print('----C----')\n",
    "\n",
    "obj_C = C()\n",
    "obj_C.printA() #子类既可以调用父类A的方法\n",
    "obj_C.printB() #子类也可以调用父类B的方法"
   ]
  },
  {
   "cell_type": "markdown",
   "metadata": {},
   "source": [
    "### 想一想:\n",
    "如果在上面的多继承例子中，如果父类A和父类B中，有一个同名的方法，那么通过子类去调用的时候，调用哪个？"
   ]
  },
  {
   "cell_type": "markdown",
   "metadata": {},
   "source": [
    "#### 1. 重写父类方法\n",
    "所谓重写，就是子类中，有一个和父类相同名字的方法，在子类中的方法会覆盖掉父类中同名的方法"
   ]
  },
  {
   "cell_type": "code",
   "execution_count": 8,
   "metadata": {},
   "outputs": [
    {
     "name": "stdout",
     "output_type": "stream",
     "text": [
      "halou-----2\n"
     ]
    }
   ],
   "source": [
    "#coding=utf-8\n",
    "class Cat(object):\n",
    "    def sayHello(self):\n",
    "        print(\"halou-----1\")\n",
    "\n",
    "\n",
    "class Bosi(Cat):\n",
    "\n",
    "    def sayHello(self):\n",
    "        print(\"halou-----2\")\n",
    "\n",
    "bosi = Bosi()\n",
    "\n",
    "bosi.sayHello()"
   ]
  },
  {
   "cell_type": "markdown",
   "metadata": {},
   "source": [
    "#### 2. 调用父类的方法"
   ]
  },
  {
   "cell_type": "code",
   "execution_count": 13,
   "metadata": {},
   "outputs": [
    {
     "name": "stdout",
     "output_type": "stream",
     "text": [
      "3\n"
     ]
    }
   ],
   "source": [
    "class A:\n",
    "     def add(self, x):\n",
    "            y = x+1\n",
    "            print(y)\n",
    "class B(A):\n",
    "    def add(self, x):\n",
    "        super().add(x)\n",
    "b = B()\n",
    "b.add(2)  # 3"
   ]
  },
  {
   "cell_type": "markdown",
   "metadata": {},
   "source": [
    "Python⾯向对象的继承指的是多个类之间的所属关系，即⼦类默认继承⽗类的所有属性和⽅法，具体如下："
   ]
  },
  {
   "cell_type": "code",
   "execution_count": 2,
   "metadata": {},
   "outputs": [
    {
     "name": "stdout",
     "output_type": "stream",
     "text": [
      "1\n"
     ]
    }
   ],
   "source": [
    "# ⽗类A\n",
    "class A(object):\n",
    "    def __init__(self):\n",
    "        self.num = 1\n",
    "    def info_print(self):\n",
    "        print(self.num)\n",
    "\n",
    "# ⼦类B\n",
    "class B(A):\n",
    "    pass\n",
    "\n",
    "result = B()\n",
    "result.info_print() # 1"
   ]
  }
 ],
 "metadata": {
  "kernelspec": {
   "display_name": "Python 3",
   "language": "python",
   "name": "python3"
  },
  "language_info": {
   "codemirror_mode": {
    "name": "ipython",
    "version": 3
   },
   "file_extension": ".py",
   "mimetype": "text/x-python",
   "name": "python",
   "nbconvert_exporter": "python",
   "pygments_lexer": "ipython3",
   "version": "3.8.8"
  }
 },
 "nbformat": 4,
 "nbformat_minor": 1
}
