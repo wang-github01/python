{
 "cells": [
  {
   "cell_type": "markdown",
   "metadata": {},
   "source": [
    "## 文件操作"
   ]
  },
  {
   "cell_type": "markdown",
   "metadata": {},
   "source": [
    "### 1. ⽂件操作的作用\n",
    "思考：什么是⽂件？\n",
    "\n",
    "\n",
    "思考：⽂件操作包含什么？  \n",
    "答：打开、关闭、读、写、复制....  \n",
    "思考：⽂件操作的的作⽤是什么？  \n",
    "答：读取内容、写⼊内容、备份内容.....  \n",
    "\n",
    ">总结：⽂件操作的作⽤就是把⼀些内容(数据)存储存放起来，可以让程序下⼀次执⾏的时候直接使\n",
    "⽤，⽽不必重新制作⼀份，省时省⼒"
   ]
  },
  {
   "cell_type": "markdown",
   "metadata": {},
   "source": [
    "### 2.⽂件的基本操作\n",
    "#### 2.1 文件操作步骤\n",
    "1. 打开⽂件\n",
    "2. 读写等操作\n",
    "3. 关闭⽂件\n",
    "> 注意：可以只打开和关闭⽂件，不进⾏任何读写操作\n",
    "#### 2.1.1 打开\n",
    "在python，使⽤open函数，可以打开⼀个已经存在的⽂件，或者创建⼀个新⽂件，语法如下：\n",
    "```python\n",
    "open(name, mode)\n",
    "```\n",
    "name：是要打开的⽬标⽂件名的字符串(可以包含⽂件所在的具体路径)。  \n",
    "mode：设置打开⽂件的模式(访问模式)：只读、写⼊、追加等"
   ]
  },
  {
   "cell_type": "markdown",
   "metadata": {},
   "source": [
    "##### 2.1.1.1 打开⽂件模式\n",
    "\n",
    "|  模式   | 描述  |\n",
    "|  :----  | :----  |\n",
    "| r  | 以只读⽅式打开⽂件。⽂件的指针将会放在⽂件的开头。这是默认模式。 |\n",
    "| rb  | 以⼆进制格式打开⼀个⽂件⽤于只读。⽂件指针将会放在⽂件的开头。这是默认模式。 |\n",
    "| r+  | 打开⼀个⽂件⽤于读写。⽂件指针将会放在⽂件的开头 |\n",
    "| rb+  | 以⼆进制格式打开⼀个⽂件⽤于读写。⽂件指针将会放在⽂件的开头。 |\n",
    "| w  | 打开⼀个⽂件只⽤于写⼊。如果该⽂件已存在则打开⽂件，并从开头开始编辑，即原有内容会被删除。如果该⽂件不存在，创建新⽂件 |\n",
    "| wb  | 以⼆进制格式打开⼀个⽂件只⽤于写⼊。如果该⽂件已存在则打开⽂件，并从开头开始编辑，即原有内容会被删除。如果该⽂件不存在，创建新⽂件 |\n",
    "| w+  | 打开⼀个⽂件⽤于读写。如果该⽂件已存在则打开⽂件，并从开头开始编辑，即原有内容会被删除。如果该⽂件不存在，创建新⽂件 |\n",
    "| wb+  |  以⼆进制格式打开⼀个⽂件⽤于读写。如果该⽂件已存在则打开⽂件，并从开头开始编辑，即原有内容会被删除。如果该⽂件不存在，创建新⽂件 |\n",
    "| a  | 打开⼀个⽂件⽤于追加。如果该⽂件已存在，⽂件指针将会放在⽂件的结尾。也就是说，新的内容将会被写⼊到已有内容之后。如果该⽂件不存在，创建新⽂件进⾏写⼊ |\n",
    "| ab | 以⼆进制格式打开⼀个⽂件⽤于追加。如果该⽂件已存在，⽂件指针将会放在⽂件的结尾。也就是说，新的内容将会被写⼊到已有内容之后。如果该⽂件不存在，创建新⽂件进⾏写⼊。 |\n",
    "| a+  | 打开⼀个⽂件⽤于读写。如果该⽂件已存在，⽂件指针将会放在⽂件的结尾。⽂件打开时会是追加模式。如果该⽂件不存在，创建新⽂件⽤于读写 |\n",
    "| ab+  | 以⼆进制格式打开⼀个⽂件⽤于追加。如果该⽂件已存在，⽂件指针将会放在⽂件的结尾。如果该⽂件不存在，创建新⽂件⽤于读写。 |\n",
    "\n",
    "\n"
   ]
  },
  {
   "cell_type": "markdown",
   "metadata": {},
   "source": [
    "##### 2.1.1.2 快速体验"
   ]
  },
  {
   "cell_type": "code",
   "execution_count": 1,
   "metadata": {},
   "outputs": [],
   "source": [
    "f = open('test.txt', 'w')"
   ]
  },
  {
   "cell_type": "markdown",
   "metadata": {},
   "source": [
    "> 注意：此时的 f 是 open 函数的⽂件对象"
   ]
  },
  {
   "cell_type": "markdown",
   "metadata": {},
   "source": [
    "#### 2.1.2 ⽂件对象⽅法\n",
    "##### 2.1.2.1 写\n",
    "- 语法\n",
    "```python\n",
    "对象对象.write('内容')\n",
    "```\n",
    "- 体验"
   ]
  },
  {
   "cell_type": "code",
   "execution_count": 9,
   "metadata": {},
   "outputs": [],
   "source": [
    "# 1. 打开⽂件\n",
    "f = open('test.txt', 'w')\n",
    "\n",
    "# 2.⽂件写⼊\n",
    "f.write('hello world')\n",
    "\n",
    "# 3. 关闭⽂件\n",
    "f.close()"
   ]
  },
  {
   "cell_type": "markdown",
   "metadata": {},
   "source": [
    ">注意：\n",
    "1. w 和 a 模式：如果⽂件不存在则创建该⽂件；如果⽂件存在， w 模式先清空再写⼊， a 模式\n",
    "直接末尾追加。\n",
    "2. r 模式：如果⽂件不存在则报错"
   ]
  },
  {
   "cell_type": "markdown",
   "metadata": {},
   "source": [
    "##### 2.1.2.2 读\n",
    "- read()\n",
    "```python\n",
    "⽂件对象.read(num)\n",
    "```\n",
    ">num表示要从⽂件中读取的数据的⻓度（单位是字节），如果没有传⼊num，那么就表示读取⽂\n",
    "件中所有的数据\n",
    "\n",
    "- readlines()  \n",
    "readlines可以按照⾏的⽅式把整个⽂件中的内容进⾏⼀次性读取，并且返回的是⼀个列表，其中每⼀⾏\n",
    "的数据为⼀个元素"
   ]
  },
  {
   "cell_type": "code",
   "execution_count": 10,
   "metadata": {},
   "outputs": [
    {
     "name": "stdout",
     "output_type": "stream",
     "text": [
      "['hello world']\n"
     ]
    }
   ],
   "source": [
    "f = open('test.txt')\n",
    "content = f.readlines()\n",
    "print(content)\n",
    "\n",
    "# 关闭⽂件\n",
    "f.close()"
   ]
  },
  {
   "cell_type": "markdown",
   "metadata": {},
   "source": [
    "- readline()  \n",
    "readline()⼀次读取⼀⾏内容"
   ]
  },
  {
   "cell_type": "code",
   "execution_count": 11,
   "metadata": {},
   "outputs": [
    {
     "name": "stdout",
     "output_type": "stream",
     "text": [
      "第⼀⾏：hello world\n",
      "第⼆⾏：\n"
     ]
    }
   ],
   "source": [
    "f = open('test.txt')\n",
    "content = f.readline()\n",
    "print(f'第⼀⾏：{content}')\n",
    "content = f.readline()\n",
    "print(f'第⼆⾏：{content}')\n",
    "# 关闭⽂件\n",
    "f.close()"
   ]
  },
  {
   "cell_type": "markdown",
   "metadata": {},
   "source": [
    "### 3. ⽂件和⽂件夹的操作"
   ]
  },
  {
   "cell_type": "markdown",
   "metadata": {},
   "source": [
    "在Python中⽂件和⽂件夹的操作要借助os模块⾥⾯的相关功能，具体步骤如下：\n",
    "1. 导⼊os模块"
   ]
  },
  {
   "cell_type": "code",
   "execution_count": 4,
   "metadata": {},
   "outputs": [],
   "source": [
    "import os"
   ]
  },
  {
   "cell_type": "markdown",
   "metadata": {},
   "source": [
    "2. 使⽤ os 模块相关功能\n",
    "```python\n",
    "os.函数名()\n",
    "```"
   ]
  },
  {
   "cell_type": "markdown",
   "metadata": {},
   "source": [
    "#### 4.1 ⽂件重命名\n",
    "```python\n",
    "os.rename(⽬标⽂件名, 新⽂件名)\n",
    "```\n",
    "#### 4.2 删除⽂件\n",
    "```python\n",
    "os.remove(⽬标⽂件名)\n",
    "```\n",
    "#### 4.3 创建⽂件夹\n",
    "```python\n",
    "os.mkdir(⽂件夹名字)\n",
    "```\n",
    "#### 4.4 删除⽂件夹\n",
    "```python\n",
    "os.rmdir(⽂件夹名字)\n",
    "```\n",
    "#### 4.5 用于返回当前工作目录。\n",
    "```python\n",
    "os.getcwd()\n",
    "```\n",
    "\n",
    "#### 4.7 返回指定的文件夹包含的文件或文件夹的名字的列表\n",
    "```python\n",
    "os.listdir(⽬录)\n",
    "```\n"
   ]
  },
  {
   "cell_type": "code",
   "execution_count": null,
   "metadata": {},
   "outputs": [],
   "source": []
  }
 ],
 "metadata": {
  "kernelspec": {
   "display_name": "Python 3",
   "language": "python",
   "name": "python3"
  },
  "language_info": {
   "codemirror_mode": {
    "name": "ipython",
    "version": 3
   },
   "file_extension": ".py",
   "mimetype": "text/x-python",
   "name": "python",
   "nbconvert_exporter": "python",
   "pygments_lexer": "ipython3",
   "version": "3.8.8"
  }
 },
 "nbformat": 4,
 "nbformat_minor": 4
}
